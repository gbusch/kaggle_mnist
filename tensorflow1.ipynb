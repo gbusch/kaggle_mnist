{
 "cells": [
  {
   "cell_type": "code",
   "execution_count": 1,
   "metadata": {
    "collapsed": true
   },
   "outputs": [],
   "source": [
    "import pandas as pd\n",
    "import numpy as np\n",
    "import matplotlib.pyplot as plt\n",
    "from sklearn.model_selection import train_test_split\n",
    "import tensorflow as tf"
   ]
  },
  {
   "cell_type": "code",
   "execution_count": 2,
   "metadata": {
    "collapsed": true
   },
   "outputs": [],
   "source": [
    "data = pd.read_csv(\"./input/train.csv\")"
   ]
  },
  {
   "cell_type": "code",
   "execution_count": 8,
   "metadata": {},
   "outputs": [
    {
     "name": "stdout",
     "output_type": "stream",
     "text": [
      "Label: 1\n"
     ]
    },
    {
     "data": {
      "image/png": "[encoded data removed]",
      "text/plain": [
       "<Figure size 432x288 with 1 Axes>"
      ]
     },
     "metadata": {},
     "output_type": "display_data"
    }
   ],
   "source": [
    "def plot_img(i, X=X, Y=Y):\n",
    "    print(\"Label: {}\".format(Y[i]))\n",
    "    plt.close()\n",
    "    plt.figure()\n",
    "    plt.imshow(X[i,:,:])\n",
    "    plt.show()\n",
    "\n",
    "plot_img(12)"
   ]
  },
  {
   "cell_type": "code",
   "execution_count": 3,
   "metadata": {
    "collapsed": true
   },
   "outputs": [],
   "source": [
    "m = len(data)\n",
    "X = np.array(data.loc[:, data.columns != 'label'])\n",
    "X = X.reshape(m, 28, 28)\n",
    "Y = np.array(data['label'])"
   ]
  },
  {
   "cell_type": "code",
   "execution_count": 4,
   "metadata": {},
   "outputs": [
    {
     "name": "stdout",
     "output_type": "stream",
     "text": [
      "Shape of X: (42000, 28, 28), shape of Y: (42000,)\n"
     ]
    }
   ],
   "source": [
    "print(\"Shape of X: {}, shape of Y: {}\".format(X.shape, Y.shape))"
   ]
  },
  {
   "cell_type": "code",
   "execution_count": 5,
   "metadata": {
    "collapsed": true
   },
   "outputs": [],
   "source": [
    "X_train, X_test, y_train, y_test = train_test_split(X, Y, random_state=0)"
   ]
  },
  {
   "cell_type": "code",
   "execution_count": 6,
   "metadata": {},
   "outputs": [
    {
     "name": "stdout",
     "output_type": "stream",
     "text": [
      "Shape of X_train: (31500, 28, 28), shape of y_train: (31500,)\n",
      "Shape of X_test: (10500, 28, 28), shape of y_test: (10500,)\n"
     ]
    }
   ],
   "source": [
    "print(\"Shape of X_train: {}, shape of y_train: {}\".format(X_train.shape, y_train.shape))\n",
    "print(\"Shape of X_test: {}, shape of y_test: {}\".format(X_test.shape, y_test.shape))"
   ]
  },
  {
   "cell_type": "code",
   "execution_count": 7,
   "metadata": {
    "collapsed": true
   },
   "outputs": [],
   "source": [
    "X_train = X_train.astype('float32')\n",
    "X_test = X_test.astype('float32')"
   ]
  },
  {
   "cell_type": "code",
   "execution_count": 9,
   "metadata": {
    "collapsed": true
   },
   "outputs": [],
   "source": [
    "def cnn_model(features, labels, mode):\n",
    "    #input layer\n",
    "    input_layer = tf.reshape(features['x'], [-1, 28, 28, 1])\n",
    "    \n",
    "    #conv layer 1\n",
    "    conv1 = tf.layers.conv2d(inputs=input_layer, filters=32, kernel_size=[5, 5], padding=\"same\", activation=tf.nn.relu)\n",
    "    \n",
    "    #pooling layer 1\n",
    "    pool1 = tf.layers.max_pooling2d(inputs=conv1, pool_size=[2, 2], strides=2)\n",
    "    \n",
    "    #conv layer 2\n",
    "    conv2 = tf.layers.conv2d(inputs=pool1, filters=64, kernel_size=[5, 5], padding=\"same\", activation=tf.nn.relu)\n",
    "    \n",
    "    #pooling layer 2\n",
    "    pool2 = tf.layers.max_pooling2d(inputs=conv2, pool_size=[2, 2], strides=2)\n",
    "    \n",
    "    #flatten the pooling output to feed in dense layer\n",
    "    pool2_flat = tf.reshape(pool2, [-1, 7 * 7 * 64])\n",
    "    \n",
    "    #dense layer\n",
    "    dense = tf.layers.dense(inputs=pool2_flat, units=1024, activation=tf.nn.relu)\n",
    "    \n",
    "    #dropoout layer\n",
    "    dropout = tf.layers.dropout(inputs=dense, rate=0.4, training=mode == tf.estimator.ModeKeys.TRAIN)\n",
    "    \n",
    "    #logits layer\n",
    "    logits = tf.layers.dense(inputs=dropout, units=10)\n",
    "    \n",
    "    #create dictionary with predicted classes and their probabilities\n",
    "    predictions = {\"classes\": tf.argmax(input=logits, axis=1), \"probabilities\": tf.nn.softmax(logits, name=\"softmax_tensor\")}\n",
    "    if mode == tf.estimator.ModeKeys.PREDICT:\n",
    "        return tf.estimator.EstimatorSpec(mode=mode, predictions=predictions)\n",
    "    \n",
    "    #calculate loss\n",
    "    loss = tf.losses.sparse_softmax_cross_entropy(labels=labels, logits=logits)\n",
    "    \n",
    "    if mode == tf.estimator.ModeKeys.TRAIN:\n",
    "        optimizer = tf.train.GradientDescentOptimizer(learning_rate=0.001)\n",
    "        train_op = optimizer.minimize(loss=loss, global_step=tf.train.get_global_step())\n",
    "        return tf.estimator.EstimatorSpec(mode=mode, loss=loss, train_op=train_op)\n",
    "    \n",
    "    eval_metric_ops = {\"accuracy\": tf.metrics.accuracy(labels=labels, predictions=predictions[\"classes\"])}\n",
    "    return tf.estimator.EstimatorSpec(mode=mode, loss=loss, eval_metric_ops=eval_metric_ops)"
   ]
  },
  {
   "cell_type": "code",
   "execution_count": 10,
   "metadata": {
    "collapsed": true
   },
   "outputs": [],
   "source": [
    "def main(unused_argv):\n",
    "    # Create the Estimator\n",
    "    mnist_classifier = tf.estimator.Estimator(model_fn=cnn_model, model_dir=\"./tmp/mnist_convnet_model\")\n",
    "    \n",
    "    # Train the model\n",
    "    train_input_fn = tf.estimator.inputs.numpy_input_fn(x={\"x\": X_train}, y=y_train, batch_size=100, num_epochs=None, shuffle=True)\n",
    "    mnist_classifier.train(input_fn=train_input_fn, steps=10000)\n",
    "    \n",
    "    return mnist_classifier"
   ]
  },
  {
   "cell_type": "code",
   "execution_count": 11,
   "metadata": {
    "scrolled": false
   },
   "outputs": [
    {
     "name": "stdout",
     "output_type": "stream",
     "text": [
      "INFO:tensorflow:Using default config.\n",
      "INFO:tensorflow:Using config: {'_model_dir': './tmp/mnist_convnet_model', '_tf_random_seed': None, '_save_summary_steps': 100, '_save_checkpoints_steps': None, '_save_checkpoints_secs': 600, '_session_config': None, '_keep_checkpoint_max': 5, '_keep_checkpoint_every_n_hours': 10000, '_log_step_count_steps': 100, '_service': None, '_cluster_spec': <tensorflow.python.training.server_lib.ClusterSpec object at 0x7fbf62b1c278>, '_task_type': 'worker', '_task_id': 0, '_master': '', '_is_chief': True, '_num_ps_replicas': 0, '_num_worker_replicas': 1}\n",
      "INFO:tensorflow:Create CheckpointSaverHook.\n",
      "INFO:tensorflow:Restoring parameters from ./tmp/mnist_convnet_model/model.ckpt-1\n",
      "INFO:tensorflow:Saving checkpoints for 2 into ./tmp/mnist_convnet_model/model.ckpt.\n",
      "INFO:tensorflow:loss = 43.505054, step = 2\n",
      "INFO:tensorflow:global_step/sec: 124.449\n",
      "INFO:tensorflow:loss = 0.7369064, step = 102 (0.806 sec)\n",
      "INFO:tensorflow:global_step/sec: 142.672\n",
      "INFO:tensorflow:loss = 0.41472965, step = 202 (0.700 sec)\n",
      "INFO:tensorflow:global_step/sec: 145.841\n",
      "INFO:tensorflow:loss = 0.2537198, step = 302 (0.685 sec)\n",
      "INFO:tensorflow:global_step/sec: 139.793\n",
      "INFO:tensorflow:loss = 0.24125572, step = 402 (0.715 sec)\n",
      "INFO:tensorflow:global_step/sec: 143.883\n",
      "INFO:tensorflow:loss = 0.2035212, step = 502 (0.695 sec)\n",
      "INFO:tensorflow:global_step/sec: 146.32\n",
      "INFO:tensorflow:loss = 0.14005329, step = 602 (0.684 sec)\n",
      "INFO:tensorflow:global_step/sec: 144.281\n",
      "INFO:tensorflow:loss = 0.16318408, step = 702 (0.693 sec)\n",
      "INFO:tensorflow:global_step/sec: 145.833\n",
      "INFO:tensorflow:loss = 0.22970827, step = 802 (0.686 sec)\n",
      "INFO:tensorflow:global_step/sec: 146.122\n",
      "INFO:tensorflow:loss = 0.08147374, step = 902 (0.684 sec)\n",
      "INFO:tensorflow:global_step/sec: 145.776\n",
      "INFO:tensorflow:loss = 0.14388987, step = 1002 (0.686 sec)\n",
      "INFO:tensorflow:global_step/sec: 145.926\n",
      "INFO:tensorflow:loss = 0.17836598, step = 1102 (0.685 sec)\n",
      "INFO:tensorflow:global_step/sec: 145.421\n",
      "INFO:tensorflow:loss = 0.13096768, step = 1202 (0.688 sec)\n",
      "INFO:tensorflow:global_step/sec: 146.17\n",
      "INFO:tensorflow:loss = 0.30261227, step = 1302 (0.684 sec)\n",
      "INFO:tensorflow:global_step/sec: 146.672\n",
      "INFO:tensorflow:loss = 0.14536822, step = 1402 (0.681 sec)\n",
      "INFO:tensorflow:global_step/sec: 146.374\n",
      "INFO:tensorflow:loss = 0.17324844, step = 1502 (0.683 sec)\n",
      "INFO:tensorflow:global_step/sec: 146.42\n",
      "INFO:tensorflow:loss = 0.17114127, step = 1602 (0.683 sec)\n",
      "INFO:tensorflow:global_step/sec: 148.441\n",
      "INFO:tensorflow:loss = 0.1411602, step = 1702 (0.673 sec)\n",
      "INFO:tensorflow:global_step/sec: 145.443\n",
      "INFO:tensorflow:loss = 0.0494913, step = 1802 (0.687 sec)\n",
      "INFO:tensorflow:global_step/sec: 147.252\n",
      "INFO:tensorflow:loss = 0.074925624, step = 1902 (0.679 sec)\n",
      "INFO:tensorflow:global_step/sec: 146.324\n",
      "INFO:tensorflow:loss = 0.054644898, step = 2002 (0.683 sec)\n",
      "INFO:tensorflow:global_step/sec: 145.933\n",
      "INFO:tensorflow:loss = 0.07853514, step = 2102 (0.685 sec)\n",
      "INFO:tensorflow:global_step/sec: 145.781\n",
      "INFO:tensorflow:loss = 0.05152339, step = 2202 (0.686 sec)\n",
      "INFO:tensorflow:global_step/sec: 144.763\n",
      "INFO:tensorflow:loss = 0.09078997, step = 2302 (0.691 sec)\n",
      "INFO:tensorflow:global_step/sec: 144.02\n",
      "INFO:tensorflow:loss = 0.17104754, step = 2402 (0.696 sec)\n",
      "INFO:tensorflow:global_step/sec: 144.862\n",
      "INFO:tensorflow:loss = 0.079336226, step = 2502 (0.689 sec)\n",
      "INFO:tensorflow:global_step/sec: 145.404\n",
      "INFO:tensorflow:loss = 0.05644981, step = 2602 (0.688 sec)\n",
      "INFO:tensorflow:global_step/sec: 146.36\n",
      "INFO:tensorflow:loss = 0.04701362, step = 2702 (0.683 sec)\n",
      "INFO:tensorflow:global_step/sec: 144.249\n",
      "INFO:tensorflow:loss = 0.09144161, step = 2802 (0.693 sec)\n",
      "INFO:tensorflow:global_step/sec: 144.982\n",
      "INFO:tensorflow:loss = 0.07805928, step = 2902 (0.691 sec)\n",
      "INFO:tensorflow:global_step/sec: 143.821\n",
      "INFO:tensorflow:loss = 0.13378865, step = 3002 (0.695 sec)\n",
      "INFO:tensorflow:global_step/sec: 146.099\n",
      "INFO:tensorflow:loss = 0.04779979, step = 3102 (0.684 sec)\n",
      "INFO:tensorflow:global_step/sec: 144.896\n",
      "INFO:tensorflow:loss = 0.10712737, step = 3202 (0.689 sec)\n",
      "INFO:tensorflow:global_step/sec: 147.211\n",
      "INFO:tensorflow:loss = 0.044649385, step = 3302 (0.680 sec)\n",
      "INFO:tensorflow:global_step/sec: 147.04\n",
      "INFO:tensorflow:loss = 0.09268093, step = 3402 (0.680 sec)\n",
      "INFO:tensorflow:global_step/sec: 146.266\n",
      "INFO:tensorflow:loss = 0.093673356, step = 3502 (0.682 sec)\n",
      "INFO:tensorflow:global_step/sec: 145.001\n",
      "INFO:tensorflow:loss = 0.06719488, step = 3602 (0.690 sec)\n",
      "INFO:tensorflow:global_step/sec: 146.807\n",
      "INFO:tensorflow:loss = 0.07056235, step = 3702 (0.681 sec)\n",
      "INFO:tensorflow:global_step/sec: 145.835\n",
      "INFO:tensorflow:loss = 0.043666612, step = 3802 (0.686 sec)\n",
      "INFO:tensorflow:global_step/sec: 146.661\n",
      "INFO:tensorflow:loss = 0.0468586, step = 3902 (0.682 sec)\n",
      "INFO:tensorflow:global_step/sec: 147.457\n",
      "INFO:tensorflow:loss = 0.025972547, step = 4002 (0.678 sec)\n",
      "INFO:tensorflow:global_step/sec: 145.764\n",
      "INFO:tensorflow:loss = 0.042448007, step = 4102 (0.686 sec)\n",
      "INFO:tensorflow:global_step/sec: 142.698\n",
      "INFO:tensorflow:loss = 0.11163344, step = 4202 (0.701 sec)\n",
      "INFO:tensorflow:global_step/sec: 145.68\n",
      "INFO:tensorflow:loss = 0.07917565, step = 4302 (0.686 sec)\n",
      "INFO:tensorflow:global_step/sec: 144.426\n",
      "INFO:tensorflow:loss = 0.026956476, step = 4402 (0.693 sec)\n",
      "INFO:tensorflow:global_step/sec: 143.876\n",
      "INFO:tensorflow:loss = 0.027895631, step = 4502 (0.695 sec)\n",
      "INFO:tensorflow:global_step/sec: 147.166\n",
      "INFO:tensorflow:loss = 0.07485022, step = 4602 (0.681 sec)\n",
      "INFO:tensorflow:global_step/sec: 143.31\n",
      "INFO:tensorflow:loss = 0.16496275, step = 4702 (0.698 sec)\n",
      "INFO:tensorflow:global_step/sec: 143.572\n",
      "INFO:tensorflow:loss = 0.01880567, step = 4802 (0.695 sec)\n",
      "INFO:tensorflow:global_step/sec: 146.314\n",
      "INFO:tensorflow:loss = 0.044546843, step = 4902 (0.683 sec)\n",
      "INFO:tensorflow:global_step/sec: 143.228\n",
      "INFO:tensorflow:loss = 0.016134072, step = 5002 (0.698 sec)\n",
      "INFO:tensorflow:global_step/sec: 146.81\n",
      "INFO:tensorflow:loss = 0.09781874, step = 5102 (0.681 sec)\n",
      "INFO:tensorflow:global_step/sec: 145.005\n",
      "INFO:tensorflow:loss = 0.046130057, step = 5202 (0.690 sec)\n",
      "INFO:tensorflow:global_step/sec: 144.641\n",
      "INFO:tensorflow:loss = 0.030303685, step = 5302 (0.691 sec)\n",
      "INFO:tensorflow:global_step/sec: 140.653\n",
      "INFO:tensorflow:loss = 0.04979385, step = 5402 (0.712 sec)\n",
      "INFO:tensorflow:global_step/sec: 140.973\n",
      "INFO:tensorflow:loss = 0.044947032, step = 5502 (0.709 sec)\n",
      "INFO:tensorflow:global_step/sec: 144.379\n",
      "INFO:tensorflow:loss = 0.037880406, step = 5602 (0.692 sec)\n",
      "INFO:tensorflow:global_step/sec: 144.989\n",
      "INFO:tensorflow:loss = 0.13409953, step = 5702 (0.690 sec)\n",
      "INFO:tensorflow:global_step/sec: 144.189\n",
      "INFO:tensorflow:loss = 0.15342711, step = 5802 (0.694 sec)\n",
      "INFO:tensorflow:global_step/sec: 145.98\n",
      "INFO:tensorflow:loss = 0.02723216, step = 5902 (0.686 sec)\n",
      "INFO:tensorflow:global_step/sec: 145.325\n",
      "INFO:tensorflow:loss = 0.15244752, step = 6002 (0.688 sec)\n",
      "INFO:tensorflow:global_step/sec: 145.667\n",
      "INFO:tensorflow:loss = 0.027197653, step = 6102 (0.685 sec)\n",
      "INFO:tensorflow:global_step/sec: 146.729\n",
      "INFO:tensorflow:loss = 0.048806157, step = 6202 (0.681 sec)\n",
      "INFO:tensorflow:global_step/sec: 145.451\n",
      "INFO:tensorflow:loss = 0.0064400714, step = 6302 (0.687 sec)\n",
      "INFO:tensorflow:global_step/sec: 146.392\n",
      "INFO:tensorflow:loss = 0.10651922, step = 6402 (0.683 sec)\n",
      "INFO:tensorflow:global_step/sec: 145.674\n",
      "INFO:tensorflow:loss = 0.049811646, step = 6502 (0.687 sec)\n",
      "INFO:tensorflow:global_step/sec: 146.975\n",
      "INFO:tensorflow:loss = 0.011828488, step = 6602 (0.680 sec)\n",
      "INFO:tensorflow:global_step/sec: 145.082\n",
      "INFO:tensorflow:loss = 0.010803264, step = 6702 (0.689 sec)\n",
      "INFO:tensorflow:global_step/sec: 141.677\n",
      "INFO:tensorflow:loss = 0.045762796, step = 6802 (0.707 sec)\n",
      "INFO:tensorflow:global_step/sec: 145.174\n",
      "INFO:tensorflow:loss = 0.059351917, step = 6902 (0.689 sec)\n",
      "INFO:tensorflow:global_step/sec: 144.215\n",
      "INFO:tensorflow:loss = 0.06598177, step = 7002 (0.692 sec)\n",
      "INFO:tensorflow:global_step/sec: 145.768\n",
      "INFO:tensorflow:loss = 0.09364647, step = 7102 (0.686 sec)\n",
      "INFO:tensorflow:global_step/sec: 144.563\n",
      "INFO:tensorflow:loss = 0.0464325, step = 7202 (0.691 sec)\n",
      "INFO:tensorflow:global_step/sec: 146.725\n",
      "INFO:tensorflow:loss = 0.07395968, step = 7302 (0.682 sec)\n",
      "INFO:tensorflow:global_step/sec: 146.668\n",
      "INFO:tensorflow:loss = 0.02075105, step = 7402 (0.682 sec)\n"
     ]
    },
    {
     "name": "stdout",
     "output_type": "stream",
     "text": [
      "INFO:tensorflow:global_step/sec: 147.545\n",
      "INFO:tensorflow:loss = 0.018335443, step = 7502 (0.678 sec)\n",
      "INFO:tensorflow:global_step/sec: 142.889\n",
      "INFO:tensorflow:loss = 0.08317069, step = 7602 (0.699 sec)\n",
      "INFO:tensorflow:global_step/sec: 145.825\n",
      "INFO:tensorflow:loss = 0.024103193, step = 7702 (0.686 sec)\n",
      "INFO:tensorflow:global_step/sec: 146\n",
      "INFO:tensorflow:loss = 0.008253802, step = 7802 (0.685 sec)\n",
      "INFO:tensorflow:global_step/sec: 144.619\n",
      "INFO:tensorflow:loss = 0.08006214, step = 7902 (0.692 sec)\n",
      "INFO:tensorflow:global_step/sec: 145.811\n",
      "INFO:tensorflow:loss = 0.050451327, step = 8002 (0.686 sec)\n",
      "INFO:tensorflow:global_step/sec: 147.687\n",
      "INFO:tensorflow:loss = 0.0091418065, step = 8102 (0.677 sec)\n",
      "INFO:tensorflow:global_step/sec: 145.894\n",
      "INFO:tensorflow:loss = 0.07010947, step = 8202 (0.686 sec)\n",
      "INFO:tensorflow:global_step/sec: 145.942\n",
      "INFO:tensorflow:loss = 0.019518869, step = 8302 (0.684 sec)\n",
      "INFO:tensorflow:global_step/sec: 147.008\n",
      "INFO:tensorflow:loss = 0.06425087, step = 8402 (0.682 sec)\n",
      "INFO:tensorflow:global_step/sec: 145.137\n",
      "INFO:tensorflow:loss = 0.055902224, step = 8502 (0.689 sec)\n",
      "INFO:tensorflow:global_step/sec: 145.646\n",
      "INFO:tensorflow:loss = 0.03782746, step = 8602 (0.687 sec)\n",
      "INFO:tensorflow:global_step/sec: 142.528\n",
      "INFO:tensorflow:loss = 0.017051393, step = 8702 (0.701 sec)\n",
      "INFO:tensorflow:global_step/sec: 145.886\n",
      "INFO:tensorflow:loss = 0.0068775793, step = 8802 (0.686 sec)\n",
      "INFO:tensorflow:global_step/sec: 144.708\n",
      "INFO:tensorflow:loss = 0.020285115, step = 8902 (0.690 sec)\n",
      "INFO:tensorflow:global_step/sec: 146.344\n",
      "INFO:tensorflow:loss = 0.013501092, step = 9002 (0.683 sec)\n",
      "INFO:tensorflow:global_step/sec: 145.052\n",
      "INFO:tensorflow:loss = 0.063373104, step = 9102 (0.689 sec)\n",
      "INFO:tensorflow:global_step/sec: 144.606\n",
      "INFO:tensorflow:loss = 0.025872223, step = 9202 (0.692 sec)\n",
      "INFO:tensorflow:global_step/sec: 144.292\n",
      "INFO:tensorflow:loss = 0.03631707, step = 9302 (0.695 sec)\n",
      "INFO:tensorflow:global_step/sec: 144.074\n",
      "INFO:tensorflow:loss = 0.0038086125, step = 9402 (0.693 sec)\n",
      "INFO:tensorflow:global_step/sec: 145.281\n",
      "INFO:tensorflow:loss = 0.021748595, step = 9502 (0.688 sec)\n",
      "INFO:tensorflow:global_step/sec: 144.928\n",
      "INFO:tensorflow:loss = 0.0064577353, step = 9602 (0.690 sec)\n",
      "INFO:tensorflow:global_step/sec: 144.351\n",
      "INFO:tensorflow:loss = 0.014184667, step = 9702 (0.693 sec)\n",
      "INFO:tensorflow:global_step/sec: 145.664\n",
      "INFO:tensorflow:loss = 0.033212893, step = 9802 (0.686 sec)\n",
      "INFO:tensorflow:global_step/sec: 143.09\n",
      "INFO:tensorflow:loss = 0.02104459, step = 9902 (0.699 sec)\n",
      "INFO:tensorflow:Saving checkpoints for 10001 into ./tmp/mnist_convnet_model/model.ckpt.\n",
      "INFO:tensorflow:Loss for final step: 0.006827391.\n"
     ]
    }
   ],
   "source": [
    "mnist_classifier = main(None)"
   ]
  },
  {
   "cell_type": "code",
   "execution_count": 12,
   "metadata": {},
   "outputs": [
    {
     "name": "stdout",
     "output_type": "stream",
     "text": [
      "INFO:tensorflow:Restoring parameters from ./tmp/mnist_convnet_model/model.ckpt-10001\n"
     ]
    }
   ],
   "source": [
    "test_input_fn = tf.estimator.inputs.numpy_input_fn(x={\"x\": X_test}, num_epochs=1, shuffle=False)\n",
    "p = list(mnist_classifier.predict(input_fn=test_input_fn))"
   ]
  },
  {
   "cell_type": "code",
   "execution_count": 13,
   "metadata": {
    "collapsed": true
   },
   "outputs": [],
   "source": [
    "pred = [i['classes'] for i in p]"
   ]
  },
  {
   "cell_type": "markdown",
   "metadata": {},
   "source": [
    "### after just a few steps"
   ]
  },
  {
   "cell_type": "code",
   "execution_count": 116,
   "metadata": {},
   "outputs": [
    {
     "name": "stdout",
     "output_type": "stream",
     "text": [
      "[5, 6, 7, 5, 6, 4, 6, 0, 0, 1]\n",
      "[3 6 9 5 6 5 6 0 0 1]\n"
     ]
    }
   ],
   "source": [
    "print(pred[:10])\n",
    "print(y_test[:10])"
   ]
  },
  {
   "cell_type": "markdown",
   "metadata": {},
   "source": [
    "### after 1000 steps"
   ]
  },
  {
   "cell_type": "code",
   "execution_count": 141,
   "metadata": {},
   "outputs": [
    {
     "name": "stdout",
     "output_type": "stream",
     "text": [
      "[3, 6, 9, 5, 6, 5, 6, 0, 0, 1]\n",
      "[3 6 9 5 6 5 6 0 0 1]\n"
     ]
    }
   ],
   "source": [
    "print(pred[:10])\n",
    "print(y_test[:10])"
   ]
  },
  {
   "cell_type": "code",
   "execution_count": 151,
   "metadata": {
    "scrolled": false
   },
   "outputs": [
    {
     "name": "stdout",
     "output_type": "stream",
     "text": [
      "[[ 995    0    3    0    1    2    7    2    4    1]\n",
      " [   0 1169   12    0    2    0    2    2    3    0]\n",
      " [   4    3 1032    4    2    1    1    9   21    0]\n",
      " [   2    2   10 1022    1   10    0    8   10    5]\n",
      " [   2    8    0    0 1001    0    3    4    3   13]\n",
      " [   0    1    1    4    2  912    5    0    4    1]\n",
      " [   8    1    1    0    1   11 1019    0    3    0]\n",
      " [   0    4   13    1    3    0    0 1098    2    8]\n",
      " [   5    2    6    6    2    9    2    0  958    5]\n",
      " [  13    5    0    2   10    9    0   16    6  955]]\n"
     ]
    }
   ],
   "source": [
    "cm = tf.confusion_matrix(y_test, pred, num_classes=10)\n",
    "with tf.Session() as sess:\n",
    "    print(sess.run(cm))"
   ]
  },
  {
   "cell_type": "markdown",
   "metadata": {
    "collapsed": true
   },
   "source": [
    "### after 10000 steps"
   ]
  },
  {
   "cell_type": "code",
   "execution_count": 14,
   "metadata": {},
   "outputs": [
    {
     "name": "stdout",
     "output_type": "stream",
     "text": [
      "[3, 6, 9, 5, 6, 5, 6, 0, 0, 1]\n",
      "[3 6 9 5 6 5 6 0 0 1]\n"
     ]
    }
   ],
   "source": [
    "print(pred[:10])\n",
    "print(y_test[:10])"
   ]
  },
  {
   "cell_type": "code",
   "execution_count": 15,
   "metadata": {},
   "outputs": [
    {
     "name": "stdout",
     "output_type": "stream",
     "text": [
      "[[1005    0    2    0    0    0    5    1    1    1]\n",
      " [   0 1182    3    0    0    0    3    1    1    0]\n",
      " [   1    0 1066    0    0    1    0    4    5    0]\n",
      " [   2    0    8 1044    0    3    1    3    5    4]\n",
      " [   1    5    0    0 1016    0    2    2    0    8]\n",
      " [   0    0    1    5    1  917    3    1    1    1]\n",
      " [   2    0    0    0    0    2 1038    0    2    0]\n",
      " [   0    2    6    0    0    1    0 1110    4    6]\n",
      " [   3    1    4    1    0    1    3    0  981    1]\n",
      " [   5    0    2    3    4    2    0    4    2  994]]\n"
     ]
    }
   ],
   "source": [
    "cm = tf.confusion_matrix(y_test, pred, num_classes=10)\n",
    "with tf.Session() as sess:\n",
    "    print(sess.run(cm))"
   ]
  },
  {
   "cell_type": "markdown",
   "metadata": {},
   "source": [
    "# make predictions"
   ]
  },
  {
   "cell_type": "code",
   "execution_count": 16,
   "metadata": {
    "collapsed": true
   },
   "outputs": [],
   "source": [
    "submdata = pd.read_csv(\"./input/test.csv\")"
   ]
  },
  {
   "cell_type": "code",
   "execution_count": 24,
   "metadata": {},
   "outputs": [
    {
     "name": "stdout",
     "output_type": "stream",
     "text": [
      "28000\n"
     ]
    }
   ],
   "source": [
    "m = len(submdata)\n",
    "X_subm = np.array(submdata)\n",
    "X_subm = X_subm.reshape(m, 28, 28)\n",
    "X_subm = X_subm.astype('float32')\n",
    "print(len(X_subm))"
   ]
  },
  {
   "cell_type": "code",
   "execution_count": 18,
   "metadata": {},
   "outputs": [
    {
     "name": "stdout",
     "output_type": "stream",
     "text": [
      "INFO:tensorflow:Restoring parameters from ./tmp/mnist_convnet_model/model.ckpt-10001\n"
     ]
    }
   ],
   "source": [
    "subm_input_fn = tf.estimator.inputs.numpy_input_fn(x={\"x\": X_subm}, num_epochs=1, shuffle=False)\n",
    "psubm = list(mnist_classifier.predict(input_fn=subm_input_fn))"
   ]
  },
  {
   "cell_type": "code",
   "execution_count": 25,
   "metadata": {
    "collapsed": true
   },
   "outputs": [],
   "source": [
    "pred = [i['classes'] for i in psubm]"
   ]
  },
  {
   "cell_type": "code",
   "execution_count": 29,
   "metadata": {
    "collapsed": true
   },
   "outputs": [],
   "source": [
    "subm = pd.DataFrame({\"ImageId\": np.arange(1,m+1), \"Label\": pred})\n",
    "subm.to_csv(\"subm.csv\", index=False)"
   ]
  },
  {
   "cell_type": "code",
   "execution_count": null,
   "metadata": {
    "collapsed": true
   },
   "outputs": [],
   "source": []
  }
 ],
 "metadata": {
  "kernelspec": {
   "display_name": "Python 3",
   "language": "python",
   "name": "python3"
  },
  "language_info": {
   "codemirror_mode": {
    "name": "ipython",
    "version": 3
   },
   "file_extension": ".py",
   "mimetype": "text/x-python",
   "name": "python",
   "nbconvert_exporter": "python",
   "pygments_lexer": "ipython3",
   "version": "3.5.4"
  }
 },
 "nbformat": 4,
 "nbformat_minor": 2
}
