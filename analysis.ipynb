{
 "cells": [
  {
   "cell_type": "code",
   "execution_count": 1,
   "metadata": {},
   "outputs": [],
   "source": [
    "import pandas as pd\n",
    "import numpy as np\n",
    "import matplotlib.pyplot as plt\n",
    "from sklearn.model_selection import train_test_split\n",
    "import tensorflow as tf"
   ]
  },
  {
   "cell_type": "code",
   "execution_count": 25,
   "metadata": {
    "collapsed": true
   },
   "outputs": [],
   "source": [
    "data = pd.read_csv(\"./input/train.csv\")"
   ]
  },
  {
   "cell_type": "code",
   "execution_count": 8,
   "metadata": {},
   "outputs": [
    {
     "name": "stdout",
     "output_type": "stream",
     "text": [
      "Label: 1\n"
     ]
    },
    {
     "data": {
      "image/png": "[encoded data removed]",
      "text/plain": [
       "<matplotlib.figure.Figure at 0x20c104c7cc0>"
      ]
     },
     "metadata": {},
     "output_type": "display_data"
    }
   ],
   "source": [
    "def plot_img(i, X=X, Y=Y):\n",
    "    print(\"Label: {}\".format(Y[i]))\n",
    "    plt.close()\n",
    "    plt.figure()\n",
    "    plt.imshow(X[i,:,:])\n",
    "    plt.show()\n",
    "\n",
    "plot_img(12)"
   ]
  },
  {
   "cell_type": "code",
   "execution_count": 55,
   "metadata": {},
   "outputs": [],
   "source": [
    "m = len(data)\n",
    "X = np.array(data.loc[:, data.columns != 'label'])\n",
    "X = X.reshape(m, 28, 28)\n",
    "Y = np.array(data['label'])"
   ]
  },
  {
   "cell_type": "code",
   "execution_count": 56,
   "metadata": {},
   "outputs": [
    {
     "name": "stdout",
     "output_type": "stream",
     "text": [
      "Shape of X: (42000, 28, 28), shape of Y: (42000,)\n"
     ]
    }
   ],
   "source": [
    "print(\"Shape of X: {}, shape of Y: {}\".format(X.shape, Y.shape))"
   ]
  },
  {
   "cell_type": "code",
   "execution_count": 57,
   "metadata": {
    "collapsed": true
   },
   "outputs": [],
   "source": [
    "X_train, X_test, y_train, y_test = train_test_split(X, Y, random_state=0)"
   ]
  },
  {
   "cell_type": "code",
   "execution_count": 58,
   "metadata": {},
   "outputs": [
    {
     "name": "stdout",
     "output_type": "stream",
     "text": [
      "Shape of X_train: (31500, 28, 28), shape of y_train: (31500,)\n",
      "Shape of X_test: (10500, 28, 28), shape of y_test: (10500,)\n"
     ]
    }
   ],
   "source": [
    "print(\"Shape of X_train: {}, shape of y_train: {}\".format(X_train.shape, y_train.shape))\n",
    "print(\"Shape of X_test: {}, shape of y_test: {}\".format(X_test.shape, y_test.shape))"
   ]
  },
  {
   "cell_type": "code",
   "execution_count": 9,
   "metadata": {
    "collapsed": true
   },
   "outputs": [],
   "source": [
    "y_train_onehot = tf.one_hot(indices=tf.cast(y_train, tf.int32), depth=10)\n",
    "y_test_onehot = tf.one_hot(indices=tf.cast(y_test, tf.int32), depth=10)"
   ]
  },
  {
   "cell_type": "code",
   "execution_count": 10,
   "metadata": {},
   "outputs": [
    {
     "name": "stdout",
     "output_type": "stream",
     "text": [
      "Onehot representation: Shape of y_train: Tensor(\"one_hot:0\", shape=(31500, 10), dtype=float32), shape of y_test: Tensor(\"one_hot_1:0\", shape=(10500, 10), dtype=float32)\n"
     ]
    }
   ],
   "source": [
    "print(\"Onehot representation: Shape of y_train: {}, shape of y_test: {}\".format(y_train_onehot, y_test_onehot))"
   ]
  },
  {
   "cell_type": "code",
   "execution_count": 136,
   "metadata": {},
   "outputs": [],
   "source": [
    "def cnn_model(features, labels, mode):\n",
    "    #input layer\n",
    "    input_layer = tf.reshape(features['x'], [-1, 28, 28, 1])\n",
    "    \n",
    "    #conv layer 1\n",
    "    conv1 = tf.layers.conv2d(inputs=input_layer, filters=32, kernel_size=[5, 5], padding=\"same\", activation=tf.nn.relu)\n",
    "    \n",
    "    #pooling layer 1\n",
    "    pool1 = tf.layers.max_pooling2d(inputs=conv1, pool_size=[2, 2], strides=2)\n",
    "    \n",
    "    #conv layer 2\n",
    "    conv2 = tf.layers.conv2d(inputs=pool1, filters=64, kernel_size=[5, 5], padding=\"same\", activation=tf.nn.relu)\n",
    "    \n",
    "    #pooling layer 2\n",
    "    pool2 = tf.layers.max_pooling2d(inputs=conv2, pool_size=[2, 2], strides=2)\n",
    "    \n",
    "    #flatten the pooling output to feed in dense layer\n",
    "    pool2_flat = tf.reshape(pool2, [-1, 7 * 7 * 64])\n",
    "    \n",
    "    #dense layer\n",
    "    dense = tf.layers.dense(inputs=pool2_flat, units=1024, activation=tf.nn.relu)\n",
    "    \n",
    "    #dropoout layer\n",
    "    dropout = tf.layers.dropout(inputs=dense, rate=0.4, training=mode == tf.estimator.ModeKeys.TRAIN)\n",
    "    \n",
    "    #logits layer\n",
    "    logits = tf.layers.dense(inputs=dropout, units=10)\n",
    "    \n",
    "    #create dictionary with predicted classes and their probabilities\n",
    "    predictions = {\"classes\": tf.argmax(input=logits, axis=1), \"probabilities\": tf.nn.softmax(logits, name=\"softmax_tensor\")}\n",
    "    if mode == tf.estimator.ModeKeys.PREDICT:\n",
    "        return tf.estimator.EstimatorSpec(mode=mode, predictions=predictions)\n",
    "    \n",
    "    #calculate loss\n",
    "    loss = tf.losses.sparse_softmax_cross_entropy(labels=labels, logits=logits)\n",
    "    \n",
    "    if mode == tf.estimator.ModeKeys.TRAIN:\n",
    "        optimizer = tf.train.GradientDescentOptimizer(learning_rate=0.001)\n",
    "        train_op = optimizer.minimize(loss=loss, global_step=tf.train.get_global_step())\n",
    "        return tf.estimator.EstimatorSpec(mode=mode, loss=loss, train_op=train_op)\n",
    "    \n",
    "    eval_metric_ops = {\"accuracy\": tf.metrics.accuracy(labels=labels, predictions=predictions[\"classes\"])}\n",
    "    return tf.estimator.EstimatorSpec(mode=mode, loss=loss, eval_metric_ops=eval_metric_ops)"
   ]
  },
  {
   "cell_type": "code",
   "execution_count": 34,
   "metadata": {
    "collapsed": true
   },
   "outputs": [],
   "source": [
    "def loaddata():\n",
    "    # Load training and eval data\n",
    "    mnist = tf.contrib.learn.datasets.load_dataset(\"mnist\")\n",
    "    train_data = mnist.train.images # Returns np.array\n",
    "    train_labels = np.asarray(mnist.train.labels, dtype=np.int32)\n",
    "    eval_data = mnist.test.images # Returns np.array\n",
    "    eval_labels = np.asarray(mnist.test.labels, dtype=np.int32)\n",
    "    return train_data, train_labels"
   ]
  },
  {
   "cell_type": "code",
   "execution_count": 35,
   "metadata": {},
   "outputs": [
    {
     "name": "stdout",
     "output_type": "stream",
     "text": [
      "Extracting MNIST-data\\train-images-idx3-ubyte.gz\n",
      "Extracting MNIST-data\\train-labels-idx1-ubyte.gz\n",
      "Extracting MNIST-data\\t10k-images-idx3-ubyte.gz\n",
      "Extracting MNIST-data\\t10k-labels-idx1-ubyte.gz\n"
     ]
    }
   ],
   "source": [
    "train_data, train_labels = loaddata()"
   ]
  },
  {
   "cell_type": "code",
   "execution_count": 81,
   "metadata": {},
   "outputs": [
    {
     "name": "stdout",
     "output_type": "stream",
     "text": [
      "<class 'numpy.float32'> <class 'numpy.float32'>\n",
      "<class 'numpy.float32'>\n",
      "<class 'numpy.int32'> <class 'numpy.int64'>\n"
     ]
    }
   ],
   "source": [
    "X_train = X_train.astype('float32')\n",
    "X_test = X_test.astype('float32')\n",
    "print(type(train_data[0,0]), type(X_train[0,0,0]))\n",
    "print(type(X_test[0,0,0]))\n",
    "print(type(train_labels[0]), type(y_train[0]))"
   ]
  },
  {
   "cell_type": "code",
   "execution_count": 137,
   "metadata": {},
   "outputs": [],
   "source": [
    "def main(unused_argv):\n",
    "    # Create the Estimator\n",
    "    mnist_classifier = tf.estimator.Estimator(model_fn=cnn_model, model_dir=\"./tmp/mnist_convnet_model\")\n",
    "    \n",
    "    # Set up logging for predictions\n",
    "    #tensors_to_log = {\"probabilities\": \"softmax_tensor\"}\n",
    "    #logging_hook = tf.train.LoggingTensorHook(tensors=tensors_to_log, every_n_iter=50)\n",
    "    \n",
    "    # Train the model\n",
    "    train_input_fn = tf.estimator.inputs.numpy_input_fn(x={\"x\": X_train}, y=y_train, batch_size=100, num_epochs=None, shuffle=True)\n",
    "    mnist_classifier.train(input_fn=train_input_fn, steps=1000)#, hooks=[logging_hook])\n",
    "    \n",
    "    return mnist_classifier"
   ]
  },
  {
   "cell_type": "code",
   "execution_count": 138,
   "metadata": {
    "scrolled": false
   },
   "outputs": [
    {
     "name": "stdout",
     "output_type": "stream",
     "text": [
      "INFO:tensorflow:Using default config.\n",
      "INFO:tensorflow:Using config: {'_save_summary_steps': 100, '_model_dir': './tmp/mnist_convnet_model', '_keep_checkpoint_every_n_hours': 10000, '_save_checkpoints_secs': 600, '_session_config': None, '_tf_random_seed': 1, '_log_step_count_steps': 100, '_save_checkpoints_steps': None, '_keep_checkpoint_max': 5}\n",
      "INFO:tensorflow:Create CheckpointSaverHook.\n",
      "INFO:tensorflow:Saving checkpoints for 1 into ./tmp/mnist_convnet_model\\model.ckpt.\n",
      "INFO:tensorflow:loss = 42.63, step = 1\n",
      "INFO:tensorflow:global_step/sec: 2.28291\n",
      "INFO:tensorflow:loss = 0.563537, step = 101 (43.804 sec)\n",
      "INFO:tensorflow:global_step/sec: 1.75898\n",
      "INFO:tensorflow:loss = 0.359202, step = 201 (56.851 sec)\n",
      "INFO:tensorflow:global_step/sec: 1.66483\n",
      "INFO:tensorflow:loss = 0.31632, step = 301 (60.082 sec)\n",
      "INFO:tensorflow:global_step/sec: 1.89846\n",
      "INFO:tensorflow:loss = 0.401407, step = 401 (52.659 sec)\n",
      "INFO:tensorflow:global_step/sec: 2.00293\n",
      "INFO:tensorflow:loss = 0.186543, step = 501 (49.927 sec)\n",
      "INFO:tensorflow:global_step/sec: 1.99683\n",
      "INFO:tensorflow:loss = 0.295482, step = 601 (50.095 sec)\n",
      "INFO:tensorflow:global_step/sec: 1.89301\n",
      "INFO:tensorflow:loss = 0.223856, step = 701 (52.810 sec)\n",
      "INFO:tensorflow:global_step/sec: 1.68659\n",
      "INFO:tensorflow:loss = 0.131899, step = 801 (59.307 sec)\n",
      "INFO:tensorflow:global_step/sec: 1.25704\n",
      "INFO:tensorflow:loss = 0.165431, step = 901 (79.555 sec)\n",
      "INFO:tensorflow:Saving checkpoints for 1000 into ./tmp/mnist_convnet_model\\model.ckpt.\n",
      "INFO:tensorflow:Loss for final step: 0.185516.\n"
     ]
    }
   ],
   "source": [
    "mnist_classifier = main(None)"
   ]
  },
  {
   "cell_type": "code",
   "execution_count": 110,
   "metadata": {},
   "outputs": [
    {
     "name": "stdout",
     "output_type": "stream",
     "text": [
      "INFO:tensorflow:Restoring parameters from ./tmp/mnist_convnet_model\\model.ckpt-20\n"
     ]
    }
   ],
   "source": [
    "test_input_fn = tf.estimator.inputs.numpy_input_fn(x={\"x\": X_test}, num_epochs=1, shuffle=False)\n",
    "p = list(mnist_classifier.predict(input_fn=test_input_fn))"
   ]
  },
  {
   "cell_type": "code",
   "execution_count": 113,
   "metadata": {},
   "outputs": [],
   "source": [
    "pred = [i['classes'] for i in p]"
   ]
  },
  {
   "cell_type": "code",
   "execution_count": 116,
   "metadata": {},
   "outputs": [
    {
     "name": "stdout",
     "output_type": "stream",
     "text": [
      "[5, 6, 7, 5, 6, 4, 6, 0, 0, 1]\n",
      "[3 6 9 5 6 5 6 0 0 1]\n"
     ]
    }
   ],
   "source": [
    "print(pred[:10])\n",
    "print(y_test[:10])"
   ]
  },
  {
   "cell_type": "code",
   "execution_count": null,
   "metadata": {
    "collapsed": true
   },
   "outputs": [],
   "source": []
  }
 ],
 "metadata": {
  "kernelspec": {
   "display_name": "Python 3",
   "language": "python",
   "name": "python3"
  },
  "language_info": {
   "codemirror_mode": {
    "name": "ipython",
    "version": 3
   },
   "file_extension": ".py",
   "mimetype": "text/x-python",
   "name": "python",
   "nbconvert_exporter": "python",
   "pygments_lexer": "ipython3",
   "version": "3.5.4"
  }
 },
 "nbformat": 4,
 "nbformat_minor": 2
}
