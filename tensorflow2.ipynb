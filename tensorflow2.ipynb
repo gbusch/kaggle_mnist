{
 "cells": [
  {
   "cell_type": "code",
   "execution_count": 1,
   "metadata": {},
   "outputs": [],
   "source": [
    "import pandas as pd\n",
    "import numpy as np\n",
    "import matplotlib.pyplot as plt\n",
    "from sklearn.model_selection import train_test_split\n",
    "import tensorflow as tf"
   ]
  },
  {
   "cell_type": "code",
   "execution_count": 2,
   "metadata": {},
   "outputs": [],
   "source": [
    "data = pd.read_csv(\"./input/train.csv\")"
   ]
  },
  {
   "cell_type": "code",
   "execution_count": 8,
   "metadata": {},
   "outputs": [
    {
     "name": "stdout",
     "output_type": "stream",
     "text": [
      "Label: 1\n"
     ]
    },
    {
     "data": {
      "image/png": "[encoded data removed]",
      "text/plain": [
       "<Figure size 432x288 with 1 Axes>"
      ]
     },
     "metadata": {},
     "output_type": "display_data"
    }
   ],
   "source": [
    "def plot_img(i, X=X, Y=Y):\n",
    "    print(\"Label: {}\".format(Y[i]))\n",
    "    plt.close()\n",
    "    plt.figure()\n",
    "    plt.imshow(X[i,:,:])\n",
    "    plt.show()\n",
    "\n",
    "plot_img(12)"
   ]
  },
  {
   "cell_type": "code",
   "execution_count": 3,
   "metadata": {},
   "outputs": [],
   "source": [
    "m = len(data)\n",
    "X = np.array(data.loc[:, data.columns != 'label'])\n",
    "X = X.reshape(m, 28, 28)\n",
    "Y = np.array(data['label'])"
   ]
  },
  {
   "cell_type": "code",
   "execution_count": 4,
   "metadata": {},
   "outputs": [
    {
     "name": "stdout",
     "output_type": "stream",
     "text": [
      "Shape of X: (42000, 28, 28), shape of Y: (42000,)\n"
     ]
    }
   ],
   "source": [
    "print(\"Shape of X: {}, shape of Y: {}\".format(X.shape, Y.shape))"
   ]
  },
  {
   "cell_type": "code",
   "execution_count": 5,
   "metadata": {},
   "outputs": [],
   "source": [
    "X_train, X_test, y_train, y_test = train_test_split(X, Y, random_state=0)"
   ]
  },
  {
   "cell_type": "code",
   "execution_count": 6,
   "metadata": {},
   "outputs": [
    {
     "name": "stdout",
     "output_type": "stream",
     "text": [
      "Shape of X_train: (31500, 28, 28), shape of y_train: (31500,)\n",
      "Shape of X_test: (10500, 28, 28), shape of y_test: (10500,)\n"
     ]
    }
   ],
   "source": [
    "print(\"Shape of X_train: {}, shape of y_train: {}\".format(X_train.shape, y_train.shape))\n",
    "print(\"Shape of X_test: {}, shape of y_test: {}\".format(X_test.shape, y_test.shape))"
   ]
  },
  {
   "cell_type": "code",
   "execution_count": 7,
   "metadata": {},
   "outputs": [],
   "source": [
    "X_train = X_train.astype('float32')\n",
    "X_test = X_test.astype('float32')"
   ]
  },
  {
   "cell_type": "code",
   "execution_count": 12,
   "metadata": {},
   "outputs": [],
   "source": [
    "## adaption of a LeNet\n",
    "\n",
    "def cnn_model(features, labels, mode):\n",
    "    #input layer\n",
    "    input_layer = tf.reshape(features['x'], [-1, 28, 28, 1])\n",
    "    \n",
    "    #conv layer 1\n",
    "    conv1 = tf.layers.conv2d(inputs=input_layer, filters=6, kernel_size=[5, 5], padding=\"same\", activation=tf.nn.relu)\n",
    "    \n",
    "    #pooling layer 1\n",
    "    pool1 = tf.layers.average_pooling2d(inputs=conv1, pool_size=[2, 2], strides=2)\n",
    "    \n",
    "    #conv layer 2\n",
    "    conv2 = tf.layers.conv2d(inputs=pool1, filters=16, kernel_size=[5, 5], padding=\"valid\", activation=tf.nn.relu)\n",
    "    \n",
    "    #pooling layer 2\n",
    "    pool2 = tf.layers.average_pooling2d(inputs=conv2, pool_size=[2, 2], strides=2)\n",
    "    \n",
    "    #flatten the pooling output to feed in dense layer\n",
    "    pool2_flat = tf.reshape(pool2, [-1, 5 * 5 * 16])\n",
    "    \n",
    "    #dense layer 1\n",
    "    dense1 = tf.layers.dense(inputs=pool2_flat, units=120, activation=tf.nn.relu)\n",
    "    \n",
    "    #dense layer 2\n",
    "    dense2 = tf.layers.dense(inputs=dense1, units=84, activation=tf.nn.relu)\n",
    "    \n",
    "    #logits layer\n",
    "    logits = tf.layers.dense(inputs=dense2, units=10)\n",
    "    \n",
    "    #create dictionary with predicted classes and their probabilities\n",
    "    predictions = {\"classes\": tf.argmax(input=logits, axis=1), \"probabilities\": tf.nn.softmax(logits, name=\"softmax_tensor\")}\n",
    "    if mode == tf.estimator.ModeKeys.PREDICT:\n",
    "        return tf.estimator.EstimatorSpec(mode=mode, predictions=predictions)\n",
    "    \n",
    "    #calculate loss\n",
    "    loss = tf.losses.sparse_softmax_cross_entropy(labels=labels, logits=logits)\n",
    "    \n",
    "    if mode == tf.estimator.ModeKeys.TRAIN:\n",
    "        optimizer = tf.train.GradientDescentOptimizer(learning_rate=0.001)\n",
    "        train_op = optimizer.minimize(loss=loss, global_step=tf.train.get_global_step())\n",
    "        return tf.estimator.EstimatorSpec(mode=mode, loss=loss, train_op=train_op)\n",
    "    \n",
    "    eval_metric_ops = {\"accuracy\": tf.metrics.accuracy(labels=labels, predictions=predictions[\"classes\"])}\n",
    "    return tf.estimator.EstimatorSpec(mode=mode, loss=loss, eval_metric_ops=eval_metric_ops)"
   ]
  },
  {
   "cell_type": "code",
   "execution_count": 13,
   "metadata": {},
   "outputs": [],
   "source": [
    "def main(unused_argv):\n",
    "    # Create the Estimator\n",
    "    mnist_classifier = tf.estimator.Estimator(model_fn=cnn_model, model_dir=\"./tmp/mnist_convnet_model2\")\n",
    "    \n",
    "    # Train the model\n",
    "    train_input_fn = tf.estimator.inputs.numpy_input_fn(x={\"x\": X_train}, y=y_train, batch_size=100, num_epochs=None, shuffle=True)\n",
    "    mnist_classifier.train(input_fn=train_input_fn, steps=10000)\n",
    "    \n",
    "    return mnist_classifier"
   ]
  },
  {
   "cell_type": "code",
   "execution_count": 14,
   "metadata": {
    "scrolled": false
   },
   "outputs": [
    {
     "name": "stdout",
     "output_type": "stream",
     "text": [
      "INFO:tensorflow:Using default config.\n",
      "INFO:tensorflow:Using config: {'_model_dir': './tmp/mnist_convnet_model2', '_tf_random_seed': None, '_save_summary_steps': 100, '_save_checkpoints_steps': None, '_save_checkpoints_secs': 600, '_session_config': None, '_keep_checkpoint_max': 5, '_keep_checkpoint_every_n_hours': 10000, '_log_step_count_steps': 100, '_service': None, '_cluster_spec': <tensorflow.python.training.server_lib.ClusterSpec object at 0x7f2ef2d219b0>, '_task_type': 'worker', '_task_id': 0, '_master': '', '_is_chief': True, '_num_ps_replicas': 0, '_num_worker_replicas': 1}\n",
      "INFO:tensorflow:Create CheckpointSaverHook.\n",
      "INFO:tensorflow:Saving checkpoints for 1 into ./tmp/mnist_convnet_model2/model.ckpt.\n",
      "INFO:tensorflow:loss = 25.692968, step = 1\n",
      "INFO:tensorflow:global_step/sec: 264.643\n",
      "INFO:tensorflow:loss = 1.0365859, step = 101 (0.379 sec)\n",
      "INFO:tensorflow:global_step/sec: 290.624\n",
      "INFO:tensorflow:loss = 0.56625605, step = 201 (0.344 sec)\n",
      "INFO:tensorflow:global_step/sec: 295.163\n",
      "INFO:tensorflow:loss = 0.46900508, step = 301 (0.339 sec)\n",
      "INFO:tensorflow:global_step/sec: 286.264\n",
      "INFO:tensorflow:loss = 0.33725983, step = 401 (0.349 sec)\n",
      "INFO:tensorflow:global_step/sec: 298.685\n",
      "INFO:tensorflow:loss = 0.47397503, step = 501 (0.335 sec)\n",
      "INFO:tensorflow:global_step/sec: 290.288\n",
      "INFO:tensorflow:loss = 0.24301745, step = 601 (0.345 sec)\n",
      "INFO:tensorflow:global_step/sec: 292.907\n",
      "INFO:tensorflow:loss = 0.2034628, step = 701 (0.341 sec)\n",
      "INFO:tensorflow:global_step/sec: 291.524\n",
      "INFO:tensorflow:loss = 0.13781838, step = 801 (0.343 sec)\n",
      "INFO:tensorflow:global_step/sec: 277.794\n",
      "INFO:tensorflow:loss = 0.15399176, step = 901 (0.361 sec)\n",
      "INFO:tensorflow:global_step/sec: 295.772\n",
      "INFO:tensorflow:loss = 0.3253804, step = 1001 (0.337 sec)\n",
      "INFO:tensorflow:global_step/sec: 305.661\n",
      "INFO:tensorflow:loss = 0.1973242, step = 1101 (0.327 sec)\n",
      "INFO:tensorflow:global_step/sec: 308.872\n",
      "INFO:tensorflow:loss = 0.2667464, step = 1201 (0.324 sec)\n",
      "INFO:tensorflow:global_step/sec: 309.398\n",
      "INFO:tensorflow:loss = 0.18372296, step = 1301 (0.325 sec)\n",
      "INFO:tensorflow:global_step/sec: 308.78\n",
      "INFO:tensorflow:loss = 0.22614154, step = 1401 (0.323 sec)\n",
      "INFO:tensorflow:global_step/sec: 304.082\n",
      "INFO:tensorflow:loss = 0.10679432, step = 1501 (0.329 sec)\n",
      "INFO:tensorflow:global_step/sec: 295.451\n",
      "INFO:tensorflow:loss = 0.25644302, step = 1601 (0.339 sec)\n",
      "INFO:tensorflow:global_step/sec: 300.264\n",
      "INFO:tensorflow:loss = 0.11740041, step = 1701 (0.332 sec)\n",
      "INFO:tensorflow:global_step/sec: 296.147\n",
      "INFO:tensorflow:loss = 0.17413309, step = 1801 (0.338 sec)\n",
      "INFO:tensorflow:global_step/sec: 301.826\n",
      "INFO:tensorflow:loss = 0.20177919, step = 1901 (0.331 sec)\n",
      "INFO:tensorflow:global_step/sec: 307.349\n",
      "INFO:tensorflow:loss = 0.15031932, step = 2001 (0.325 sec)\n",
      "INFO:tensorflow:global_step/sec: 301.656\n",
      "INFO:tensorflow:loss = 0.10847911, step = 2101 (0.332 sec)\n",
      "INFO:tensorflow:global_step/sec: 300.008\n",
      "INFO:tensorflow:loss = 0.061129298, step = 2201 (0.333 sec)\n",
      "INFO:tensorflow:global_step/sec: 298.622\n",
      "INFO:tensorflow:loss = 0.07257858, step = 2301 (0.335 sec)\n",
      "INFO:tensorflow:global_step/sec: 301.57\n",
      "INFO:tensorflow:loss = 0.12225344, step = 2401 (0.333 sec)\n",
      "INFO:tensorflow:global_step/sec: 304.295\n",
      "INFO:tensorflow:loss = 0.049112473, step = 2501 (0.328 sec)\n",
      "INFO:tensorflow:global_step/sec: 305.965\n",
      "INFO:tensorflow:loss = 0.06538161, step = 2601 (0.327 sec)\n",
      "INFO:tensorflow:global_step/sec: 307.593\n",
      "INFO:tensorflow:loss = 0.043435834, step = 2701 (0.325 sec)\n",
      "INFO:tensorflow:global_step/sec: 302.741\n",
      "INFO:tensorflow:loss = 0.076842606, step = 2801 (0.331 sec)\n",
      "INFO:tensorflow:global_step/sec: 298.177\n",
      "INFO:tensorflow:loss = 0.07665138, step = 2901 (0.337 sec)\n",
      "INFO:tensorflow:global_step/sec: 305.577\n",
      "INFO:tensorflow:loss = 0.09450835, step = 3001 (0.326 sec)\n",
      "INFO:tensorflow:global_step/sec: 274.765\n",
      "INFO:tensorflow:loss = 0.15083762, step = 3101 (0.364 sec)\n",
      "INFO:tensorflow:global_step/sec: 287.676\n",
      "INFO:tensorflow:loss = 0.13414636, step = 3201 (0.347 sec)\n",
      "INFO:tensorflow:global_step/sec: 302.842\n",
      "INFO:tensorflow:loss = 0.06353151, step = 3301 (0.330 sec)\n",
      "INFO:tensorflow:global_step/sec: 280.586\n",
      "INFO:tensorflow:loss = 0.028516838, step = 3401 (0.356 sec)\n",
      "INFO:tensorflow:global_step/sec: 304.19\n",
      "INFO:tensorflow:loss = 0.13337532, step = 3501 (0.329 sec)\n",
      "INFO:tensorflow:global_step/sec: 313.356\n",
      "INFO:tensorflow:loss = 0.034213286, step = 3601 (0.319 sec)\n",
      "INFO:tensorflow:global_step/sec: 303.094\n",
      "INFO:tensorflow:loss = 0.042901505, step = 3701 (0.330 sec)\n",
      "INFO:tensorflow:global_step/sec: 294.042\n",
      "INFO:tensorflow:loss = 0.15873495, step = 3801 (0.342 sec)\n",
      "INFO:tensorflow:global_step/sec: 283.329\n",
      "INFO:tensorflow:loss = 0.096057214, step = 3901 (0.351 sec)\n",
      "INFO:tensorflow:global_step/sec: 298.651\n",
      "INFO:tensorflow:loss = 0.06916023, step = 4001 (0.335 sec)\n",
      "INFO:tensorflow:global_step/sec: 302.416\n",
      "INFO:tensorflow:loss = 0.1045081, step = 4101 (0.331 sec)\n",
      "INFO:tensorflow:global_step/sec: 305.841\n",
      "INFO:tensorflow:loss = 0.093008965, step = 4201 (0.328 sec)\n",
      "INFO:tensorflow:global_step/sec: 301.361\n",
      "INFO:tensorflow:loss = 0.12436641, step = 4301 (0.331 sec)\n",
      "INFO:tensorflow:global_step/sec: 305.317\n",
      "INFO:tensorflow:loss = 0.099913724, step = 4401 (0.329 sec)\n",
      "INFO:tensorflow:global_step/sec: 304.296\n",
      "INFO:tensorflow:loss = 0.055826414, step = 4501 (0.327 sec)\n",
      "INFO:tensorflow:global_step/sec: 301.326\n",
      "INFO:tensorflow:loss = 0.030110989, step = 4601 (0.331 sec)\n",
      "INFO:tensorflow:global_step/sec: 296.826\n",
      "INFO:tensorflow:loss = 0.027673744, step = 4701 (0.337 sec)\n",
      "INFO:tensorflow:global_step/sec: 305.379\n",
      "INFO:tensorflow:loss = 0.052930526, step = 4801 (0.329 sec)\n",
      "INFO:tensorflow:global_step/sec: 311.722\n",
      "INFO:tensorflow:loss = 0.0764226, step = 4901 (0.321 sec)\n",
      "INFO:tensorflow:global_step/sec: 305.697\n",
      "INFO:tensorflow:loss = 0.02928068, step = 5001 (0.326 sec)\n",
      "INFO:tensorflow:global_step/sec: 316.096\n",
      "INFO:tensorflow:loss = 0.032400142, step = 5101 (0.316 sec)\n",
      "INFO:tensorflow:global_step/sec: 314.845\n",
      "INFO:tensorflow:loss = 0.07189082, step = 5201 (0.318 sec)\n",
      "INFO:tensorflow:global_step/sec: 311.213\n",
      "INFO:tensorflow:loss = 0.056030676, step = 5301 (0.321 sec)\n",
      "INFO:tensorflow:global_step/sec: 313.753\n",
      "INFO:tensorflow:loss = 0.04928129, step = 5401 (0.318 sec)\n",
      "INFO:tensorflow:global_step/sec: 326.244\n",
      "INFO:tensorflow:loss = 0.09548376, step = 5501 (0.307 sec)\n",
      "INFO:tensorflow:global_step/sec: 331.675\n",
      "INFO:tensorflow:loss = 0.0963564, step = 5601 (0.301 sec)\n",
      "INFO:tensorflow:global_step/sec: 326.329\n",
      "INFO:tensorflow:loss = 0.029132955, step = 5701 (0.306 sec)\n",
      "INFO:tensorflow:global_step/sec: 346.026\n",
      "INFO:tensorflow:loss = 0.10941722, step = 5801 (0.289 sec)\n",
      "INFO:tensorflow:global_step/sec: 339.338\n",
      "INFO:tensorflow:loss = 0.10609343, step = 5901 (0.295 sec)\n",
      "INFO:tensorflow:global_step/sec: 326.872\n",
      "INFO:tensorflow:loss = 0.021467846, step = 6001 (0.306 sec)\n",
      "INFO:tensorflow:global_step/sec: 329.331\n",
      "INFO:tensorflow:loss = 0.13747922, step = 6101 (0.305 sec)\n",
      "INFO:tensorflow:global_step/sec: 325.196\n",
      "INFO:tensorflow:loss = 0.09963999, step = 6201 (0.306 sec)\n",
      "INFO:tensorflow:global_step/sec: 303.835\n",
      "INFO:tensorflow:loss = 0.05552266, step = 6301 (0.330 sec)\n",
      "INFO:tensorflow:global_step/sec: 315.207\n",
      "INFO:tensorflow:loss = 0.037309114, step = 6401 (0.317 sec)\n",
      "INFO:tensorflow:global_step/sec: 313.411\n",
      "INFO:tensorflow:loss = 0.071334735, step = 6501 (0.319 sec)\n",
      "INFO:tensorflow:global_step/sec: 322.036\n",
      "INFO:tensorflow:loss = 0.025942173, step = 6601 (0.312 sec)\n",
      "INFO:tensorflow:global_step/sec: 323.523\n",
      "INFO:tensorflow:loss = 0.09682216, step = 6701 (0.308 sec)\n",
      "INFO:tensorflow:global_step/sec: 324.007\n",
      "INFO:tensorflow:loss = 0.10244796, step = 6801 (0.309 sec)\n",
      "INFO:tensorflow:global_step/sec: 324.904\n",
      "INFO:tensorflow:loss = 0.024891146, step = 6901 (0.308 sec)\n",
      "INFO:tensorflow:global_step/sec: 315.646\n",
      "INFO:tensorflow:loss = 0.035844646, step = 7001 (0.317 sec)\n",
      "INFO:tensorflow:global_step/sec: 330.251\n",
      "INFO:tensorflow:loss = 0.035114564, step = 7101 (0.303 sec)\n",
      "INFO:tensorflow:global_step/sec: 323.537\n",
      "INFO:tensorflow:loss = 0.06366836, step = 7201 (0.309 sec)\n",
      "INFO:tensorflow:global_step/sec: 317.887\n",
      "INFO:tensorflow:loss = 0.02263582, step = 7301 (0.315 sec)\n",
      "INFO:tensorflow:global_step/sec: 326.678\n",
      "INFO:tensorflow:loss = 0.027778983, step = 7401 (0.306 sec)\n",
      "INFO:tensorflow:global_step/sec: 333.961\n"
     ]
    },
    {
     "name": "stdout",
     "output_type": "stream",
     "text": [
      "INFO:tensorflow:loss = 0.022532701, step = 7501 (0.299 sec)\n",
      "INFO:tensorflow:global_step/sec: 331.879\n",
      "INFO:tensorflow:loss = 0.06520635, step = 7601 (0.301 sec)\n",
      "INFO:tensorflow:global_step/sec: 340.126\n",
      "INFO:tensorflow:loss = 0.041950006, step = 7701 (0.294 sec)\n",
      "INFO:tensorflow:global_step/sec: 313.094\n",
      "INFO:tensorflow:loss = 0.035071965, step = 7801 (0.320 sec)\n",
      "INFO:tensorflow:global_step/sec: 333.269\n",
      "INFO:tensorflow:loss = 0.073177174, step = 7901 (0.300 sec)\n",
      "INFO:tensorflow:global_step/sec: 316.722\n",
      "INFO:tensorflow:loss = 0.0249988, step = 8001 (0.316 sec)\n",
      "INFO:tensorflow:global_step/sec: 325.083\n",
      "INFO:tensorflow:loss = 0.033503957, step = 8101 (0.308 sec)\n",
      "INFO:tensorflow:global_step/sec: 315.883\n",
      "INFO:tensorflow:loss = 0.058085203, step = 8201 (0.316 sec)\n",
      "INFO:tensorflow:global_step/sec: 331.04\n",
      "INFO:tensorflow:loss = 0.039822113, step = 8301 (0.302 sec)\n",
      "INFO:tensorflow:global_step/sec: 319.299\n",
      "INFO:tensorflow:loss = 0.02725768, step = 8401 (0.313 sec)\n",
      "INFO:tensorflow:global_step/sec: 322.087\n",
      "INFO:tensorflow:loss = 0.19473247, step = 8501 (0.311 sec)\n",
      "INFO:tensorflow:global_step/sec: 329.925\n",
      "INFO:tensorflow:loss = 0.06704538, step = 8601 (0.303 sec)\n",
      "INFO:tensorflow:global_step/sec: 321.083\n",
      "INFO:tensorflow:loss = 0.023814054, step = 8701 (0.311 sec)\n",
      "INFO:tensorflow:global_step/sec: 311.93\n",
      "INFO:tensorflow:loss = 0.053396735, step = 8801 (0.321 sec)\n",
      "INFO:tensorflow:global_step/sec: 305.18\n",
      "INFO:tensorflow:loss = 0.06912917, step = 8901 (0.328 sec)\n",
      "INFO:tensorflow:global_step/sec: 327.526\n",
      "INFO:tensorflow:loss = 0.07532664, step = 9001 (0.305 sec)\n",
      "INFO:tensorflow:global_step/sec: 322.169\n",
      "INFO:tensorflow:loss = 0.03437871, step = 9101 (0.311 sec)\n",
      "INFO:tensorflow:global_step/sec: 332.552\n",
      "INFO:tensorflow:loss = 0.07012618, step = 9201 (0.301 sec)\n",
      "INFO:tensorflow:global_step/sec: 329.217\n",
      "INFO:tensorflow:loss = 0.011221259, step = 9301 (0.304 sec)\n",
      "INFO:tensorflow:global_step/sec: 329.564\n",
      "INFO:tensorflow:loss = 0.033677567, step = 9401 (0.303 sec)\n",
      "INFO:tensorflow:global_step/sec: 319.24\n",
      "INFO:tensorflow:loss = 0.039119974, step = 9501 (0.313 sec)\n",
      "INFO:tensorflow:global_step/sec: 317.814\n",
      "INFO:tensorflow:loss = 0.02215635, step = 9601 (0.315 sec)\n",
      "INFO:tensorflow:global_step/sec: 319.249\n",
      "INFO:tensorflow:loss = 0.030554585, step = 9701 (0.314 sec)\n",
      "INFO:tensorflow:global_step/sec: 313.533\n",
      "INFO:tensorflow:loss = 0.015993427, step = 9801 (0.320 sec)\n",
      "INFO:tensorflow:global_step/sec: 312.062\n",
      "INFO:tensorflow:loss = 0.013266729, step = 9901 (0.319 sec)\n",
      "INFO:tensorflow:Saving checkpoints for 10000 into ./tmp/mnist_convnet_model2/model.ckpt.\n",
      "INFO:tensorflow:Loss for final step: 0.032954026.\n"
     ]
    }
   ],
   "source": [
    "mnist_classifier = main(None)"
   ]
  },
  {
   "cell_type": "code",
   "execution_count": 15,
   "metadata": {},
   "outputs": [
    {
     "name": "stdout",
     "output_type": "stream",
     "text": [
      "INFO:tensorflow:Restoring parameters from ./tmp/mnist_convnet_model2/model.ckpt-10000\n"
     ]
    }
   ],
   "source": [
    "test_input_fn = tf.estimator.inputs.numpy_input_fn(x={\"x\": X_test}, num_epochs=1, shuffle=False)\n",
    "p = list(mnist_classifier.predict(input_fn=test_input_fn))"
   ]
  },
  {
   "cell_type": "code",
   "execution_count": 16,
   "metadata": {},
   "outputs": [],
   "source": [
    "pred = [i['classes'] for i in p]"
   ]
  },
  {
   "cell_type": "markdown",
   "metadata": {
    "collapsed": true
   },
   "source": [
    "### after 10000 steps"
   ]
  },
  {
   "cell_type": "code",
   "execution_count": 17,
   "metadata": {},
   "outputs": [
    {
     "name": "stdout",
     "output_type": "stream",
     "text": [
      "[3, 6, 9, 5, 6, 5, 6, 0, 0, 1]\n",
      "[3 6 9 5 6 5 6 0 0 1]\n"
     ]
    }
   ],
   "source": [
    "print(pred[:10])\n",
    "print(y_test[:10])"
   ]
  },
  {
   "cell_type": "code",
   "execution_count": 18,
   "metadata": {},
   "outputs": [
    {
     "name": "stdout",
     "output_type": "stream",
     "text": [
      "[[1000    0    1    0    0    1    5    2    2    4]\n",
      " [   0 1180    2    1    2    0    1    2    2    0]\n",
      " [   3    7 1041    5    1    0    4    9    7    0]\n",
      " [   0    0    9 1032    1    8    1    5    7    7]\n",
      " [   1    4    0    0 1017    0    2    3    1    6]\n",
      " [   0    0    1    4    0  909    6    1    7    2]\n",
      " [   1    1    2    0    4    4 1030    0    2    0]\n",
      " [   1    6    8    0    4    3    0 1098    3    6]\n",
      " [   3    3    0    3    2    2    9    0  965    8]\n",
      " [   3    1    1    2    9    2    3    9    5  981]]\n"
     ]
    }
   ],
   "source": [
    "cm = tf.confusion_matrix(y_test, pred, num_classes=10)\n",
    "with tf.Session() as sess:\n",
    "    print(sess.run(cm))"
   ]
  },
  {
   "cell_type": "markdown",
   "metadata": {},
   "source": [
    "# make predictions"
   ]
  },
  {
   "cell_type": "code",
   "execution_count": 19,
   "metadata": {},
   "outputs": [],
   "source": [
    "submdata = pd.read_csv(\"./input/test.csv\")"
   ]
  },
  {
   "cell_type": "code",
   "execution_count": 20,
   "metadata": {},
   "outputs": [
    {
     "name": "stdout",
     "output_type": "stream",
     "text": [
      "28000\n"
     ]
    }
   ],
   "source": [
    "m = len(submdata)\n",
    "X_subm = np.array(submdata)\n",
    "X_subm = X_subm.reshape(m, 28, 28)\n",
    "X_subm = X_subm.astype('float32')\n",
    "print(len(X_subm))"
   ]
  },
  {
   "cell_type": "code",
   "execution_count": 21,
   "metadata": {},
   "outputs": [
    {
     "name": "stdout",
     "output_type": "stream",
     "text": [
      "INFO:tensorflow:Restoring parameters from ./tmp/mnist_convnet_model2/model.ckpt-10000\n"
     ]
    }
   ],
   "source": [
    "subm_input_fn = tf.estimator.inputs.numpy_input_fn(x={\"x\": X_subm}, num_epochs=1, shuffle=False)\n",
    "psubm = list(mnist_classifier.predict(input_fn=subm_input_fn))"
   ]
  },
  {
   "cell_type": "code",
   "execution_count": 22,
   "metadata": {},
   "outputs": [],
   "source": [
    "pred = [i['classes'] for i in psubm]"
   ]
  },
  {
   "cell_type": "code",
   "execution_count": 23,
   "metadata": {},
   "outputs": [],
   "source": [
    "subm = pd.DataFrame({\"ImageId\": np.arange(1,m+1), \"Label\": pred})\n",
    "subm.to_csv(\"subm2.csv\", index=False)"
   ]
  },
  {
   "cell_type": "code",
   "execution_count": null,
   "metadata": {},
   "outputs": [],
   "source": []
  }
 ],
 "metadata": {
  "kernelspec": {
   "display_name": "Python 3",
   "language": "python",
   "name": "python3"
  },
  "language_info": {
   "codemirror_mode": {
    "name": "ipython",
    "version": 3
   },
   "file_extension": ".py",
   "mimetype": "text/x-python",
   "name": "python",
   "nbconvert_exporter": "python",
   "pygments_lexer": "ipython3",
   "version": "3.6.5"
  }
 },
 "nbformat": 4,
 "nbformat_minor": 2
}
