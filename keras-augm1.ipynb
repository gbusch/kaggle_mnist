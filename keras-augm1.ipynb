{
 "cells": [
  {
   "cell_type": "code",
   "execution_count": 20,
   "metadata": {},
   "outputs": [],
   "source": [
    "import pandas as pd\n",
    "import numpy as np\n",
    "import matplotlib.pyplot as plt\n",
    "from sklearn.model_selection import train_test_split\n",
    "\n",
    "from keras.models import Sequential\n",
    "from keras.layers import Dense\n",
    "from keras.layers import Dropout\n",
    "from keras.layers import Flatten\n",
    "from keras.layers.convolutional import Conv2D\n",
    "from keras.layers.convolutional import MaxPooling2D\n",
    "from keras.layers.convolutional import AveragePooling2D\n",
    "from keras.callbacks import EarlyStopping\n",
    "from keras.utils import np_utils"
   ]
  },
  {
   "cell_type": "code",
   "execution_count": 2,
   "metadata": {},
   "outputs": [],
   "source": [
    "#data = pd.read_csv(\"./input/train.csv\")\n",
    "data = np.load(\"augmented.npz\")"
   ]
  },
  {
   "cell_type": "code",
   "execution_count": 3,
   "metadata": {},
   "outputs": [],
   "source": [
    "X = data['x']\n",
    "Y = data['y']"
   ]
  },
  {
   "cell_type": "code",
   "execution_count": 4,
   "metadata": {},
   "outputs": [],
   "source": [
    "X_train, X_test, y_train, y_test = train_test_split(X, Y, test_size=0.1, random_state=0)"
   ]
  },
  {
   "cell_type": "code",
   "execution_count": 5,
   "metadata": {},
   "outputs": [],
   "source": [
    "X_train = X_train.reshape(X_train.shape[0], 28, 28, 1).astype('float32')\n",
    "X_test = X_test.reshape(X_test.shape[0], 28, 28, 1).astype('float32')"
   ]
  },
  {
   "cell_type": "code",
   "execution_count": 6,
   "metadata": {},
   "outputs": [
    {
     "name": "stdout",
     "output_type": "stream",
     "text": [
      "Shape of X_train: (378000, 28, 28, 1), shape of y_train: (378000,)\n",
      "Shape of X_test: (42000, 28, 28, 1), shape of y_test: (42000,)\n"
     ]
    }
   ],
   "source": [
    "print(\"Shape of X_train: {}, shape of y_train: {}\".format(X_train.shape, y_train.shape))\n",
    "print(\"Shape of X_test: {}, shape of y_test: {}\".format(X_test.shape, y_test.shape))"
   ]
  },
  {
   "cell_type": "code",
   "execution_count": 17,
   "metadata": {},
   "outputs": [],
   "source": [
    "X_train[X_train < 0] = 0\n",
    "X_test[X_test < 0] = 0"
   ]
  },
  {
   "cell_type": "code",
   "execution_count": 21,
   "metadata": {},
   "outputs": [],
   "source": [
    "# one hot encode outputs\n",
    "y_train = np_utils.to_categorical(y_train)\n",
    "y_test = np_utils.to_categorical(y_test)\n",
    "num_classes = y_test.shape[1]"
   ]
  },
  {
   "cell_type": "code",
   "execution_count": 22,
   "metadata": {},
   "outputs": [],
   "source": [
    "def cnn_model():\n",
    "    model = Sequential()\n",
    "    model.add(Conv2D(10, (3,3), input_shape=(28, 28, 1), activation='relu'))\n",
    "    model.add(Conv2D(20, (5,5), strides=(2,2), activation='relu'))\n",
    "    model.add(Conv2D(40, (5,5), activation='relu'))\n",
    "    model.add(Flatten())\n",
    "    model.add(Dense(num_classes, activation='softmax'))\n",
    "    \n",
    "    model.compile(loss='categorical_crossentropy', optimizer='adam', metrics=['accuracy'])\n",
    "    return model"
   ]
  },
  {
   "cell_type": "code",
   "execution_count": 45,
   "metadata": {},
   "outputs": [
    {
     "name": "stdout",
     "output_type": "stream",
     "text": [
      "Train on 37800 samples, validate on 4200 samples\n",
      "Epoch 1/10\n",
      "37800/37800 [==============================] - 14s 379us/step - loss: 0.3884 - acc: 0.8882 - val_loss: 0.1417 - val_acc: 0.9548\n",
      "Epoch 2/10\n",
      "37800/37800 [==============================] - 9s 237us/step - loss: 0.0900 - acc: 0.9725 - val_loss: 0.0851 - val_acc: 0.9740\n",
      "Epoch 3/10\n",
      "37800/37800 [==============================] - 9s 241us/step - loss: 0.0603 - acc: 0.9815 - val_loss: 0.0641 - val_acc: 0.9783\n",
      "Epoch 4/10\n",
      "37800/37800 [==============================] - 9s 247us/step - loss: 0.0458 - acc: 0.9859 - val_loss: 0.0607 - val_acc: 0.9824\n",
      "Epoch 5/10\n",
      "37800/37800 [==============================] - 9s 246us/step - loss: 0.0364 - acc: 0.9889 - val_loss: 0.0510 - val_acc: 0.9852\n",
      "Epoch 6/10\n",
      "37800/37800 [==============================] - 9s 240us/step - loss: 0.0312 - acc: 0.9907 - val_loss: 0.0519 - val_acc: 0.9860\n",
      "Epoch 7/10\n",
      "37800/37800 [==============================] - 9s 234us/step - loss: 0.0257 - acc: 0.9916 - val_loss: 0.0455 - val_acc: 0.9871\n",
      "Epoch 8/10\n",
      "37800/37800 [==============================] - 9s 240us/step - loss: 0.0200 - acc: 0.9936 - val_loss: 0.0434 - val_acc: 0.9874\n",
      "Epoch 9/10\n",
      "37800/37800 [==============================] - 9s 244us/step - loss: 0.0153 - acc: 0.9951 - val_loss: 0.0533 - val_acc: 0.9862\n",
      "Epoch 10/10\n",
      "37800/37800 [==============================] - 9s 238us/step - loss: 0.0145 - acc: 0.9955 - val_loss: 0.0464 - val_acc: 0.9867\n"
     ]
    },
    {
     "data": {
      "text/plain": [
       "<keras.callbacks.History at 0x7f2aae705160>"
      ]
     },
     "execution_count": 45,
     "metadata": {},
     "output_type": "execute_result"
    }
   ],
   "source": [
    "model = cnn_model()\n",
    "model.fit(X_train, y_train, validation_data=(X_test, y_test), epochs=10, batch_size=200)"
   ]
  },
  {
   "cell_type": "code",
   "execution_count": 47,
   "metadata": {},
   "outputs": [
    {
     "name": "stdout",
     "output_type": "stream",
     "text": [
      "ConvNet Error: 1.33%\n"
     ]
    }
   ],
   "source": [
    "scores = model.evaluate(X_test, y_test, verbose=0)\n",
    "print(\"ConvNet Error: %.2f%%\" % (100-scores[1]*100))"
   ]
  },
  {
   "cell_type": "code",
   "execution_count": 48,
   "metadata": {},
   "outputs": [],
   "source": [
    "#added two more fully connected layers\n",
    "\n",
    "def cnn2_model():\n",
    "    model = Sequential()\n",
    "    model.add(Conv2D(10, (3,3), input_shape=(28, 28, 1), activation='relu'))\n",
    "    model.add(Conv2D(20, (5,5), strides=(2,2), activation='relu'))\n",
    "    model.add(Conv2D(40, (5,5), activation='relu'))\n",
    "    model.add(Flatten())\n",
    "    model.add(Dense(128, activation='relu'))\n",
    "    model.add(Dense(64, activation='relu'))\n",
    "    model.add(Dense(num_classes, activation='softmax'))\n",
    "    \n",
    "    model.compile(loss='categorical_crossentropy', optimizer='adam', metrics=['accuracy'])\n",
    "    return model"
   ]
  },
  {
   "cell_type": "code",
   "execution_count": 49,
   "metadata": {},
   "outputs": [
    {
     "name": "stdout",
     "output_type": "stream",
     "text": [
      "Train on 37800 samples, validate on 4200 samples\n",
      "Epoch 1/10\n",
      "37800/37800 [==============================] - 10s 268us/step - loss: 0.3366 - acc: 0.8997 - val_loss: 0.1279 - val_acc: 0.9607\n",
      "Epoch 2/10\n",
      "37800/37800 [==============================] - 10s 256us/step - loss: 0.0833 - acc: 0.9748 - val_loss: 0.0820 - val_acc: 0.9755\n",
      "Epoch 3/10\n",
      "37800/37800 [==============================] - 10s 258us/step - loss: 0.0574 - acc: 0.9816 - val_loss: 0.0730 - val_acc: 0.9798\n",
      "Epoch 4/10\n",
      "37800/37800 [==============================] - 10s 255us/step - loss: 0.0406 - acc: 0.9874 - val_loss: 0.0638 - val_acc: 0.9793\n",
      "Epoch 5/10\n",
      "37800/37800 [==============================] - 10s 264us/step - loss: 0.0316 - acc: 0.9900 - val_loss: 0.0571 - val_acc: 0.9821\n",
      "Epoch 6/10\n",
      "37800/37800 [==============================] - 10s 254us/step - loss: 0.0230 - acc: 0.9926 - val_loss: 0.0524 - val_acc: 0.9843\n",
      "Epoch 7/10\n",
      "37800/37800 [==============================] - 10s 253us/step - loss: 0.0181 - acc: 0.9946 - val_loss: 0.0617 - val_acc: 0.9838\n",
      "Epoch 8/10\n",
      "37800/37800 [==============================] - 10s 259us/step - loss: 0.0150 - acc: 0.9953 - val_loss: 0.0484 - val_acc: 0.9886\n",
      "Epoch 9/10\n",
      "37800/37800 [==============================] - 10s 254us/step - loss: 0.0132 - acc: 0.9957 - val_loss: 0.0666 - val_acc: 0.9852\n",
      "Epoch 10/10\n",
      "37800/37800 [==============================] - 10s 255us/step - loss: 0.0112 - acc: 0.9963 - val_loss: 0.0745 - val_acc: 0.9812\n"
     ]
    },
    {
     "data": {
      "text/plain": [
       "<keras.callbacks.History at 0x7f2a9e440438>"
      ]
     },
     "execution_count": 49,
     "metadata": {},
     "output_type": "execute_result"
    }
   ],
   "source": [
    "model = cnn2_model()\n",
    "model.fit(X_train, y_train, validation_data=(X_test, y_test), epochs=10, batch_size=200)"
   ]
  },
  {
   "cell_type": "code",
   "execution_count": 50,
   "metadata": {},
   "outputs": [
    {
     "name": "stdout",
     "output_type": "stream",
     "text": [
      "ConvNet Error: 1.88%\n"
     ]
    }
   ],
   "source": [
    "scores = model.evaluate(X_test, y_test, verbose=0)\n",
    "print(\"ConvNet Error: %.2f%%\" % (100-scores[1]*100))"
   ]
  },
  {
   "cell_type": "code",
   "execution_count": 78,
   "metadata": {},
   "outputs": [],
   "source": [
    "# keep only one additional fully connected layer, add average pooling \n",
    "# instead of stride and dropout before flattening for regularization\n",
    "\n",
    "def cnn3_model():\n",
    "    model = Sequential()\n",
    "    model.add(Conv2D(10, (3,3), input_shape=(28, 28, 1), activation='relu'))\n",
    "    model.add(Conv2D(20, (5,5), activation='relu'))\n",
    "    model.add(AveragePooling2D(pool_size=(2,2)))\n",
    "    model.add(Conv2D(40, (5,5), activation='relu'))\n",
    "    model.add(Dropout(0.2))\n",
    "    model.add(Flatten())\n",
    "    model.add(Dense(128, activation='relu'))\n",
    "    model.add(Dense(num_classes, activation='softmax'))\n",
    "    \n",
    "    model.compile(loss='categorical_crossentropy', optimizer='adam', metrics=['accuracy'])\n",
    "    return model"
   ]
  },
  {
   "cell_type": "code",
   "execution_count": 79,
   "metadata": {},
   "outputs": [
    {
     "name": "stdout",
     "output_type": "stream",
     "text": [
      "Train on 37800 samples, validate on 4200 samples\n",
      "Epoch 1/10\n",
      "37800/37800 [==============================] - 25s 661us/step - loss: 0.3269 - acc: 0.9029 - val_loss: 0.1047 - val_acc: 0.9683\n",
      "Epoch 2/10\n",
      "37800/37800 [==============================] - 23s 618us/step - loss: 0.0755 - acc: 0.9771 - val_loss: 0.0589 - val_acc: 0.9836\n",
      "Epoch 3/10\n",
      "37800/37800 [==============================] - 24s 629us/step - loss: 0.0524 - acc: 0.9839 - val_loss: 0.0552 - val_acc: 0.9819\n",
      "Epoch 4/10\n",
      "37800/37800 [==============================] - 23s 612us/step - loss: 0.0373 - acc: 0.9878 - val_loss: 0.0464 - val_acc: 0.9850\n",
      "Epoch 5/10\n",
      "37800/37800 [==============================] - 23s 619us/step - loss: 0.0313 - acc: 0.9902 - val_loss: 0.0424 - val_acc: 0.9888\n",
      "Epoch 6/10\n",
      "37800/37800 [==============================] - 24s 629us/step - loss: 0.0264 - acc: 0.9919 - val_loss: 0.0445 - val_acc: 0.9888\n",
      "Epoch 7/10\n",
      "37800/37800 [==============================] - 23s 615us/step - loss: 0.0216 - acc: 0.9929 - val_loss: 0.0388 - val_acc: 0.9879\n",
      "Epoch 00007: early stopping\n"
     ]
    },
    {
     "data": {
      "text/plain": [
       "<keras.callbacks.History at 0x7f2a92b66f98>"
      ]
     },
     "execution_count": 79,
     "metadata": {},
     "output_type": "execute_result"
    }
   ],
   "source": [
    "model = cnn3_model()\n",
    "model.fit(X_train, y_train, validation_data=(X_test, y_test), epochs=10, batch_size=200, callbacks=[EarlyStopping(monitor='val_acc', min_delta=0.001, patience=2, verbose=1, mode='auto')])"
   ]
  },
  {
   "cell_type": "code",
   "execution_count": 80,
   "metadata": {},
   "outputs": [
    {
     "name": "stdout",
     "output_type": "stream",
     "text": [
      "ConvNet Error: 1.21%\n"
     ]
    }
   ],
   "source": [
    "scores = model.evaluate(X_test, y_test, verbose=0)\n",
    "print(\"ConvNet Error: %.2f%%\" % (100-scores[1]*100))"
   ]
  },
  {
   "cell_type": "code",
   "execution_count": 66,
   "metadata": {},
   "outputs": [],
   "source": [
    "submdata = pd.read_csv(\"./input/test.csv\")"
   ]
  },
  {
   "cell_type": "code",
   "execution_count": 70,
   "metadata": {},
   "outputs": [],
   "source": [
    "m = len(submdata)\n",
    "X_subm = np.array(submdata)\n",
    "X_subm = X_subm.reshape(m, 28, 28, 1).astype('float32')"
   ]
  },
  {
   "cell_type": "code",
   "execution_count": 71,
   "metadata": {},
   "outputs": [],
   "source": [
    "pred = model.predict(X_subm)"
   ]
  },
  {
   "cell_type": "code",
   "execution_count": 72,
   "metadata": {},
   "outputs": [],
   "source": [
    "subm = pd.DataFrame({\"ImageId\": np.arange(1, m+1), \"Label\": np.argmax(pred, axis=1)})\n",
    "subm.to_csv(\"subm3.csv\", index=False)"
   ]
  },
  {
   "cell_type": "code",
   "execution_count": 25,
   "metadata": {},
   "outputs": [],
   "source": [
    "# keep only one additional fully connected layer, add average pooling \n",
    "# instead of stride and dropout before flattening for regularization\n",
    "\n",
    "def cnn4_model():\n",
    "    model = Sequential()\n",
    "    model.add(Conv2D(10, (3,3), input_shape=(28, 28, 1), activation='relu'))\n",
    "    model.add(Conv2D(20, (5,5), activation='relu'))\n",
    "    model.add(AveragePooling2D(pool_size=(2,2)))\n",
    "    model.add(Conv2D(40, (5,5), activation='relu'))\n",
    "    model.add(Dropout(0.2))\n",
    "    model.add(Flatten())\n",
    "    model.add(Dense(128, activation='relu'))\n",
    "    model.add(Dense(num_classes, activation='softmax'))\n",
    "    \n",
    "    model.compile(loss='categorical_crossentropy', optimizer='adam', metrics=['accuracy'])\n",
    "    return model"
   ]
  },
  {
   "cell_type": "code",
   "execution_count": 26,
   "metadata": {},
   "outputs": [
    {
     "name": "stdout",
     "output_type": "stream",
     "text": [
      "Train on 378000 samples, validate on 42000 samples\n",
      "Epoch 1/10\n",
      "378000/378000 [==============================] - 27s 71us/step - loss: 0.1790 - acc: 0.9446 - val_loss: 0.0627 - val_acc: 0.9810\n",
      "Epoch 2/10\n",
      "378000/378000 [==============================] - 23s 62us/step - loss: 0.0539 - acc: 0.9832 - val_loss: 0.0414 - val_acc: 0.9876\n",
      "Epoch 3/10\n",
      "378000/378000 [==============================] - 22s 57us/step - loss: 0.0368 - acc: 0.9883 - val_loss: 0.0296 - val_acc: 0.9903\n",
      "Epoch 4/10\n",
      "378000/378000 [==============================] - 21s 56us/step - loss: 0.0281 - acc: 0.9911 - val_loss: 0.0281 - val_acc: 0.9911\n",
      "Epoch 5/10\n",
      "378000/378000 [==============================] - 21s 55us/step - loss: 0.0225 - acc: 0.9929 - val_loss: 0.0242 - val_acc: 0.9927\n",
      "Epoch 6/10\n",
      "378000/378000 [==============================] - 21s 55us/step - loss: 0.0182 - acc: 0.9940 - val_loss: 0.0231 - val_acc: 0.9929\n",
      "Epoch 7/10\n",
      "378000/378000 [==============================] - 21s 56us/step - loss: 0.0156 - acc: 0.9948 - val_loss: 0.0206 - val_acc: 0.9941\n",
      "Epoch 8/10\n",
      "378000/378000 [==============================] - 21s 57us/step - loss: 0.0136 - acc: 0.9956 - val_loss: 0.0226 - val_acc: 0.9939\n",
      "Epoch 9/10\n",
      "378000/378000 [==============================] - 21s 56us/step - loss: 0.0120 - acc: 0.9959 - val_loss: 0.0216 - val_acc: 0.9939\n",
      "Epoch 00009: early stopping\n"
     ]
    },
    {
     "data": {
      "text/plain": [
       "<keras.callbacks.History at 0x7efd2547c780>"
      ]
     },
     "execution_count": 26,
     "metadata": {},
     "output_type": "execute_result"
    }
   ],
   "source": [
    "model = cnn4_model()\n",
    "model.fit(X_train, y_train, validation_data=(X_test, y_test), epochs=10, batch_size=200, callbacks=[EarlyStopping(monitor='val_acc', min_delta=0.001, patience=2, verbose=1, mode='auto')])"
   ]
  },
  {
   "cell_type": "code",
   "execution_count": 27,
   "metadata": {},
   "outputs": [
    {
     "name": "stdout",
     "output_type": "stream",
     "text": [
      "ConvNet Error: 0.61%\n"
     ]
    }
   ],
   "source": [
    "scores = model.evaluate(X_test, y_test, verbose=0)\n",
    "print(\"ConvNet Error: %.2f%%\" % (100-scores[1]*100))"
   ]
  },
  {
   "cell_type": "code",
   "execution_count": 29,
   "metadata": {},
   "outputs": [],
   "source": [
    "def submfile(fname=\"subm.csv\"):\n",
    "    submdata = pd.read_csv(\"./input/test.csv\")\n",
    "    m = len(submdata)\n",
    "    X_subm = np.array(submdata)\n",
    "    X_subm = X_subm.reshape(m, 28, 28, 1).astype('float32')\n",
    "    pred = model.predict(X_subm)\n",
    "    subm = pd.DataFrame({\"ImageId\": np.arange(1, m+1), \"Label\": np.argmax(pred, axis=1)})\n",
    "    subm.to_csv(fname, index=False)"
   ]
  },
  {
   "cell_type": "code",
   "execution_count": 30,
   "metadata": {},
   "outputs": [],
   "source": [
    "submfile(\"subm4.csv\")"
   ]
  },
  {
   "cell_type": "code",
   "execution_count": 32,
   "metadata": {},
   "outputs": [],
   "source": [
    "# keep only one additional fully connected layer, add average pooling \n",
    "# instead of stride and dropout before flattening for regularization\n",
    "\n",
    "# apparently there was some overfitting, try to move the dropout before the softmax layer\n",
    "\n",
    "def cnn5_model():\n",
    "    model = Sequential()\n",
    "    model.add(Conv2D(10, (3,3), input_shape=(28, 28, 1), activation='relu'))\n",
    "    model.add(Conv2D(20, (5,5), activation='relu'))\n",
    "    model.add(AveragePooling2D(pool_size=(2,2)))\n",
    "    model.add(Conv2D(40, (5,5), activation='relu'))\n",
    "    model.add(Flatten())\n",
    "    model.add(Dense(128, activation='relu'))\n",
    "    model.add(Dropout(0.2))\n",
    "    model.add(Dense(num_classes, activation='softmax'))\n",
    "    \n",
    "    model.compile(loss='categorical_crossentropy', optimizer='adam', metrics=['accuracy'])\n",
    "    return model"
   ]
  },
  {
   "cell_type": "code",
   "execution_count": 34,
   "metadata": {},
   "outputs": [
    {
     "name": "stdout",
     "output_type": "stream",
     "text": [
      "Train on 378000 samples, validate on 42000 samples\n",
      "Epoch 1/10\n",
      "378000/378000 [==============================] - 22s 57us/step - loss: 0.1917 - acc: 0.9407 - val_loss: 0.0595 - val_acc: 0.9817\n",
      "Epoch 2/10\n",
      "378000/378000 [==============================] - 21s 57us/step - loss: 0.0591 - acc: 0.9817 - val_loss: 0.0511 - val_acc: 0.9838\n",
      "Epoch 3/10\n",
      "378000/378000 [==============================] - 21s 55us/step - loss: 0.0420 - acc: 0.9871 - val_loss: 0.0339 - val_acc: 0.9894\n",
      "Epoch 4/10\n",
      "378000/378000 [==============================] - 20s 54us/step - loss: 0.0326 - acc: 0.9898 - val_loss: 0.0346 - val_acc: 0.9891\n",
      "Epoch 5/10\n",
      "378000/378000 [==============================] - 20s 54us/step - loss: 0.0259 - acc: 0.9917 - val_loss: 0.0264 - val_acc: 0.9918\n",
      "Epoch 6/10\n",
      "378000/378000 [==============================] - 20s 54us/step - loss: 0.0220 - acc: 0.9929 - val_loss: 0.0245 - val_acc: 0.9927\n",
      "Epoch 7/10\n",
      "378000/378000 [==============================] - 20s 54us/step - loss: 0.0194 - acc: 0.9937 - val_loss: 0.0218 - val_acc: 0.9932\n",
      "Epoch 8/10\n",
      "378000/378000 [==============================] - 20s 54us/step - loss: 0.0160 - acc: 0.9949 - val_loss: 0.0214 - val_acc: 0.9940\n",
      "Epoch 9/10\n",
      "378000/378000 [==============================] - 21s 57us/step - loss: 0.0144 - acc: 0.9954 - val_loss: 0.0263 - val_acc: 0.9929\n",
      "Epoch 00009: early stopping\n"
     ]
    },
    {
     "data": {
      "text/plain": [
       "<keras.callbacks.History at 0x7efd201b3dd8>"
      ]
     },
     "execution_count": 34,
     "metadata": {},
     "output_type": "execute_result"
    }
   ],
   "source": [
    "model = cnn5_model()\n",
    "model.fit(X_train, y_train, validation_data=(X_test, y_test), epochs=10, batch_size=200, callbacks=[EarlyStopping(monitor='val_acc', min_delta=0.001, patience=2, verbose=1, mode='auto')])"
   ]
  },
  {
   "cell_type": "code",
   "execution_count": 35,
   "metadata": {},
   "outputs": [
    {
     "name": "stdout",
     "output_type": "stream",
     "text": [
      "ConvNet Error: 0.71%\n"
     ]
    }
   ],
   "source": [
    "scores = model.evaluate(X_test, y_test, verbose=0)\n",
    "print(\"ConvNet Error: %.2f%%\" % (100-scores[1]*100))"
   ]
  },
  {
   "cell_type": "code",
   "execution_count": 38,
   "metadata": {},
   "outputs": [],
   "source": [
    "# keep only one additional fully connected layer, add average pooling \n",
    "# instead of stride and dropout before flattening for regularization\n",
    "\n",
    "# apparently there was some overfitting, try to move the dropout before the softmax layer\n",
    "\n",
    "def cnn6_model():\n",
    "    model = Sequential()\n",
    "    model.add(Conv2D(10, (3,3), input_shape=(28, 28, 1), padding='same', activation='relu'))\n",
    "    model.add(MaxPooling2D(pool_size=(2,2)))\n",
    "    model.add(Conv2D(20, (3,3), activation='relu'))\n",
    "    model.add(MaxPooling2D(pool_size=(2,2)))\n",
    "    model.add(Conv2D(40, (3,3), activation='relu'))\n",
    "    model.add(MaxPooling2D(pool_size=(2,2)))\n",
    "    model.add(Flatten())\n",
    "    model.add(Dense(128, activation='relu'))\n",
    "    model.add(Dropout(0.2))\n",
    "    model.add(Dense(num_classes, activation='softmax'))\n",
    "    \n",
    "    model.compile(loss='categorical_crossentropy', optimizer='adam', metrics=['accuracy'])\n",
    "    return model"
   ]
  },
  {
   "cell_type": "code",
   "execution_count": 41,
   "metadata": {},
   "outputs": [
    {
     "name": "stdout",
     "output_type": "stream",
     "text": [
      "Train on 378000 samples, validate on 42000 samples\n",
      "Epoch 1/30\n",
      "378000/378000 [==============================] - 17s 44us/step - loss: 0.2602 - acc: 0.9175 - val_loss: 0.0952 - val_acc: 0.9705\n",
      "Epoch 2/30\n",
      "378000/378000 [==============================] - 16s 43us/step - loss: 0.0894 - acc: 0.9721 - val_loss: 0.0609 - val_acc: 0.9814\n",
      "Epoch 3/30\n",
      "378000/378000 [==============================] - 16s 43us/step - loss: 0.0651 - acc: 0.9797 - val_loss: 0.0554 - val_acc: 0.9830\n",
      "Epoch 4/30\n",
      "378000/378000 [==============================] - 16s 43us/step - loss: 0.0535 - acc: 0.9833 - val_loss: 0.0432 - val_acc: 0.9868\n",
      "Epoch 5/30\n",
      "378000/378000 [==============================] - 16s 43us/step - loss: 0.0458 - acc: 0.9858 - val_loss: 0.0419 - val_acc: 0.9876\n",
      "Epoch 6/30\n",
      "378000/378000 [==============================] - 16s 43us/step - loss: 0.0402 - acc: 0.9874 - val_loss: 0.0376 - val_acc: 0.9883\n",
      "Epoch 7/30\n",
      "378000/378000 [==============================] - 16s 42us/step - loss: 0.0361 - acc: 0.9885 - val_loss: 0.0371 - val_acc: 0.9886\n",
      "Epoch 8/30\n",
      "378000/378000 [==============================] - 16s 42us/step - loss: 0.0329 - acc: 0.9895 - val_loss: 0.0340 - val_acc: 0.9896\n",
      "Epoch 9/30\n",
      "378000/378000 [==============================] - 16s 42us/step - loss: 0.0300 - acc: 0.9905 - val_loss: 0.0307 - val_acc: 0.9906\n",
      "Epoch 10/30\n",
      "378000/378000 [==============================] - 16s 43us/step - loss: 0.0278 - acc: 0.9910 - val_loss: 0.0289 - val_acc: 0.9915\n",
      "Epoch 11/30\n",
      "378000/378000 [==============================] - 16s 42us/step - loss: 0.0258 - acc: 0.9917 - val_loss: 0.0303 - val_acc: 0.9909\n",
      "Epoch 12/30\n",
      "378000/378000 [==============================] - 16s 43us/step - loss: 0.0238 - acc: 0.9922 - val_loss: 0.0282 - val_acc: 0.9913\n",
      "Epoch 00012: early stopping\n"
     ]
    },
    {
     "data": {
      "text/plain": [
       "<keras.callbacks.History at 0x7efcd6ac9588>"
      ]
     },
     "execution_count": 41,
     "metadata": {},
     "output_type": "execute_result"
    }
   ],
   "source": [
    "model = cnn6_model()\n",
    "model.fit(X_train, y_train, validation_data=(X_test, y_test), epochs=30, batch_size=200, callbacks=[EarlyStopping(monitor='val_acc', min_delta=0.0001, patience=2, verbose=1, mode='auto')])"
   ]
  },
  {
   "cell_type": "code",
   "execution_count": 43,
   "metadata": {},
   "outputs": [
    {
     "name": "stdout",
     "output_type": "stream",
     "text": [
      "ConvNet Error: 0.87%\n"
     ]
    }
   ],
   "source": [
    "scores = model.evaluate(X_test, y_test, verbose=0)\n",
    "print(\"ConvNet Error: %.2f%%\" % (100-scores[1]*100))"
   ]
  },
  {
   "cell_type": "code",
   "execution_count": 44,
   "metadata": {},
   "outputs": [],
   "source": [
    "submfile(\"subm6.csv\")"
   ]
  },
  {
   "cell_type": "code",
   "execution_count": null,
   "metadata": {},
   "outputs": [],
   "source": []
  }
 ],
 "metadata": {
  "kernelspec": {
   "display_name": "Python 3",
   "language": "python",
   "name": "python3"
  },
  "language_info": {
   "codemirror_mode": {
    "name": "ipython",
    "version": 3
   },
   "file_extension": ".py",
   "mimetype": "text/x-python",
   "name": "python",
   "nbconvert_exporter": "python",
   "pygments_lexer": "ipython3",
   "version": "3.6.5"
  }
 },
 "nbformat": 4,
 "nbformat_minor": 2
}
