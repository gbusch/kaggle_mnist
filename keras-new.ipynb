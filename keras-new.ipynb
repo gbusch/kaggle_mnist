{
 "cells": [
  {
   "cell_type": "code",
   "execution_count": 39,
   "metadata": {},
   "outputs": [],
   "source": [
    "import pandas as pd\n",
    "import numpy as np\n",
    "import matplotlib.pyplot as plt\n",
    "from sklearn.model_selection import train_test_split\n",
    "from sklearn.metrics import confusion_matrix, accuracy_score\n",
    "from scipy import stats\n",
    "\n",
    "from keras.models import Sequential\n",
    "from keras.layers import Dense\n",
    "from keras.layers import Dropout\n",
    "from keras.layers import Flatten\n",
    "from keras.layers import Activation\n",
    "from keras.layers.convolutional import Conv2D\n",
    "from keras.layers.convolutional import MaxPooling2D\n",
    "from keras.layers.convolutional import AveragePooling2D\n",
    "from keras.layers.normalization import BatchNormalization\n",
    "from keras.callbacks import EarlyStopping\n",
    "from keras.utils import np_utils\n",
    "from keras.preprocessing.image import ImageDataGenerator"
   ]
  },
  {
   "cell_type": "code",
   "execution_count": 2,
   "metadata": {},
   "outputs": [],
   "source": [
    "data = pd.read_csv(\"./input/train.csv\")"
   ]
  },
  {
   "cell_type": "code",
   "execution_count": 3,
   "metadata": {},
   "outputs": [],
   "source": [
    "m = len(data)\n",
    "X = np.array(data.loc[:, data.columns != 'label'])\n",
    "Y = np.array(data['label'])"
   ]
  },
  {
   "cell_type": "code",
   "execution_count": 4,
   "metadata": {},
   "outputs": [],
   "source": [
    "X_train, X_test, y_train, y_test = train_test_split(X, Y, test_size=0.1, random_state=0)"
   ]
  },
  {
   "cell_type": "code",
   "execution_count": 5,
   "metadata": {},
   "outputs": [],
   "source": [
    "X_train = X_train.reshape(X_train.shape[0], 28, 28, 1).astype('float32')\n",
    "X_test = X_test.reshape(X_test.shape[0], 28, 28, 1).astype('float32')"
   ]
  },
  {
   "cell_type": "code",
   "execution_count": 6,
   "metadata": {},
   "outputs": [
    {
     "name": "stdout",
     "output_type": "stream",
     "text": [
      "Shape of X_train: (37800, 28, 28, 1), shape of y_train: (37800,)\n",
      "Shape of X_test: (4200, 28, 28, 1), shape of y_test: (4200,)\n"
     ]
    }
   ],
   "source": [
    "print(\"Shape of X_train: {}, shape of y_train: {}\".format(X_train.shape, y_train.shape))\n",
    "print(\"Shape of X_test: {}, shape of y_test: {}\".format(X_test.shape, y_test.shape))"
   ]
  },
  {
   "cell_type": "code",
   "execution_count": 7,
   "metadata": {},
   "outputs": [],
   "source": [
    "# normalize inputs from 0-255 to 0-1\n",
    "X_train /= 255\n",
    "X_test /= 255\n",
    "# one hot encode outputs\n",
    "y_train = np_utils.to_categorical(y_train)\n",
    "y_test = np_utils.to_categorical(y_test)\n",
    "num_classes = y_test.shape[1]"
   ]
  },
  {
   "cell_type": "code",
   "execution_count": 117,
   "metadata": {},
   "outputs": [],
   "source": [
    "def cnn_model():\n",
    "    model = Sequential()\n",
    "    model.add(Conv2D(32, (3,3), input_shape=(28, 28, 1), activation='relu'))\n",
    "    model.add(Conv2D(32, (3,3), activation='relu'))\n",
    "    model.add(MaxPooling2D(pool_size=(2,2)))\n",
    "    model.add(Conv2D(64, (3,3), activation='relu'))\n",
    "    model.add(Conv2D(64, (3,3), activation='relu'))\n",
    "    model.add(MaxPooling2D(pool_size=(2,2)))\n",
    "    model.add(Flatten())\n",
    "    model.add(Dense(256, activation='relu'))\n",
    "    model.add(Dropout(0.3))\n",
    "    model.add(Dense(num_classes, activation='softmax'))\n",
    "    \n",
    "    model.compile(loss='categorical_crossentropy', optimizer='adam', metrics=['accuracy'])\n",
    "    return model"
   ]
  },
  {
   "cell_type": "code",
   "execution_count": 118,
   "metadata": {},
   "outputs": [
    {
     "name": "stdout",
     "output_type": "stream",
     "text": [
      "Train on 37800 samples, validate on 4200 samples\n",
      "Epoch 1/30\n",
      "37800/37800 [==============================] - 5s 131us/step - loss: 0.3145 - acc: 0.8989 - val_loss: 0.0829 - val_acc: 0.9745\n",
      "Epoch 2/30\n",
      "37800/37800 [==============================] - 3s 72us/step - loss: 0.0710 - acc: 0.9779 - val_loss: 0.0549 - val_acc: 0.9817\n",
      "Epoch 3/30\n",
      "37800/37800 [==============================] - 3s 72us/step - loss: 0.0475 - acc: 0.9847 - val_loss: 0.0448 - val_acc: 0.9855\n",
      "Epoch 4/30\n",
      "37800/37800 [==============================] - 3s 72us/step - loss: 0.0385 - acc: 0.9879 - val_loss: 0.0405 - val_acc: 0.9879\n",
      "Epoch 5/30\n",
      "37800/37800 [==============================] - 3s 73us/step - loss: 0.0280 - acc: 0.9905 - val_loss: 0.0383 - val_acc: 0.9886\n",
      "Epoch 6/30\n",
      "37800/37800 [==============================] - 3s 73us/step - loss: 0.0232 - acc: 0.9929 - val_loss: 0.0405 - val_acc: 0.9871\n",
      "Epoch 7/30\n",
      "37800/37800 [==============================] - 3s 72us/step - loss: 0.0183 - acc: 0.9945 - val_loss: 0.0347 - val_acc: 0.9890\n",
      "Epoch 8/30\n",
      "37800/37800 [==============================] - 3s 72us/step - loss: 0.0180 - acc: 0.9942 - val_loss: 0.0319 - val_acc: 0.9905\n",
      "Epoch 9/30\n",
      "37800/37800 [==============================] - 3s 72us/step - loss: 0.0151 - acc: 0.9947 - val_loss: 0.0326 - val_acc: 0.9895\n",
      "Epoch 10/30\n",
      "37800/37800 [==============================] - 3s 73us/step - loss: 0.0133 - acc: 0.9957 - val_loss: 0.0285 - val_acc: 0.9905\n",
      "Epoch 00010: early stopping\n"
     ]
    },
    {
     "data": {
      "text/plain": [
       "<keras.callbacks.History at 0x7fc5014c8828>"
      ]
     },
     "execution_count": 118,
     "metadata": {},
     "output_type": "execute_result"
    }
   ],
   "source": [
    "model = cnn_model()\n",
    "model.fit(X_train, y_train, validation_data=(X_test, y_test), epochs=30, batch_size=200, callbacks=[EarlyStopping(monitor='val_acc', min_delta=0.0001, patience=2, verbose=1, mode='auto')])"
   ]
  },
  {
   "cell_type": "code",
   "execution_count": 119,
   "metadata": {},
   "outputs": [
    {
     "name": "stdout",
     "output_type": "stream",
     "text": [
      "ConvNet Error: 0.95%\n"
     ]
    }
   ],
   "source": [
    "scores = model.evaluate(X_test, y_test, verbose=0)\n",
    "print(\"ConvNet Error: %.2f%%\" % (100-scores[1]*100))"
   ]
  },
  {
   "cell_type": "code",
   "execution_count": 107,
   "metadata": {},
   "outputs": [],
   "source": [
    "def cnn_model():\n",
    "    model = Sequential()\n",
    "    model.add(Conv2D(32, (3,3), input_shape=(28, 28, 1)))\n",
    "    model.add(Activation('relu'))\n",
    "    model.add(BatchNormalization())\n",
    "    model.add(Conv2D(32, (3,3)))\n",
    "    model.add(Activation('relu'))\n",
    "    model.add(BatchNormalization())\n",
    "    model.add(MaxPooling2D(pool_size=(2,2)))\n",
    "    model.add(Dropout(0.3))\n",
    "    \n",
    "    model.add(Conv2D(64, (3,3)))\n",
    "    model.add(Activation('relu'))\n",
    "    model.add(BatchNormalization())\n",
    "    model.add(Conv2D(64, (3,3)))\n",
    "    model.add(Activation('relu'))\n",
    "    model.add(BatchNormalization())\n",
    "    model.add(MaxPooling2D(pool_size=(2,2)))\n",
    "    model.add(Dropout(0.3))\n",
    "    \n",
    "    model.add(Flatten())\n",
    "    model.add(Dense(1024))\n",
    "    model.add(Activation('relu'))\n",
    "    model.add(BatchNormalization())\n",
    "    model.add(Dropout(0.3))\n",
    "    \n",
    "    model.add(Dense(512))\n",
    "    model.add(Activation('relu'))\n",
    "    model.add(BatchNormalization())\n",
    "    model.add(Dropout(0.3))\n",
    "    \n",
    "    model.add(Dense(num_classes))\n",
    "    model.add(Activation('softmax'))\n",
    "    \n",
    "    model.compile(loss='categorical_crossentropy', optimizer='adam', metrics=['accuracy'])\n",
    "    return model"
   ]
  },
  {
   "cell_type": "code",
   "execution_count": 108,
   "metadata": {},
   "outputs": [
    {
     "name": "stdout",
     "output_type": "stream",
     "text": [
      "Train on 37800 samples, validate on 4200 samples\n",
      "Epoch 1/30\n",
      "37800/37800 [==============================] - 7s 192us/step - loss: 0.2340 - acc: 0.9276 - val_loss: 0.0621 - val_acc: 0.9817\n",
      "Epoch 2/30\n",
      "37800/37800 [==============================] - 5s 124us/step - loss: 0.0694 - acc: 0.9781 - val_loss: 0.0395 - val_acc: 0.9871\n",
      "Epoch 3/30\n",
      "37800/37800 [==============================] - 5s 124us/step - loss: 0.0547 - acc: 0.9833 - val_loss: 0.0390 - val_acc: 0.9862\n",
      "Epoch 4/30\n",
      "37800/37800 [==============================] - 5s 122us/step - loss: 0.0427 - acc: 0.9863 - val_loss: 0.0388 - val_acc: 0.9881\n",
      "Epoch 5/30\n",
      "37800/37800 [==============================] - 5s 123us/step - loss: 0.0357 - acc: 0.9888 - val_loss: 0.0306 - val_acc: 0.9907\n",
      "Epoch 6/30\n",
      "37800/37800 [==============================] - 5s 123us/step - loss: 0.0294 - acc: 0.9898 - val_loss: 0.0328 - val_acc: 0.9890\n",
      "Epoch 7/30\n",
      "37800/37800 [==============================] - 5s 123us/step - loss: 0.0284 - acc: 0.9904 - val_loss: 0.0401 - val_acc: 0.9888\n",
      "Epoch 00007: early stopping\n"
     ]
    },
    {
     "data": {
      "text/plain": [
       "<keras.callbacks.History at 0x7fc7e9c66b38>"
      ]
     },
     "execution_count": 108,
     "metadata": {},
     "output_type": "execute_result"
    }
   ],
   "source": [
    "model = cnn_model()\n",
    "model.fit(X_train, y_train, validation_data=(X_test, y_test), epochs=30, batch_size=200, callbacks=[EarlyStopping(monitor='val_acc', min_delta=1e-5, patience=2, verbose=1, mode='auto')])"
   ]
  },
  {
   "cell_type": "code",
   "execution_count": 109,
   "metadata": {},
   "outputs": [
    {
     "name": "stdout",
     "output_type": "stream",
     "text": [
      "ConvNet Error: 1.12%\n"
     ]
    }
   ],
   "source": [
    "scores = model.evaluate(X_test, y_test, verbose=0)\n",
    "print(\"ConvNet Error: %.2f%%\" % (100-scores[1]*100))"
   ]
  },
  {
   "cell_type": "code",
   "execution_count": 82,
   "metadata": {},
   "outputs": [],
   "source": [
    "train_datagen = ImageDataGenerator(rotation_range=8, width_shift_range=0.05, shear_range=0.1, height_shift_range=0.05, zoom_range=0.05)\n",
    "test_datagen = ImageDataGenerator()"
   ]
  },
  {
   "cell_type": "code",
   "execution_count": 83,
   "metadata": {},
   "outputs": [],
   "source": [
    "train_generator = train_datagen.flow(X_train, y_train, batch_size=64)\n",
    "test_generator = test_datagen.flow(X_test, y_test, batch_size=64)"
   ]
  },
  {
   "cell_type": "code",
   "execution_count": 84,
   "metadata": {},
   "outputs": [
    {
     "name": "stdout",
     "output_type": "stream",
     "text": [
      "Epoch 1/15\n",
      "1000/1000 [==============================] - 20s 20ms/step - loss: 0.2271 - acc: 0.9308 - val_loss: 0.0458 - val_acc: 0.9857\n",
      "Epoch 2/15\n",
      "1000/1000 [==============================] - 17s 17ms/step - loss: 0.0817 - acc: 0.9745 - val_loss: 0.0392 - val_acc: 0.9874\n",
      "Epoch 3/15\n",
      "1000/1000 [==============================] - 17s 17ms/step - loss: 0.0678 - acc: 0.9793 - val_loss: 0.0368 - val_acc: 0.9886\n",
      "Epoch 4/15\n",
      "1000/1000 [==============================] - 17s 17ms/step - loss: 0.0587 - acc: 0.9820 - val_loss: 0.0299 - val_acc: 0.9918\n",
      "Epoch 5/15\n",
      "1000/1000 [==============================] - 17s 17ms/step - loss: 0.0524 - acc: 0.9841 - val_loss: 0.0462 - val_acc: 0.9857\n",
      "Epoch 6/15\n",
      "1000/1000 [==============================] - 17s 17ms/step - loss: 0.0477 - acc: 0.9852 - val_loss: 0.0451 - val_acc: 0.9875\n",
      "Epoch 7/15\n",
      "1000/1000 [==============================] - 17s 17ms/step - loss: 0.0432 - acc: 0.9860 - val_loss: 0.0401 - val_acc: 0.9887\n",
      "Epoch 8/15\n",
      "1000/1000 [==============================] - 17s 17ms/step - loss: 0.0385 - acc: 0.9878 - val_loss: 0.0241 - val_acc: 0.9930\n",
      "Epoch 9/15\n",
      "1000/1000 [==============================] - 17s 17ms/step - loss: 0.0377 - acc: 0.9883 - val_loss: 0.1156 - val_acc: 0.9662\n",
      "Epoch 10/15\n",
      "1000/1000 [==============================] - 17s 17ms/step - loss: 0.0356 - acc: 0.9890 - val_loss: 0.0163 - val_acc: 0.9942\n",
      "Epoch 11/15\n",
      "1000/1000 [==============================] - 17s 17ms/step - loss: 0.0302 - acc: 0.9903 - val_loss: 0.0238 - val_acc: 0.9926\n",
      "Epoch 12/15\n",
      "1000/1000 [==============================] - 17s 17ms/step - loss: 0.0308 - acc: 0.9901 - val_loss: 0.0266 - val_acc: 0.9923\n",
      "Epoch 13/15\n",
      "1000/1000 [==============================] - 17s 17ms/step - loss: 0.0271 - acc: 0.9912 - val_loss: 0.0217 - val_acc: 0.9921\n",
      "Epoch 14/15\n",
      "1000/1000 [==============================] - 17s 17ms/step - loss: 0.0247 - acc: 0.9923 - val_loss: 0.0197 - val_acc: 0.9945\n",
      "Epoch 15/15\n",
      "1000/1000 [==============================] - 17s 17ms/step - loss: 0.0277 - acc: 0.9919 - val_loss: 0.0137 - val_acc: 0.9964\n"
     ]
    },
    {
     "data": {
      "text/plain": [
       "<keras.callbacks.History at 0x7fc502cb1b38>"
      ]
     },
     "execution_count": 84,
     "metadata": {},
     "output_type": "execute_result"
    }
   ],
   "source": [
    "model = cnn_model()\n",
    "model.fit_generator(train_generator, steps_per_epoch=64000//64, epochs=15, validation_data=test_generator, validation_steps=10000//64)#, callbacks=[EarlyStopping(monitor='val_acc', min_delta=1e-5, patience=2, verbose=1, mode='auto')])"
   ]
  },
  {
   "cell_type": "code",
   "execution_count": 85,
   "metadata": {},
   "outputs": [
    {
     "name": "stdout",
     "output_type": "stream",
     "text": [
      "ConvNet Error: 0.38%\n"
     ]
    }
   ],
   "source": [
    "scores = model.evaluate(X_test, y_test, verbose=0)\n",
    "print(\"ConvNet Error: %.2f%%\" % (100-scores[1]*100))"
   ]
  },
  {
   "cell_type": "code",
   "execution_count": 86,
   "metadata": {},
   "outputs": [
    {
     "name": "stdout",
     "output_type": "stream",
     "text": [
      "[[420   0   0   0   0   0   1   0   1   0]\n",
      " [  0 472   0   0   0   0   1   0   0   0]\n",
      " [  1   0 408   0   0   0   0   0   0   0]\n",
      " [  0   0   0 425   0   0   0   1   0   0]\n",
      " [  0   0   0   0 427   0   1   0   0   1]\n",
      " [  0   0   0   0   0 381   1   0   0   0]\n",
      " [  0   0   0   0   1   0 411   0   0   0]\n",
      " [  0   1   1   1   0   0   0 466   0   0]\n",
      " [  0   1   0   0   0   1   0   0 382   0]\n",
      " [  0   0   0   0   1   0   0   0   1 392]]\n"
     ]
    }
   ],
   "source": [
    "Y_test_pred = model.predict_classes(X_test)\n",
    "Y_test_true = np.argmax(y_test, axis=1)\n",
    "\n",
    "print(confusion_matrix(Y_test_true, Y_test_pred))"
   ]
  },
  {
   "cell_type": "code",
   "execution_count": 39,
   "metadata": {},
   "outputs": [],
   "source": [
    "def submfile(fname=\"subm.csv\"):\n",
    "    submdata = pd.read_csv(\"./input/test.csv\")\n",
    "    m = len(submdata)\n",
    "    X_subm = np.array(submdata)\n",
    "    X_subm = X_subm.reshape(m, 28, 28, 1).astype('float32')\n",
    "    X_subm /= 255\n",
    "    pred = model.predict(X_subm)\n",
    "    subm = pd.DataFrame({\"ImageId\": np.arange(1, m+1), \"Label\": np.argmax(pred, axis=1)})\n",
    "    subm.to_csv(fname, index=False)"
   ]
  },
  {
   "cell_type": "code",
   "execution_count": 80,
   "metadata": {},
   "outputs": [],
   "source": [
    "submfile(\"subm8.csv\")"
   ]
  },
  {
   "cell_type": "code",
   "execution_count": 87,
   "metadata": {},
   "outputs": [],
   "source": [
    "submdata = pd.read_csv(\"./input/test.csv\")\n",
    "m = len(submdata)\n",
    "X_subm = np.array(submdata)\n",
    "X_subm = X_subm.reshape(m, 28, 28, 1).astype('float32')\n",
    "X_subm /= 255\n",
    "pred = model.predict(X_subm)\n",
    "subm = pd.DataFrame({\"ImageId\": np.arange(1, m+1), \"Label\": np.argmax(pred, axis=1)})"
   ]
  },
  {
   "cell_type": "code",
   "execution_count": 88,
   "metadata": {},
   "outputs": [
    {
     "name": "stdout",
     "output_type": "stream",
     "text": [
      "5\n"
     ]
    },
    {
     "data": {
      "image/png": "[encoded data removed]",
      "text/plain": [
       "<Figure size 432x288 with 1 Axes>"
      ]
     },
     "metadata": {},
     "output_type": "display_data"
    },
    {
     "name": "stdout",
     "output_type": "stream",
     "text": [
      "2\n"
     ]
    },
    {
     "data": {
      "image/png": "[encoded data removed]",
      "text/plain": [
       "<Figure size 432x288 with 1 Axes>"
      ]
     },
     "metadata": {},
     "output_type": "display_data"
    },
    {
     "name": "stdout",
     "output_type": "stream",
     "text": [
      "4\n"
     ]
    },
    {
     "data": {
      "image/png": "[encoded data removed]",
      "text/plain": [
       "<Figure size 432x288 with 1 Axes>"
      ]
     },
     "metadata": {},
     "output_type": "display_data"
    },
    {
     "name": "stdout",
     "output_type": "stream",
     "text": [
      "3\n"
     ]
    },
    {
     "data": {
      "image/png": "[encoded data removed]",
      "text/plain": [
       "<Figure size 432x288 with 1 Axes>"
      ]
     },
     "metadata": {},
     "output_type": "display_data"
    },
    {
     "name": "stdout",
     "output_type": "stream",
     "text": [
      "8\n"
     ]
    },
    {
     "data": {
      "image/png": "[encoded data removed]",
      "text/plain": [
       "<Figure size 432x288 with 1 Axes>"
      ]
     },
     "metadata": {},
     "output_type": "display_data"
    },
    {
     "name": "stdout",
     "output_type": "stream",
     "text": [
      "4\n"
     ]
    },
    {
     "data": {
      "image/png": "[encoded data removed]",
      "text/plain": [
       "<Figure size 432x288 with 1 Axes>"
      ]
     },
     "metadata": {},
     "output_type": "display_data"
    },
    {
     "name": "stdout",
     "output_type": "stream",
     "text": [
      "4\n"
     ]
    },
    {
     "data": {
      "image/png": "[encoded data removed]",
      "text/plain": [
       "<Figure size 432x288 with 1 Axes>"
      ]
     },
     "metadata": {},
     "output_type": "display_data"
    },
    {
     "name": "stdout",
     "output_type": "stream",
     "text": [
      "3\n"
     ]
    },
    {
     "data": {
      "image/png": "[encoded data removed]",
      "text/plain": [
       "<Figure size 432x288 with 1 Axes>"
      ]
     },
     "metadata": {},
     "output_type": "display_data"
    },
    {
     "name": "stdout",
     "output_type": "stream",
     "text": [
      "3\n"
     ]
    },
    {
     "data": {
      "image/png": "[encoded data removed]",
      "text/plain": [
       "<Figure size 432x288 with 1 Axes>"
      ]
     },
     "metadata": {},
     "output_type": "display_data"
    },
    {
     "name": "stdout",
     "output_type": "stream",
     "text": [
      "0\n"
     ]
    },
    {
     "data": {
      "image/png": "[encoded data removed]",
      "text/plain": [
       "<Figure size 432x288 with 1 Axes>"
      ]
     },
     "metadata": {},
     "output_type": "display_data"
    },
    {
     "name": "stdout",
     "output_type": "stream",
     "text": [
      "9\n"
     ]
    },
    {
     "data": {
      "image/png": "[encoded data removed]",
      "text/plain": [
       "<Figure size 432x288 with 1 Axes>"
      ]
     },
     "metadata": {},
     "output_type": "display_data"
    },
    {
     "name": "stdout",
     "output_type": "stream",
     "text": [
      "3\n"
     ]
    },
    {
     "data": {
      "image/png": "[encoded data removed]",
      "text/plain": [
       "<Figure size 432x288 with 1 Axes>"
      ]
     },
     "metadata": {},
     "output_type": "display_data"
    },
    {
     "name": "stdout",
     "output_type": "stream",
     "text": [
      "8\n"
     ]
    },
    {
     "data": {
      "image/png": "[encoded data removed]",
      "text/plain": [
       "<Figure size 432x288 with 1 Axes>"
      ]
     },
     "metadata": {},
     "output_type": "display_data"
    },
    {
     "name": "stdout",
     "output_type": "stream",
     "text": [
      "9\n"
     ]
    },
    {
     "data": {
      "image/png": "[encoded data removed]",
      "text/plain": [
       "<Figure size 432x288 with 1 Axes>"
      ]
     },
     "metadata": {},
     "output_type": "display_data"
    },
    {
     "name": "stdout",
     "output_type": "stream",
     "text": [
      "2\n"
     ]
    },
    {
     "data": {
      "image/png": "[encoded data removed]",
      "text/plain": [
       "<Figure size 432x288 with 1 Axes>"
      ]
     },
     "metadata": {},
     "output_type": "display_data"
    },
    {
     "name": "stdout",
     "output_type": "stream",
     "text": [
      "4\n"
     ]
    },
    {
     "data": {
      "image/png": "[encoded data removed]",
      "text/plain": [
       "<Figure size 432x288 with 1 Axes>"
      ]
     },
     "metadata": {},
     "output_type": "display_data"
    },
    {
     "name": "stdout",
     "output_type": "stream",
     "text": [
      "5\n"
     ]
    },
    {
     "data": {
      "image/png": "[encoded data removed]",
      "text/plain": [
       "<Figure size 432x288 with 1 Axes>"
      ]
     },
     "metadata": {},
     "output_type": "display_data"
    },
    {
     "name": "stdout",
     "output_type": "stream",
     "text": [
      "8\n"
     ]
    },
    {
     "data": {
      "image/png": "[encoded data removed]",
      "text/plain": [
       "<Figure size 432x288 with 1 Axes>"
      ]
     },
     "metadata": {},
     "output_type": "display_data"
    },
    {
     "name": "stdout",
     "output_type": "stream",
     "text": [
      "3\n"
     ]
    },
    {
     "data": {
      "image/png": "[encoded data removed]",
      "text/plain": [
       "<Figure size 432x288 with 1 Axes>"
      ]
     },
     "metadata": {},
     "output_type": "display_data"
    },
    {
     "name": "stdout",
     "output_type": "stream",
     "text": [
      "5\n"
     ]
    },
    {
     "data": {
      "image/png": "[encoded data removed]",
      "text/plain": [
       "<Figure size 432x288 with 1 Axes>"
      ]
     },
     "metadata": {},
     "output_type": "display_data"
    },
    {
     "name": "stdout",
     "output_type": "stream",
     "text": [
      "9\n"
     ]
    },
    {
     "data": {
      "image/png": "[encoded data removed]",
      "text/plain": [
       "<Figure size 432x288 with 1 Axes>"
      ]
     },
     "metadata": {},
     "output_type": "display_data"
    },
    {
     "name": "stdout",
     "output_type": "stream",
     "text": [
      "5\n"
     ]
    },
    {
     "data": {
      "image/png": "[encoded data removed]",
      "text/plain": [
       "<Figure size 432x288 with 1 Axes>"
      ]
     },
     "metadata": {},
     "output_type": "display_data"
    },
    {
     "name": "stdout",
     "output_type": "stream",
     "text": [
      "8\n"
     ]
    },
    {
     "data": {
      "image/png": "[encoded data removed]",
      "text/plain": [
       "<Figure size 432x288 with 1 Axes>"
      ]
     },
     "metadata": {},
     "output_type": "display_data"
    },
    {
     "name": "stdout",
     "output_type": "stream",
     "text": [
      "4\n"
     ]
    },
    {
     "data": {
      "image/png": "[encoded data removed]",
      "text/plain": [
       "<Figure size 432x288 with 1 Axes>"
      ]
     },
     "metadata": {},
     "output_type": "display_data"
    },
    {
     "name": "stdout",
     "output_type": "stream",
     "text": [
      "4\n"
     ]
    },
    {
     "data": {
      "image/png": "[encoded data removed]",
      "text/plain": [
       "<Figure size 432x288 with 1 Axes>"
      ]
     },
     "metadata": {},
     "output_type": "display_data"
    }
   ],
   "source": [
    "for i in np.random.randint(0,m,25):\n",
    "    print(subm.iloc[i]['Label'])\n",
    "    plt.imshow(X_subm[i,:,:,0])\n",
    "    plt.show()"
   ]
  },
  {
   "cell_type": "code",
   "execution_count": 10,
   "metadata": {},
   "outputs": [],
   "source": [
    "from keras.datasets import mnist\n",
    "(mx_train, my_train), (mx_test, my_test) = mnist.load_data()"
   ]
  },
  {
   "cell_type": "code",
   "execution_count": 11,
   "metadata": {},
   "outputs": [],
   "source": [
    "mx_train = mx_train.reshape(60000,28,28,1)\n",
    "mx_test = mx_test.reshape(10000,28,28,1)\n",
    "mx = np.concatenate((mx_train, mx_test), axis=0)\n",
    "my = np.concatenate((my_train, my_test), axis=0)"
   ]
  },
  {
   "cell_type": "code",
   "execution_count": 100,
   "metadata": {},
   "outputs": [
    {
     "name": "stdout",
     "output_type": "stream",
     "text": [
      "[[6157    0   19    3  632    0   18    3    1   70]\n",
      " [   7 1333   47   10 6259    7  179   26    5    4]\n",
      " [   0    1 6949    4   36    0    0    0    0    0]\n",
      " [   0    0   20 7096    2   17    0    3    2    1]\n",
      " [   0    0    0    0 6809    0    2    1    0   12]\n",
      " [   0    0    4   20    3 6281    4    0    0    1]\n",
      " [   3    0    1    8   61   52 6751    0    0    0]\n",
      " [   0    3  256    4   60    0    0 6967    3    0]\n",
      " [   5    0   76   26   63   29   21    0 6585   20]\n",
      " [   0    0   11   40   79   23    0   19    7 6779]]\n"
     ]
    }
   ],
   "source": [
    "## with Keras data augmentation\n",
    "Y_test_pred = model.predict_classes(mx)\n",
    "Y_test_true = my\n",
    "\n",
    "print(confusion_matrix(Y_test_true, Y_test_pred))"
   ]
  },
  {
   "cell_type": "code",
   "execution_count": 110,
   "metadata": {},
   "outputs": [
    {
     "name": "stdout",
     "output_type": "stream",
     "text": [
      "[[5291    0   12    0    0    0  186    0 1412    2]\n",
      " [   0    0 1359    1    5    0   17    0 6483   12]\n",
      " [   0    0 6902    0    0    0    1    0   83    4]\n",
      " [   0    0   39 6807    0    3    1    0  285    6]\n",
      " [   1    0   42    0 5926    0  228    0  296  331]\n",
      " [   0    0    1   11    0 5458   85    0  711   47]\n",
      " [   0    0    2    0    0    0 6803    0   71    0]\n",
      " [   2    0  738   99   44    3   10 2153  230 4014]\n",
      " [   0    0    2    0    0    0    3    0 6817    3]\n",
      " [   3    0    3    0    0    0    6    0   79 6867]]\n"
     ]
    }
   ],
   "source": [
    "## without Keras data augmentation, complicated network\n",
    "Y_test_pred = model.predict_classes(mx)\n",
    "Y_test_true = my\n",
    "\n",
    "print(confusion_matrix(Y_test_true, Y_test_pred))"
   ]
  },
  {
   "cell_type": "code",
   "execution_count": 120,
   "metadata": {},
   "outputs": [
    {
     "name": "stdout",
     "output_type": "stream",
     "text": [
      "[[6893    1    1    0    0    0    1    2    2    3]\n",
      " [   0 7851   10    0    0    0    0   16    0    0]\n",
      " [   2    1 6941    5    2    0    3   23   10    3]\n",
      " [   0    0    4 7118    0    2    0   11    3    3]\n",
      " [   1    9    2    0 6776    0    3    5    1   27]\n",
      " [   2    2    1    8    0 6280   12    1    5    2]\n",
      " [   9    7    1    2    6    4 6841    0    6    0]\n",
      " [   0    5    1    0    8    2    0 7273    0    4]\n",
      " [   3   11    6    7    6    6    2    9 6758   17]\n",
      " [   5    3    0    7    8    5    0   24    1 6905]]\n"
     ]
    }
   ],
   "source": [
    "## without Keras data augmentation, simpler network\n",
    "Y_test_pred = model.predict_classes(mx)\n",
    "Y_test_true = my\n",
    "\n",
    "print(confusion_matrix(Y_test_true, Y_test_pred))"
   ]
  },
  {
   "cell_type": "code",
   "execution_count": 52,
   "metadata": {},
   "outputs": [],
   "source": [
    "# keep only one additional fully connected layer, add average pooling \n",
    "# instead of stride and dropout before flattening for regularization\n",
    "\n",
    "def cnn3_model():\n",
    "    model = Sequential()\n",
    "    model.add(Conv2D(10, (3,3), input_shape=(28, 28, 1), activation='relu'))\n",
    "    model.add(Conv2D(20, (3,3), activation='relu')) #change from 5 to 3\n",
    "    model.add(AveragePooling2D(pool_size=(2,2)))\n",
    "    model.add(Conv2D(40, (3,3), activation='relu')) #change from 5 to 3\n",
    "    model.add(Dropout(0.2))\n",
    "    model.add(Flatten())\n",
    "    model.add(Dense(256, activation='relu')) #added additional fully connected layer\n",
    "    model.add(Dropout(0.2)) #added\n",
    "    model.add(Dense(128, activation='relu'))\n",
    "    model.add(Dropout(0.2)) #added\n",
    "    model.add(Dense(num_classes, activation='softmax'))\n",
    "    \n",
    "    model.compile(loss='categorical_crossentropy', optimizer='adam', metrics=['accuracy'])\n",
    "    return model"
   ]
  },
  {
   "cell_type": "code",
   "execution_count": 28,
   "metadata": {
    "scrolled": true
   },
   "outputs": [
    {
     "name": "stdout",
     "output_type": "stream",
     "text": [
      "Train on 37800 samples, validate on 4200 samples\n",
      "Epoch 1/10\n",
      "37800/37800 [==============================] - 2s 61us/step - loss: 0.3014 - acc: 0.9093 - val_loss: 0.1024 - val_acc: 0.9693\n",
      "Epoch 2/10\n",
      "37800/37800 [==============================] - 2s 49us/step - loss: 0.0790 - acc: 0.9757 - val_loss: 0.0636 - val_acc: 0.9800\n",
      "Epoch 3/10\n",
      "37800/37800 [==============================] - 2s 49us/step - loss: 0.0521 - acc: 0.9840 - val_loss: 0.0564 - val_acc: 0.9826\n",
      "Epoch 4/10\n",
      "37800/37800 [==============================] - 2s 50us/step - loss: 0.0402 - acc: 0.9870 - val_loss: 0.0449 - val_acc: 0.9862\n",
      "Epoch 5/10\n",
      "37800/37800 [==============================] - 2s 49us/step - loss: 0.0325 - acc: 0.9898 - val_loss: 0.0473 - val_acc: 0.9855\n",
      "Epoch 6/10\n",
      "37800/37800 [==============================] - 2s 49us/step - loss: 0.0277 - acc: 0.9908 - val_loss: 0.0429 - val_acc: 0.9883\n",
      "Epoch 7/10\n",
      "37800/37800 [==============================] - 2s 48us/step - loss: 0.0235 - acc: 0.9925 - val_loss: 0.0449 - val_acc: 0.9864\n",
      "Epoch 8/10\n",
      "37800/37800 [==============================] - 2s 48us/step - loss: 0.0186 - acc: 0.9942 - val_loss: 0.0418 - val_acc: 0.9895\n",
      "Epoch 9/10\n",
      "37800/37800 [==============================] - 2s 48us/step - loss: 0.0145 - acc: 0.9953 - val_loss: 0.0481 - val_acc: 0.9883\n",
      "Epoch 10/10\n",
      "37800/37800 [==============================] - 2s 48us/step - loss: 0.0157 - acc: 0.9952 - val_loss: 0.0515 - val_acc: 0.9855\n",
      "Epoch 00010: early stopping\n"
     ]
    },
    {
     "data": {
      "text/plain": [
       "<keras.callbacks.History at 0x7f3b6b7bea90>"
      ]
     },
     "execution_count": 28,
     "metadata": {},
     "output_type": "execute_result"
    }
   ],
   "source": [
    "model = cnn3_model()\n",
    "model.fit(X_train, y_train, validation_data=(X_test, y_test), epochs=10, batch_size=200, callbacks=[EarlyStopping(monitor='val_acc', min_delta=0.001, patience=2, verbose=1, mode='auto')])"
   ]
  },
  {
   "cell_type": "code",
   "execution_count": 25,
   "metadata": {
    "scrolled": true
   },
   "outputs": [
    {
     "name": "stdout",
     "output_type": "stream",
     "text": [
      "[[6890    1    0    0    1    0    6    1    3    1]\n",
      " [   1 7831   12    2    1    3    4   14    3    6]\n",
      " [  11    3 6948    5    4    0    3    3   11    2]\n",
      " [   4    1    7 7098    0    8    1    4   14    4]\n",
      " [   3    2    0    0 6779    2    7    2    2   27]\n",
      " [  12    2    1   17    1 6197   40    2   21   20]\n",
      " [  10    2    0    0    4    3 6856    0    1    0]\n",
      " [   7    7   61   15    9    2    0 7158    5   29]\n",
      " [   7    5    9    5    5    5   11    3 6765   10]\n",
      " [  10    2    0   15   21    9    1    6    7 6887]]\n"
     ]
    }
   ],
   "source": [
    "## with Keras without batch normalization\n",
    "Y_test_pred = model.predict_classes(mx)\n",
    "Y_test_true = my\n",
    "\n",
    "print(confusion_matrix(Y_test_true, Y_test_pred))"
   ]
  },
  {
   "cell_type": "code",
   "execution_count": 29,
   "metadata": {},
   "outputs": [
    {
     "name": "stdout",
     "output_type": "stream",
     "text": [
      "[[6883    4    2    1    1    0    9    1    2    0]\n",
      " [   0 7854   12    0    0    2    0    7    2    0]\n",
      " [   5    3 6974    0    1    0    2    1    4    0]\n",
      " [   0    2   17 7093    0   22    0    5    1    1]\n",
      " [   4   23    5    0 6740    3   15    2    2   30]\n",
      " [   4    1    2    8    0 6280   16    0    2    0]\n",
      " [   8   12    0    0    2    7 6847    0    0    0]\n",
      " [   4   17   36    4    7   10    0 7204    7    4]\n",
      " [   9   22   21    5    4   25   16    1 6721    1]\n",
      " [  17   11    1   24   15   41    0   28    4 6817]]\n"
     ]
    }
   ],
   "source": [
    "## with Keras without batch normalization\n",
    "Y_test_pred = model.predict_classes(mx)\n",
    "Y_test_true = my\n",
    "\n",
    "print(confusion_matrix(Y_test_true, Y_test_pred))"
   ]
  },
  {
   "cell_type": "code",
   "execution_count": 27,
   "metadata": {},
   "outputs": [
    {
     "name": "stdout",
     "output_type": "stream",
     "text": [
      "Accuracy: 0.9915571428571428\n",
      "ConvNet Error: 0.84%\n"
     ]
    }
   ],
   "source": [
    "scores = model.evaluate(mx, np_utils.to_categorical(my), verbose=0)\n",
    "print(\"Accuracy: {}\".format(scores[1]))\n",
    "print(\"ConvNet Error: %.2f%%\" % (100-scores[1]*100))"
   ]
  },
  {
   "cell_type": "code",
   "execution_count": 31,
   "metadata": {},
   "outputs": [
    {
     "data": {
      "text/plain": [
       "0.9916142857142857"
      ]
     },
     "execution_count": 31,
     "metadata": {},
     "output_type": "execute_result"
    }
   ],
   "source": [
    "accuracy_score(my, Y_test_pred)"
   ]
  },
  {
   "cell_type": "code",
   "execution_count": 62,
   "metadata": {},
   "outputs": [
    {
     "data": {
      "text/plain": [
       "(28000, 28, 28, 1)"
      ]
     },
     "execution_count": 62,
     "metadata": {},
     "output_type": "execute_result"
    }
   ],
   "source": [
    "submdata = pd.read_csv(\"./input/test.csv\")\n",
    "m = len(submdata)\n",
    "X_subm = np.array(submdata)\n",
    "X_subm = X_subm.reshape(m, 28, 28, 1).astype('float32')\n",
    "X_subm /= 255\n",
    "X_subm.shape"
   ]
  },
  {
   "cell_type": "code",
   "execution_count": 63,
   "metadata": {},
   "outputs": [
    {
     "name": "stdout",
     "output_type": "stream",
     "text": [
      "Train on 37800 samples, validate on 4200 samples\n",
      "Epoch 1/10\n",
      "37800/37800 [==============================] - 6s 153us/step - loss: 0.3543 - acc: 0.8887 - val_loss: 0.1020 - val_acc: 0.9669\n",
      "Epoch 2/10\n",
      "37800/37800 [==============================] - 2s 62us/step - loss: 0.0975 - acc: 0.9703 - val_loss: 0.0807 - val_acc: 0.9755\n",
      "Epoch 3/10\n",
      "37800/37800 [==============================] - 2s 61us/step - loss: 0.0675 - acc: 0.9791 - val_loss: 0.0581 - val_acc: 0.9821\n",
      "Epoch 4/10\n",
      "37800/37800 [==============================] - 2s 63us/step - loss: 0.0508 - acc: 0.9846 - val_loss: 0.0509 - val_acc: 0.9850\n",
      "Epoch 5/10\n",
      "37800/37800 [==============================] - 2s 61us/step - loss: 0.0376 - acc: 0.9884 - val_loss: 0.0607 - val_acc: 0.9814\n",
      "Epoch 6/10\n",
      "37800/37800 [==============================] - 2s 61us/step - loss: 0.0322 - acc: 0.9900 - val_loss: 0.0486 - val_acc: 0.9852\n",
      "Epoch 00006: early stopping\n",
      "Train on 37800 samples, validate on 4200 samples\n",
      "Epoch 1/10\n",
      "37800/37800 [==============================] - 6s 154us/step - loss: 0.3620 - acc: 0.8870 - val_loss: 0.1111 - val_acc: 0.9652\n",
      "Epoch 2/10\n",
      "37800/37800 [==============================] - 2s 63us/step - loss: 0.0893 - acc: 0.9730 - val_loss: 0.0636 - val_acc: 0.9795\n",
      "Epoch 3/10\n",
      "37800/37800 [==============================] - 2s 62us/step - loss: 0.0600 - acc: 0.9815 - val_loss: 0.0551 - val_acc: 0.9821\n",
      "Epoch 4/10\n",
      "37800/37800 [==============================] - 2s 62us/step - loss: 0.0478 - acc: 0.9844 - val_loss: 0.0491 - val_acc: 0.9855\n",
      "Epoch 5/10\n",
      "37800/37800 [==============================] - 2s 62us/step - loss: 0.0367 - acc: 0.9887 - val_loss: 0.0506 - val_acc: 0.9860\n",
      "Epoch 6/10\n",
      "37800/37800 [==============================] - 2s 61us/step - loss: 0.0328 - acc: 0.9895 - val_loss: 0.0502 - val_acc: 0.9874\n",
      "Epoch 7/10\n",
      "37800/37800 [==============================] - 2s 61us/step - loss: 0.0268 - acc: 0.9915 - val_loss: 0.0392 - val_acc: 0.9888\n",
      "Epoch 8/10\n",
      "37800/37800 [==============================] - 2s 61us/step - loss: 0.0231 - acc: 0.9928 - val_loss: 0.0391 - val_acc: 0.9900\n",
      "Epoch 9/10\n",
      "37800/37800 [==============================] - 2s 61us/step - loss: 0.0211 - acc: 0.9931 - val_loss: 0.0450 - val_acc: 0.9881\n",
      "Epoch 10/10\n",
      "37800/37800 [==============================] - 2s 60us/step - loss: 0.0174 - acc: 0.9941 - val_loss: 0.0399 - val_acc: 0.9898\n",
      "Epoch 00010: early stopping\n",
      "Train on 37800 samples, validate on 4200 samples\n",
      "Epoch 1/10\n",
      "37800/37800 [==============================] - 6s 150us/step - loss: 0.3489 - acc: 0.8937 - val_loss: 0.1043 - val_acc: 0.9683\n",
      "Epoch 2/10\n",
      "37800/37800 [==============================] - 2s 63us/step - loss: 0.0904 - acc: 0.9722 - val_loss: 0.0645 - val_acc: 0.9790\n",
      "Epoch 3/10\n",
      "37800/37800 [==============================] - 2s 63us/step - loss: 0.0616 - acc: 0.9810 - val_loss: 0.0559 - val_acc: 0.9826\n",
      "Epoch 4/10\n",
      "37800/37800 [==============================] - 2s 62us/step - loss: 0.0457 - acc: 0.9861 - val_loss: 0.0507 - val_acc: 0.9867\n",
      "Epoch 5/10\n",
      "37800/37800 [==============================] - 2s 62us/step - loss: 0.0365 - acc: 0.9884 - val_loss: 0.0521 - val_acc: 0.9864\n",
      "Epoch 6/10\n",
      "37800/37800 [==============================] - 2s 62us/step - loss: 0.0325 - acc: 0.9892 - val_loss: 0.0517 - val_acc: 0.9864\n",
      "Epoch 00006: early stopping\n",
      "Train on 37800 samples, validate on 4200 samples\n",
      "Epoch 1/10\n",
      "37800/37800 [==============================] - 6s 157us/step - loss: 0.3587 - acc: 0.8925 - val_loss: 0.1003 - val_acc: 0.9676\n",
      "Epoch 2/10\n",
      "37800/37800 [==============================] - 2s 63us/step - loss: 0.0956 - acc: 0.9711 - val_loss: 0.0692 - val_acc: 0.9762\n",
      "Epoch 3/10\n",
      "37800/37800 [==============================] - 2s 63us/step - loss: 0.0644 - acc: 0.9813 - val_loss: 0.0532 - val_acc: 0.9829\n",
      "Epoch 4/10\n",
      "37800/37800 [==============================] - 2s 62us/step - loss: 0.0504 - acc: 0.9844 - val_loss: 0.0513 - val_acc: 0.9848\n",
      "Epoch 5/10\n",
      "37800/37800 [==============================] - 2s 61us/step - loss: 0.0402 - acc: 0.9868 - val_loss: 0.0467 - val_acc: 0.9852\n",
      "Epoch 6/10\n",
      "37800/37800 [==============================] - 2s 62us/step - loss: 0.0325 - acc: 0.9893 - val_loss: 0.0409 - val_acc: 0.9881\n",
      "Epoch 7/10\n",
      "37800/37800 [==============================] - 2s 60us/step - loss: 0.0255 - acc: 0.9917 - val_loss: 0.0408 - val_acc: 0.9893\n",
      "Epoch 8/10\n",
      "37800/37800 [==============================] - 2s 61us/step - loss: 0.0229 - acc: 0.9929 - val_loss: 0.0380 - val_acc: 0.9886\n",
      "Epoch 9/10\n",
      "37800/37800 [==============================] - 2s 61us/step - loss: 0.0183 - acc: 0.9939 - val_loss: 0.0405 - val_acc: 0.9898\n",
      "Epoch 00009: early stopping\n",
      "Train on 37800 samples, validate on 4200 samples\n",
      "Epoch 1/10\n",
      "37800/37800 [==============================] - 6s 157us/step - loss: 0.3685 - acc: 0.8850 - val_loss: 0.1132 - val_acc: 0.9679\n",
      "Epoch 2/10\n",
      "37800/37800 [==============================] - 2s 62us/step - loss: 0.0896 - acc: 0.9724 - val_loss: 0.0665 - val_acc: 0.9798\n",
      "Epoch 3/10\n",
      "37800/37800 [==============================] - 2s 62us/step - loss: 0.0606 - acc: 0.9815 - val_loss: 0.0530 - val_acc: 0.9838\n",
      "Epoch 4/10\n",
      "37800/37800 [==============================] - 2s 62us/step - loss: 0.0443 - acc: 0.9869 - val_loss: 0.0501 - val_acc: 0.9843\n",
      "Epoch 5/10\n",
      "37800/37800 [==============================] - 2s 62us/step - loss: 0.0373 - acc: 0.9884 - val_loss: 0.0424 - val_acc: 0.9874\n",
      "Epoch 6/10\n",
      "37800/37800 [==============================] - 2s 62us/step - loss: 0.0278 - acc: 0.9910 - val_loss: 0.0483 - val_acc: 0.9874\n",
      "Epoch 7/10\n",
      "37800/37800 [==============================] - 2s 61us/step - loss: 0.0234 - acc: 0.9924 - val_loss: 0.0439 - val_acc: 0.9883\n",
      "Epoch 00007: early stopping\n",
      "Train on 37800 samples, validate on 4200 samples\n",
      "Epoch 1/10\n",
      "37800/37800 [==============================] - 7s 179us/step - loss: 0.3766 - acc: 0.8838 - val_loss: 0.1028 - val_acc: 0.9690\n",
      "Epoch 2/10\n",
      "37800/37800 [==============================] - 2s 62us/step - loss: 0.0904 - acc: 0.9723 - val_loss: 0.0589 - val_acc: 0.9814\n",
      "Epoch 3/10\n",
      "37800/37800 [==============================] - 2s 62us/step - loss: 0.0629 - acc: 0.9802 - val_loss: 0.0487 - val_acc: 0.9845\n",
      "Epoch 4/10\n",
      "37800/37800 [==============================] - 2s 62us/step - loss: 0.0483 - acc: 0.9847 - val_loss: 0.0471 - val_acc: 0.9852\n",
      "Epoch 5/10\n",
      "37800/37800 [==============================] - 2s 63us/step - loss: 0.0388 - acc: 0.9878 - val_loss: 0.0435 - val_acc: 0.9860\n",
      "Epoch 6/10\n",
      "37800/37800 [==============================] - 2s 63us/step - loss: 0.0292 - acc: 0.9909 - val_loss: 0.0405 - val_acc: 0.9881\n",
      "Epoch 7/10\n",
      "37800/37800 [==============================] - 2s 61us/step - loss: 0.0261 - acc: 0.9919 - val_loss: 0.0434 - val_acc: 0.9888\n",
      "Epoch 8/10\n",
      "37800/37800 [==============================] - 2s 61us/step - loss: 0.0228 - acc: 0.9922 - val_loss: 0.0445 - val_acc: 0.9898\n",
      "Epoch 9/10\n",
      "37800/37800 [==============================] - 2s 61us/step - loss: 0.0198 - acc: 0.9938 - val_loss: 0.0353 - val_acc: 0.9895\n",
      "Epoch 10/10\n",
      "37800/37800 [==============================] - 2s 62us/step - loss: 0.0170 - acc: 0.9946 - val_loss: 0.0406 - val_acc: 0.9893\n",
      "Epoch 00010: early stopping\n",
      "Train on 37800 samples, validate on 4200 samples\n",
      "Epoch 1/10\n",
      "37800/37800 [==============================] - 6s 156us/step - loss: 0.3397 - acc: 0.8968 - val_loss: 0.0867 - val_acc: 0.9721\n",
      "Epoch 2/10\n",
      "37800/37800 [==============================] - 2s 63us/step - loss: 0.0835 - acc: 0.9747 - val_loss: 0.0615 - val_acc: 0.9814\n",
      "Epoch 3/10\n",
      "37800/37800 [==============================] - 2s 64us/step - loss: 0.0554 - acc: 0.9829 - val_loss: 0.0516 - val_acc: 0.9848\n",
      "Epoch 4/10\n",
      "37800/37800 [==============================] - 2s 62us/step - loss: 0.0419 - acc: 0.9872 - val_loss: 0.0633 - val_acc: 0.9824\n",
      "Epoch 5/10\n",
      "37800/37800 [==============================] - 2s 62us/step - loss: 0.0330 - acc: 0.9896 - val_loss: 0.0438 - val_acc: 0.9874\n",
      "Epoch 6/10\n",
      "37800/37800 [==============================] - 2s 61us/step - loss: 0.0280 - acc: 0.9918 - val_loss: 0.0458 - val_acc: 0.9874\n",
      "Epoch 7/10\n",
      "37800/37800 [==============================] - 2s 62us/step - loss: 0.0246 - acc: 0.9922 - val_loss: 0.0473 - val_acc: 0.9886\n",
      "Epoch 8/10\n",
      "37800/37800 [==============================] - 2s 61us/step - loss: 0.0186 - acc: 0.9940 - val_loss: 0.0569 - val_acc: 0.9879\n",
      "Epoch 9/10\n"
     ]
    },
    {
     "name": "stdout",
     "output_type": "stream",
     "text": [
      "37800/37800 [==============================] - 2s 62us/step - loss: 0.0179 - acc: 0.9947 - val_loss: 0.0460 - val_acc: 0.9900\n",
      "Epoch 10/10\n",
      "37800/37800 [==============================] - 2s 61us/step - loss: 0.0159 - acc: 0.9946 - val_loss: 0.0546 - val_acc: 0.9883\n",
      "Train on 37800 samples, validate on 4200 samples\n",
      "Epoch 1/10\n",
      "37800/37800 [==============================] - 6s 165us/step - loss: 0.3463 - acc: 0.8919 - val_loss: 0.0906 - val_acc: 0.9698\n",
      "Epoch 2/10\n",
      "37800/37800 [==============================] - 2s 63us/step - loss: 0.0868 - acc: 0.9729 - val_loss: 0.0605 - val_acc: 0.9812\n",
      "Epoch 3/10\n",
      "37800/37800 [==============================] - 2s 63us/step - loss: 0.0602 - acc: 0.9818 - val_loss: 0.0555 - val_acc: 0.9831\n",
      "Epoch 4/10\n",
      "37800/37800 [==============================] - 2s 63us/step - loss: 0.0465 - acc: 0.9855 - val_loss: 0.0429 - val_acc: 0.9871\n",
      "Epoch 5/10\n",
      "37800/37800 [==============================] - 2s 63us/step - loss: 0.0356 - acc: 0.9884 - val_loss: 0.0570 - val_acc: 0.9845\n",
      "Epoch 6/10\n",
      "37800/37800 [==============================] - 2s 63us/step - loss: 0.0320 - acc: 0.9896 - val_loss: 0.0478 - val_acc: 0.9843\n",
      "Epoch 00006: early stopping\n",
      "Train on 37800 samples, validate on 4200 samples\n",
      "Epoch 1/10\n",
      "37800/37800 [==============================] - 6s 163us/step - loss: 0.3420 - acc: 0.8965 - val_loss: 0.0873 - val_acc: 0.9721\n",
      "Epoch 2/10\n",
      "37800/37800 [==============================] - 2s 62us/step - loss: 0.0835 - acc: 0.9747 - val_loss: 0.0673 - val_acc: 0.9783\n",
      "Epoch 3/10\n",
      "37800/37800 [==============================] - 2s 63us/step - loss: 0.0555 - acc: 0.9832 - val_loss: 0.0480 - val_acc: 0.9857\n",
      "Epoch 4/10\n",
      "37800/37800 [==============================] - ETA: 0s - loss: 0.0428 - acc: 0.987 - 2s 62us/step - loss: 0.0425 - acc: 0.9871 - val_loss: 0.0418 - val_acc: 0.9871\n",
      "Epoch 5/10\n",
      "37800/37800 [==============================] - 2s 62us/step - loss: 0.0324 - acc: 0.9894 - val_loss: 0.0368 - val_acc: 0.9890\n",
      "Epoch 6/10\n",
      "37800/37800 [==============================] - 2s 62us/step - loss: 0.0291 - acc: 0.9910 - val_loss: 0.0399 - val_acc: 0.9898\n",
      "Epoch 7/10\n",
      "37800/37800 [==============================] - 2s 61us/step - loss: 0.0230 - acc: 0.9928 - val_loss: 0.0487 - val_acc: 0.9869\n",
      "Epoch 00007: early stopping\n",
      "Train on 37800 samples, validate on 4200 samples\n",
      "Epoch 1/10\n",
      "37800/37800 [==============================] - 6s 169us/step - loss: 0.3280 - acc: 0.8988 - val_loss: 0.1020 - val_acc: 0.9671\n",
      "Epoch 2/10\n",
      "37800/37800 [==============================] - 2s 64us/step - loss: 0.0837 - acc: 0.9751 - val_loss: 0.0633 - val_acc: 0.9821\n",
      "Epoch 3/10\n",
      "37800/37800 [==============================] - 2s 62us/step - loss: 0.0562 - acc: 0.9829 - val_loss: 0.0453 - val_acc: 0.9871\n",
      "Epoch 4/10\n",
      "37800/37800 [==============================] - 2s 63us/step - loss: 0.0453 - acc: 0.9866 - val_loss: 0.0525 - val_acc: 0.9833\n",
      "Epoch 5/10\n",
      "37800/37800 [==============================] - 2s 62us/step - loss: 0.0341 - acc: 0.9898 - val_loss: 0.0469 - val_acc: 0.9869\n",
      "Epoch 00005: early stopping\n",
      "Train on 37800 samples, validate on 4200 samples\n",
      "Epoch 1/10\n",
      "37800/37800 [==============================] - 6s 171us/step - loss: 0.3534 - acc: 0.8921 - val_loss: 0.0915 - val_acc: 0.9710\n",
      "Epoch 2/10\n",
      "37800/37800 [==============================] - 2s 63us/step - loss: 0.0850 - acc: 0.9740 - val_loss: 0.0634 - val_acc: 0.9807\n",
      "Epoch 3/10\n",
      "37800/37800 [==============================] - 2s 63us/step - loss: 0.0573 - acc: 0.9834 - val_loss: 0.0462 - val_acc: 0.9852\n",
      "Epoch 4/10\n",
      "37800/37800 [==============================] - 2s 62us/step - loss: 0.0433 - acc: 0.9870 - val_loss: 0.0445 - val_acc: 0.9867\n",
      "Epoch 5/10\n",
      "37800/37800 [==============================] - 2s 62us/step - loss: 0.0348 - acc: 0.9893 - val_loss: 0.0430 - val_acc: 0.9883\n",
      "Epoch 6/10\n",
      "37800/37800 [==============================] - 2s 62us/step - loss: 0.0295 - acc: 0.9914 - val_loss: 0.0418 - val_acc: 0.9893\n",
      "Epoch 7/10\n",
      "37800/37800 [==============================] - 2s 62us/step - loss: 0.0239 - acc: 0.9925 - val_loss: 0.0412 - val_acc: 0.9890\n",
      "Epoch 00007: early stopping\n",
      "Train on 37800 samples, validate on 4200 samples\n",
      "Epoch 1/10\n",
      "37800/37800 [==============================] - 7s 173us/step - loss: 0.3461 - acc: 0.8928 - val_loss: 0.0979 - val_acc: 0.9702\n",
      "Epoch 2/10\n",
      "37800/37800 [==============================] - 2s 64us/step - loss: 0.0964 - acc: 0.9708 - val_loss: 0.0640 - val_acc: 0.9800\n",
      "Epoch 3/10\n",
      "37800/37800 [==============================] - 2s 63us/step - loss: 0.0619 - acc: 0.9804 - val_loss: 0.0604 - val_acc: 0.9812\n",
      "Epoch 4/10\n",
      "37800/37800 [==============================] - 2s 63us/step - loss: 0.0496 - acc: 0.9843 - val_loss: 0.0555 - val_acc: 0.9838\n",
      "Epoch 5/10\n",
      "37800/37800 [==============================] - 2s 61us/step - loss: 0.0397 - acc: 0.9876 - val_loss: 0.0505 - val_acc: 0.9860\n",
      "Epoch 6/10\n",
      "37800/37800 [==============================] - 2s 63us/step - loss: 0.0306 - acc: 0.9899 - val_loss: 0.0446 - val_acc: 0.9879\n",
      "Epoch 7/10\n",
      "37800/37800 [==============================] - 2s 63us/step - loss: 0.0269 - acc: 0.9911 - val_loss: 0.0456 - val_acc: 0.9876\n",
      "Epoch 8/10\n",
      "37800/37800 [==============================] - 2s 62us/step - loss: 0.0225 - acc: 0.9930 - val_loss: 0.0466 - val_acc: 0.9871\n",
      "Epoch 00008: early stopping\n",
      "Train on 37800 samples, validate on 4200 samples\n",
      "Epoch 1/10\n",
      "37800/37800 [==============================] - 6s 172us/step - loss: 0.3675 - acc: 0.8858 - val_loss: 0.0990 - val_acc: 0.9714\n",
      "Epoch 2/10\n",
      "37800/37800 [==============================] - 2s 65us/step - loss: 0.0926 - acc: 0.9715 - val_loss: 0.0622 - val_acc: 0.9800\n",
      "Epoch 3/10\n",
      "37800/37800 [==============================] - 2s 63us/step - loss: 0.0612 - acc: 0.9811 - val_loss: 0.0504 - val_acc: 0.9850\n",
      "Epoch 4/10\n",
      "37800/37800 [==============================] - 2s 63us/step - loss: 0.0451 - acc: 0.9861 - val_loss: 0.0474 - val_acc: 0.9855\n",
      "Epoch 5/10\n",
      "37800/37800 [==============================] - 2s 63us/step - loss: 0.0351 - acc: 0.9892 - val_loss: 0.0489 - val_acc: 0.9857\n",
      "Epoch 00005: early stopping\n",
      "Train on 37800 samples, validate on 4200 samples\n",
      "Epoch 1/10\n",
      "37800/37800 [==============================] - 7s 176us/step - loss: 0.4022 - acc: 0.8767 - val_loss: 0.0996 - val_acc: 0.9686\n",
      "Epoch 2/10\n",
      "37800/37800 [==============================] - 2s 64us/step - loss: 0.0908 - acc: 0.9724 - val_loss: 0.0601 - val_acc: 0.9836\n",
      "Epoch 3/10\n",
      "37800/37800 [==============================] - 2s 64us/step - loss: 0.0587 - acc: 0.9819 - val_loss: 0.0475 - val_acc: 0.9869\n",
      "Epoch 4/10\n",
      "37800/37800 [==============================] - 2s 62us/step - loss: 0.0454 - acc: 0.9860 - val_loss: 0.0531 - val_acc: 0.9852\n",
      "Epoch 5/10\n",
      "37800/37800 [==============================] - 2s 63us/step - loss: 0.0350 - acc: 0.9888 - val_loss: 0.0478 - val_acc: 0.9879\n",
      "Epoch 00005: early stopping\n",
      "Train on 37800 samples, validate on 4200 samples\n",
      "Epoch 1/10\n",
      "37800/37800 [==============================] - 7s 177us/step - loss: 0.3508 - acc: 0.8921 - val_loss: 0.0982 - val_acc: 0.9695\n",
      "Epoch 2/10\n",
      "37800/37800 [==============================] - 2s 64us/step - loss: 0.0897 - acc: 0.9731 - val_loss: 0.0655 - val_acc: 0.9802\n",
      "Epoch 3/10\n",
      "37800/37800 [==============================] - 2s 64us/step - loss: 0.0604 - acc: 0.9812 - val_loss: 0.0561 - val_acc: 0.9829\n",
      "Epoch 4/10\n",
      "37800/37800 [==============================] - 2s 64us/step - loss: 0.0436 - acc: 0.9866 - val_loss: 0.0492 - val_acc: 0.9869\n",
      "Epoch 5/10\n",
      "37800/37800 [==============================] - 2s 63us/step - loss: 0.0360 - acc: 0.9891 - val_loss: 0.0433 - val_acc: 0.9886\n",
      "Epoch 6/10\n",
      "37800/37800 [==============================] - 2s 64us/step - loss: 0.0313 - acc: 0.9899 - val_loss: 0.0481 - val_acc: 0.9864\n",
      "Epoch 7/10\n",
      "37800/37800 [==============================] - 2s 64us/step - loss: 0.0263 - acc: 0.9921 - val_loss: 0.0476 - val_acc: 0.9881\n",
      "Epoch 00007: early stopping\n",
      "Train on 37800 samples, validate on 4200 samples\n",
      "Epoch 1/10\n",
      "37800/37800 [==============================] - 7s 174us/step - loss: 0.3668 - acc: 0.8871 - val_loss: 0.1045 - val_acc: 0.9681\n",
      "Epoch 2/10\n",
      "37800/37800 [==============================] - 2s 64us/step - loss: 0.0946 - acc: 0.9715 - val_loss: 0.0727 - val_acc: 0.9776\n",
      "Epoch 3/10\n"
     ]
    },
    {
     "name": "stdout",
     "output_type": "stream",
     "text": [
      "37800/37800 [==============================] - 2s 64us/step - loss: 0.0631 - acc: 0.9808 - val_loss: 0.0588 - val_acc: 0.9831\n",
      "Epoch 4/10\n",
      "37800/37800 [==============================] - 2s 65us/step - loss: 0.0461 - acc: 0.9856 - val_loss: 0.0452 - val_acc: 0.9855\n",
      "Epoch 5/10\n",
      "37800/37800 [==============================] - 2s 64us/step - loss: 0.0365 - acc: 0.9883 - val_loss: 0.0519 - val_acc: 0.9862\n",
      "Epoch 6/10\n",
      "37800/37800 [==============================] - 2s 65us/step - loss: 0.0288 - acc: 0.9909 - val_loss: 0.0448 - val_acc: 0.9876\n",
      "Epoch 7/10\n",
      "37800/37800 [==============================] - 2s 63us/step - loss: 0.0270 - acc: 0.9909 - val_loss: 0.0447 - val_acc: 0.9864\n",
      "Epoch 8/10\n",
      "37800/37800 [==============================] - 2s 62us/step - loss: 0.0241 - acc: 0.9927 - val_loss: 0.0402 - val_acc: 0.9895\n",
      "Epoch 9/10\n",
      "37800/37800 [==============================] - 2s 63us/step - loss: 0.0166 - acc: 0.9947 - val_loss: 0.0439 - val_acc: 0.9900\n",
      "Epoch 10/10\n",
      "37800/37800 [==============================] - 2s 61us/step - loss: 0.0165 - acc: 0.9946 - val_loss: 0.0427 - val_acc: 0.9876\n",
      "Epoch 00010: early stopping\n",
      "Train on 37800 samples, validate on 4200 samples\n",
      "Epoch 1/10\n",
      "37800/37800 [==============================] - 7s 173us/step - loss: 0.3594 - acc: 0.8936 - val_loss: 0.1024 - val_acc: 0.9695\n",
      "Epoch 2/10\n",
      "37800/37800 [==============================] - 2s 63us/step - loss: 0.0911 - acc: 0.9720 - val_loss: 0.0549 - val_acc: 0.9824\n",
      "Epoch 3/10\n",
      "37800/37800 [==============================] - 2s 65us/step - loss: 0.0591 - acc: 0.9816 - val_loss: 0.0505 - val_acc: 0.9850\n",
      "Epoch 4/10\n",
      "37800/37800 [==============================] - 2s 63us/step - loss: 0.0464 - acc: 0.9856 - val_loss: 0.0499 - val_acc: 0.9833\n",
      "Epoch 5/10\n",
      "37800/37800 [==============================] - 2s 64us/step - loss: 0.0384 - acc: 0.9880 - val_loss: 0.0384 - val_acc: 0.9893\n",
      "Epoch 6/10\n",
      "37800/37800 [==============================] - 2s 64us/step - loss: 0.0323 - acc: 0.9903 - val_loss: 0.0388 - val_acc: 0.9876\n",
      "Epoch 7/10\n",
      "37800/37800 [==============================] - 2s 64us/step - loss: 0.0246 - acc: 0.9920 - val_loss: 0.0395 - val_acc: 0.9893\n",
      "Epoch 00007: early stopping\n",
      "Train on 37800 samples, validate on 4200 samples\n",
      "Epoch 1/10\n",
      "37800/37800 [==============================] - 7s 183us/step - loss: 0.3895 - acc: 0.8795 - val_loss: 0.0970 - val_acc: 0.9705\n",
      "Epoch 2/10\n",
      "37800/37800 [==============================] - 2s 65us/step - loss: 0.0885 - acc: 0.9728 - val_loss: 0.0640 - val_acc: 0.9798\n",
      "Epoch 3/10\n",
      "37800/37800 [==============================] - 2s 63us/step - loss: 0.0597 - acc: 0.9817 - val_loss: 0.0659 - val_acc: 0.9795\n",
      "Epoch 4/10\n",
      "37800/37800 [==============================] - 2s 64us/step - loss: 0.0457 - acc: 0.9862 - val_loss: 0.0484 - val_acc: 0.9848\n",
      "Epoch 5/10\n",
      "37800/37800 [==============================] - 2s 63us/step - loss: 0.0368 - acc: 0.9889 - val_loss: 0.0479 - val_acc: 0.9862\n",
      "Epoch 6/10\n",
      "37800/37800 [==============================] - 2s 62us/step - loss: 0.0287 - acc: 0.9911 - val_loss: 0.0424 - val_acc: 0.9876\n",
      "Epoch 7/10\n",
      "37800/37800 [==============================] - 2s 63us/step - loss: 0.0233 - acc: 0.9928 - val_loss: 0.0417 - val_acc: 0.9888\n",
      "Epoch 8/10\n",
      "37800/37800 [==============================] - 2s 64us/step - loss: 0.0234 - acc: 0.9928 - val_loss: 0.0511 - val_acc: 0.9852\n",
      "Epoch 9/10\n",
      "37800/37800 [==============================] - 2s 63us/step - loss: 0.0206 - acc: 0.9936 - val_loss: 0.0477 - val_acc: 0.9879\n",
      "Epoch 00009: early stopping\n",
      "Train on 37800 samples, validate on 4200 samples\n",
      "Epoch 1/10\n",
      "37800/37800 [==============================] - 8s 203us/step - loss: 0.3810 - acc: 0.8824 - val_loss: 0.0973 - val_acc: 0.9690\n",
      "Epoch 2/10\n",
      "37800/37800 [==============================] - 2s 64us/step - loss: 0.0900 - acc: 0.9727 - val_loss: 0.0639 - val_acc: 0.9798\n",
      "Epoch 3/10\n",
      "37800/37800 [==============================] - 2s 64us/step - loss: 0.0596 - acc: 0.9821 - val_loss: 0.0593 - val_acc: 0.9826\n",
      "Epoch 4/10\n",
      "37800/37800 [==============================] - 2s 63us/step - loss: 0.0453 - acc: 0.9861 - val_loss: 0.0433 - val_acc: 0.9869\n",
      "Epoch 5/10\n",
      "37800/37800 [==============================] - 2s 63us/step - loss: 0.0364 - acc: 0.9883 - val_loss: 0.0444 - val_acc: 0.9879\n",
      "Epoch 6/10\n",
      "37800/37800 [==============================] - 2s 63us/step - loss: 0.0299 - acc: 0.9906 - val_loss: 0.0508 - val_acc: 0.9857\n",
      "Epoch 00006: early stopping\n",
      "Train on 37800 samples, validate on 4200 samples\n",
      "Epoch 1/10\n",
      "37800/37800 [==============================] - 7s 183us/step - loss: 0.3574 - acc: 0.8900 - val_loss: 0.0971 - val_acc: 0.9669\n",
      "Epoch 2/10\n",
      "37800/37800 [==============================] - 2s 65us/step - loss: 0.0925 - acc: 0.9715 - val_loss: 0.0837 - val_acc: 0.9755\n",
      "Epoch 3/10\n",
      "37800/37800 [==============================] - 2s 66us/step - loss: 0.0654 - acc: 0.9790 - val_loss: 0.0612 - val_acc: 0.9795\n",
      "Epoch 4/10\n",
      "37800/37800 [==============================] - 2s 63us/step - loss: 0.0478 - acc: 0.9854 - val_loss: 0.0498 - val_acc: 0.9848\n",
      "Epoch 5/10\n",
      "37800/37800 [==============================] - 2s 65us/step - loss: 0.0356 - acc: 0.9890 - val_loss: 0.0468 - val_acc: 0.9871\n",
      "Epoch 6/10\n",
      "37800/37800 [==============================] - 2s 65us/step - loss: 0.0303 - acc: 0.9906 - val_loss: 0.0491 - val_acc: 0.9867\n",
      "Epoch 7/10\n",
      "37800/37800 [==============================] - 2s 64us/step - loss: 0.0264 - acc: 0.9917 - val_loss: 0.0445 - val_acc: 0.9876\n",
      "Epoch 00007: early stopping\n",
      "Train on 37800 samples, validate on 4200 samples\n",
      "Epoch 1/10\n",
      "37800/37800 [==============================] - 7s 181us/step - loss: 0.3594 - acc: 0.8892 - val_loss: 0.0954 - val_acc: 0.9726\n",
      "Epoch 2/10\n",
      "37800/37800 [==============================] - 2s 65us/step - loss: 0.0939 - acc: 0.9714 - val_loss: 0.0652 - val_acc: 0.9802\n",
      "Epoch 3/10\n",
      "37800/37800 [==============================] - 2s 65us/step - loss: 0.0619 - acc: 0.9808 - val_loss: 0.0472 - val_acc: 0.9869\n",
      "Epoch 4/10\n",
      "37800/37800 [==============================] - 2s 65us/step - loss: 0.0476 - acc: 0.9852 - val_loss: 0.0564 - val_acc: 0.9838\n",
      "Epoch 5/10\n",
      "37800/37800 [==============================] - 2s 65us/step - loss: 0.0384 - acc: 0.9881 - val_loss: 0.0488 - val_acc: 0.9857\n",
      "Epoch 00005: early stopping\n",
      "Train on 37800 samples, validate on 4200 samples\n",
      "Epoch 1/10\n",
      "37800/37800 [==============================] - 7s 185us/step - loss: 0.3384 - acc: 0.8943 - val_loss: 0.1007 - val_acc: 0.9693\n",
      "Epoch 2/10\n",
      "37800/37800 [==============================] - 2s 66us/step - loss: 0.0928 - acc: 0.9718 - val_loss: 0.0663 - val_acc: 0.9790\n",
      "Epoch 3/10\n",
      "37800/37800 [==============================] - 2s 65us/step - loss: 0.0625 - acc: 0.9805 - val_loss: 0.0572 - val_acc: 0.9810\n",
      "Epoch 4/10\n",
      "37800/37800 [==============================] - 3s 66us/step - loss: 0.0493 - acc: 0.9851 - val_loss: 0.0513 - val_acc: 0.9869\n",
      "Epoch 5/10\n",
      "37800/37800 [==============================] - 2s 65us/step - loss: 0.0388 - acc: 0.9875 - val_loss: 0.0505 - val_acc: 0.9852\n",
      "Epoch 6/10\n",
      "37800/37800 [==============================] - 2s 65us/step - loss: 0.0326 - acc: 0.9896 - val_loss: 0.0444 - val_acc: 0.9867\n",
      "Epoch 00006: early stopping\n",
      "Train on 37800 samples, validate on 4200 samples\n",
      "Epoch 1/10\n",
      "37800/37800 [==============================] - 7s 189us/step - loss: 0.3600 - acc: 0.8914 - val_loss: 0.0940 - val_acc: 0.9721\n",
      "Epoch 2/10\n",
      "37800/37800 [==============================] - 2s 65us/step - loss: 0.0810 - acc: 0.9741 - val_loss: 0.0595 - val_acc: 0.9800\n",
      "Epoch 3/10\n",
      "37800/37800 [==============================] - 3s 67us/step - loss: 0.0580 - acc: 0.9821 - val_loss: 0.0559 - val_acc: 0.9817\n",
      "Epoch 4/10\n",
      "37800/37800 [==============================] - 2s 64us/step - loss: 0.0456 - acc: 0.9858 - val_loss: 0.0444 - val_acc: 0.9864\n",
      "Epoch 5/10\n",
      "37800/37800 [==============================] - 2s 66us/step - loss: 0.0337 - acc: 0.9893 - val_loss: 0.0424 - val_acc: 0.9876\n",
      "Epoch 6/10\n",
      "37800/37800 [==============================] - 2s 64us/step - loss: 0.0300 - acc: 0.9904 - val_loss: 0.0421 - val_acc: 0.9879\n",
      "Epoch 7/10\n",
      "37800/37800 [==============================] - 3s 67us/step - loss: 0.0234 - acc: 0.9925 - val_loss: 0.0467 - val_acc: 0.9857\n",
      "Epoch 00007: early stopping\n",
      "Train on 37800 samples, validate on 4200 samples\n",
      "Epoch 1/10\n"
     ]
    },
    {
     "name": "stdout",
     "output_type": "stream",
     "text": [
      "37800/37800 [==============================] - 7s 191us/step - loss: 0.3652 - acc: 0.8898 - val_loss: 0.1000 - val_acc: 0.9688\n",
      "Epoch 2/10\n",
      "37800/37800 [==============================] - 3s 67us/step - loss: 0.0879 - acc: 0.9735 - val_loss: 0.0642 - val_acc: 0.9800\n",
      "Epoch 3/10\n",
      "37800/37800 [==============================] - 2s 65us/step - loss: 0.0592 - acc: 0.9816 - val_loss: 0.0535 - val_acc: 0.9836\n",
      "Epoch 4/10\n",
      "37800/37800 [==============================] - 2s 65us/step - loss: 0.0445 - acc: 0.9860 - val_loss: 0.0464 - val_acc: 0.9871\n",
      "Epoch 5/10\n",
      "37800/37800 [==============================] - 2s 65us/step - loss: 0.0362 - acc: 0.9889 - val_loss: 0.0447 - val_acc: 0.9886\n",
      "Epoch 6/10\n",
      "37800/37800 [==============================] - 3s 67us/step - loss: 0.0310 - acc: 0.9902 - val_loss: 0.0422 - val_acc: 0.9895\n",
      "Epoch 7/10\n",
      "37800/37800 [==============================] - 2s 63us/step - loss: 0.0242 - acc: 0.9920 - val_loss: 0.0456 - val_acc: 0.9876\n",
      "Epoch 00007: early stopping\n",
      "Train on 37800 samples, validate on 4200 samples\n",
      "Epoch 1/10\n",
      "37800/37800 [==============================] - 7s 194us/step - loss: 0.3452 - acc: 0.8942 - val_loss: 0.0927 - val_acc: 0.9714\n",
      "Epoch 2/10\n",
      "37800/37800 [==============================] - 3s 66us/step - loss: 0.0798 - acc: 0.9763 - val_loss: 0.0575 - val_acc: 0.9829\n",
      "Epoch 3/10\n",
      "37800/37800 [==============================] - 2s 65us/step - loss: 0.0559 - acc: 0.9825 - val_loss: 0.0490 - val_acc: 0.9864\n",
      "Epoch 4/10\n",
      "37800/37800 [==============================] - 3s 68us/step - loss: 0.0429 - acc: 0.9864 - val_loss: 0.0451 - val_acc: 0.9864\n",
      "Epoch 5/10\n",
      "37800/37800 [==============================] - 2s 66us/step - loss: 0.0349 - acc: 0.9895 - val_loss: 0.0394 - val_acc: 0.9890\n",
      "Epoch 6/10\n",
      "37800/37800 [==============================] - 2s 65us/step - loss: 0.0283 - acc: 0.9910 - val_loss: 0.0432 - val_acc: 0.9867\n",
      "Epoch 7/10\n",
      "37800/37800 [==============================] - 2s 64us/step - loss: 0.0223 - acc: 0.9929 - val_loss: 0.0418 - val_acc: 0.9898\n",
      "Epoch 00007: early stopping\n",
      "Train on 37800 samples, validate on 4200 samples\n",
      "Epoch 1/10\n",
      "37800/37800 [==============================] - 7s 196us/step - loss: 0.3363 - acc: 0.8954 - val_loss: 0.1022 - val_acc: 0.9660\n",
      "Epoch 2/10\n",
      "37800/37800 [==============================] - 3s 67us/step - loss: 0.0874 - acc: 0.9743 - val_loss: 0.0673 - val_acc: 0.9814\n",
      "Epoch 3/10\n",
      "37800/37800 [==============================] - 3s 67us/step - loss: 0.0597 - acc: 0.9813 - val_loss: 0.0564 - val_acc: 0.9831\n",
      "Epoch 4/10\n",
      "37800/37800 [==============================] - 3s 67us/step - loss: 0.0457 - acc: 0.9860 - val_loss: 0.0476 - val_acc: 0.9852\n",
      "Epoch 5/10\n",
      "37800/37800 [==============================] - 2s 65us/step - loss: 0.0360 - acc: 0.9883 - val_loss: 0.0474 - val_acc: 0.9848\n",
      "Epoch 6/10\n",
      "37800/37800 [==============================] - 2s 65us/step - loss: 0.0293 - acc: 0.9907 - val_loss: 0.0454 - val_acc: 0.9864\n",
      "Epoch 7/10\n",
      "37800/37800 [==============================] - 2s 65us/step - loss: 0.0238 - acc: 0.9924 - val_loss: 0.0531 - val_acc: 0.9852\n",
      "Epoch 8/10\n",
      "37800/37800 [==============================] - 2s 65us/step - loss: 0.0236 - acc: 0.9922 - val_loss: 0.0477 - val_acc: 0.9886\n",
      "Epoch 9/10\n",
      "37800/37800 [==============================] - 2s 64us/step - loss: 0.0209 - acc: 0.9935 - val_loss: 0.0475 - val_acc: 0.9879\n",
      "Epoch 10/10\n",
      "37800/37800 [==============================] - 2s 64us/step - loss: 0.0158 - acc: 0.9947 - val_loss: 0.0555 - val_acc: 0.9879\n",
      "Epoch 00010: early stopping\n",
      "Train on 37800 samples, validate on 4200 samples\n",
      "Epoch 1/10\n",
      "37800/37800 [==============================] - 7s 197us/step - loss: 0.3480 - acc: 0.8947 - val_loss: 0.0932 - val_acc: 0.9700\n",
      "Epoch 2/10\n",
      "37800/37800 [==============================] - 3s 66us/step - loss: 0.0872 - acc: 0.9730 - val_loss: 0.0588 - val_acc: 0.9812\n",
      "Epoch 3/10\n",
      "37800/37800 [==============================] - 3s 67us/step - loss: 0.0592 - acc: 0.9830 - val_loss: 0.0495 - val_acc: 0.9845\n",
      "Epoch 4/10\n",
      "37800/37800 [==============================] - 2s 65us/step - loss: 0.0437 - acc: 0.9870 - val_loss: 0.0522 - val_acc: 0.9831\n",
      "Epoch 5/10\n",
      "37800/37800 [==============================] - 2s 65us/step - loss: 0.0361 - acc: 0.9881 - val_loss: 0.0428 - val_acc: 0.9888\n",
      "Epoch 6/10\n",
      "37800/37800 [==============================] - 2s 65us/step - loss: 0.0276 - acc: 0.9906 - val_loss: 0.0560 - val_acc: 0.9867\n",
      "Epoch 7/10\n",
      "37800/37800 [==============================] - 2s 64us/step - loss: 0.0231 - acc: 0.9922 - val_loss: 0.0481 - val_acc: 0.9881\n",
      "Epoch 00007: early stopping\n",
      "Train on 37800 samples, validate on 4200 samples\n",
      "Epoch 1/10\n",
      "37800/37800 [==============================] - 8s 200us/step - loss: 0.3467 - acc: 0.8934 - val_loss: 0.1046 - val_acc: 0.9674\n",
      "Epoch 2/10\n",
      "37800/37800 [==============================] - 3s 67us/step - loss: 0.0874 - acc: 0.9727 - val_loss: 0.0641 - val_acc: 0.9805\n",
      "Epoch 3/10\n",
      "37800/37800 [==============================] - 3s 67us/step - loss: 0.0585 - acc: 0.9821 - val_loss: 0.0647 - val_acc: 0.9798\n",
      "Epoch 4/10\n",
      "37800/37800 [==============================] - 3s 67us/step - loss: 0.0448 - acc: 0.9862 - val_loss: 0.0461 - val_acc: 0.9874\n",
      "Epoch 5/10\n",
      "37800/37800 [==============================] - 3s 68us/step - loss: 0.0365 - acc: 0.9883 - val_loss: 0.0481 - val_acc: 0.9867\n",
      "Epoch 6/10\n",
      "37800/37800 [==============================] - 2s 65us/step - loss: 0.0304 - acc: 0.9904 - val_loss: 0.0471 - val_acc: 0.9874\n",
      "Epoch 00006: early stopping\n",
      "Train on 37800 samples, validate on 4200 samples\n",
      "Epoch 1/10\n",
      "37800/37800 [==============================] - 8s 199us/step - loss: 0.3512 - acc: 0.8909 - val_loss: 0.0929 - val_acc: 0.9717\n",
      "Epoch 2/10\n",
      "37800/37800 [==============================] - 3s 66us/step - loss: 0.0914 - acc: 0.9730 - val_loss: 0.0630 - val_acc: 0.9829\n",
      "Epoch 3/10\n",
      "37800/37800 [==============================] - 3s 66us/step - loss: 0.0628 - acc: 0.9807 - val_loss: 0.0567 - val_acc: 0.9831\n",
      "Epoch 4/10\n",
      "37800/37800 [==============================] - 3s 66us/step - loss: 0.0499 - acc: 0.9845 - val_loss: 0.0557 - val_acc: 0.9831\n",
      "Epoch 00004: early stopping\n",
      "Train on 37800 samples, validate on 4200 samples\n",
      "Epoch 1/10\n",
      "37800/37800 [==============================] - 8s 203us/step - loss: 0.4068 - acc: 0.8756 - val_loss: 0.1054 - val_acc: 0.9657\n",
      "Epoch 2/10\n",
      "37800/37800 [==============================] - 3s 67us/step - loss: 0.0954 - acc: 0.9717 - val_loss: 0.0761 - val_acc: 0.9783\n",
      "Epoch 3/10\n",
      "37800/37800 [==============================] - 3s 68us/step - loss: 0.0655 - acc: 0.9800 - val_loss: 0.0570 - val_acc: 0.9829\n",
      "Epoch 4/10\n",
      "37800/37800 [==============================] - 2s 66us/step - loss: 0.0479 - acc: 0.9851 - val_loss: 0.0466 - val_acc: 0.9864\n",
      "Epoch 5/10\n",
      "37800/37800 [==============================] - 2s 66us/step - loss: 0.0381 - acc: 0.9877 - val_loss: 0.0447 - val_acc: 0.9879\n",
      "Epoch 6/10\n",
      "37800/37800 [==============================] - 3s 68us/step - loss: 0.0306 - acc: 0.9907 - val_loss: 0.0410 - val_acc: 0.9879\n",
      "Epoch 7/10\n",
      "37800/37800 [==============================] - 3s 67us/step - loss: 0.0259 - acc: 0.9916 - val_loss: 0.0407 - val_acc: 0.9876\n",
      "Epoch 00007: early stopping\n",
      "Train on 37800 samples, validate on 4200 samples\n",
      "Epoch 1/10\n",
      "37800/37800 [==============================] - 8s 202us/step - loss: 0.3391 - acc: 0.8946 - val_loss: 0.1074 - val_acc: 0.9674\n",
      "Epoch 2/10\n",
      "37800/37800 [==============================] - 3s 67us/step - loss: 0.0862 - acc: 0.9736 - val_loss: 0.0606 - val_acc: 0.9814\n",
      "Epoch 3/10\n",
      "37800/37800 [==============================] - 3s 66us/step - loss: 0.0596 - acc: 0.9815 - val_loss: 0.0584 - val_acc: 0.9829\n",
      "Epoch 4/10\n",
      "37800/37800 [==============================] - 2s 66us/step - loss: 0.0469 - acc: 0.9854 - val_loss: 0.0577 - val_acc: 0.9824\n",
      "Epoch 5/10\n",
      "37800/37800 [==============================] - 2s 66us/step - loss: 0.0369 - acc: 0.9885 - val_loss: 0.0509 - val_acc: 0.9860\n",
      "Epoch 6/10\n",
      "37800/37800 [==============================] - 3s 67us/step - loss: 0.0316 - acc: 0.9896 - val_loss: 0.0421 - val_acc: 0.9898\n",
      "Epoch 7/10\n",
      "37800/37800 [==============================] - 2s 66us/step - loss: 0.0266 - acc: 0.9916 - val_loss: 0.0431 - val_acc: 0.9871\n",
      "Epoch 8/10\n",
      "37800/37800 [==============================] - 2s 65us/step - loss: 0.0216 - acc: 0.9931 - val_loss: 0.0520 - val_acc: 0.9876\n"
     ]
    },
    {
     "name": "stdout",
     "output_type": "stream",
     "text": [
      "Epoch 00008: early stopping\n",
      "Train on 37800 samples, validate on 4200 samples\n",
      "Epoch 1/10\n",
      "37800/37800 [==============================] - 8s 209us/step - loss: 0.3629 - acc: 0.8888 - val_loss: 0.1015 - val_acc: 0.9679\n",
      "Epoch 2/10\n",
      "37800/37800 [==============================] - 3s 67us/step - loss: 0.0917 - acc: 0.9722 - val_loss: 0.0808 - val_acc: 0.9740\n",
      "Epoch 3/10\n",
      "37800/37800 [==============================] - 3s 67us/step - loss: 0.0627 - acc: 0.9809 - val_loss: 0.0562 - val_acc: 0.9829\n",
      "Epoch 4/10\n",
      "37800/37800 [==============================] - 3s 68us/step - loss: 0.0442 - acc: 0.9865 - val_loss: 0.0497 - val_acc: 0.9857\n",
      "Epoch 5/10\n",
      "37800/37800 [==============================] - 3s 68us/step - loss: 0.0357 - acc: 0.9887 - val_loss: 0.0497 - val_acc: 0.9845\n",
      "Epoch 6/10\n",
      "37800/37800 [==============================] - 3s 67us/step - loss: 0.0303 - acc: 0.9899 - val_loss: 0.0462 - val_acc: 0.9879\n",
      "Epoch 7/10\n",
      "37800/37800 [==============================] - 2s 66us/step - loss: 0.0263 - acc: 0.9914 - val_loss: 0.0463 - val_acc: 0.9879\n",
      "Epoch 8/10\n",
      "37800/37800 [==============================] - 2s 66us/step - loss: 0.0214 - acc: 0.9928 - val_loss: 0.0475 - val_acc: 0.9860\n",
      "Epoch 00008: early stopping\n",
      "Train on 37800 samples, validate on 4200 samples\n",
      "Epoch 1/10\n",
      "37800/37800 [==============================] - 8s 207us/step - loss: 0.3584 - acc: 0.8921 - val_loss: 0.0878 - val_acc: 0.9700\n",
      "Epoch 2/10\n",
      "37800/37800 [==============================] - 3s 67us/step - loss: 0.0843 - acc: 0.9747 - val_loss: 0.0710 - val_acc: 0.9795\n",
      "Epoch 3/10\n",
      "37800/37800 [==============================] - 3s 68us/step - loss: 0.0567 - acc: 0.9823 - val_loss: 0.0512 - val_acc: 0.9840\n",
      "Epoch 4/10\n",
      "37800/37800 [==============================] - 3s 67us/step - loss: 0.0445 - acc: 0.9861 - val_loss: 0.0439 - val_acc: 0.9876\n",
      "Epoch 5/10\n",
      "37800/37800 [==============================] - 3s 68us/step - loss: 0.0341 - acc: 0.9890 - val_loss: 0.0447 - val_acc: 0.9876\n",
      "Epoch 6/10\n",
      "37800/37800 [==============================] - 3s 68us/step - loss: 0.0287 - acc: 0.9910 - val_loss: 0.0443 - val_acc: 0.9867\n",
      "Epoch 00006: early stopping\n",
      "Train on 37800 samples, validate on 4200 samples\n",
      "Epoch 1/10\n",
      "37800/37800 [==============================] - 8s 208us/step - loss: 0.3447 - acc: 0.8974 - val_loss: 0.0942 - val_acc: 0.9681\n",
      "Epoch 2/10\n",
      "37800/37800 [==============================] - 3s 68us/step - loss: 0.0945 - acc: 0.9718 - val_loss: 0.0602 - val_acc: 0.9829\n",
      "Epoch 3/10\n",
      "37800/37800 [==============================] - 3s 67us/step - loss: 0.0617 - acc: 0.9807 - val_loss: 0.0543 - val_acc: 0.9829\n",
      "Epoch 4/10\n",
      "37800/37800 [==============================] - 3s 67us/step - loss: 0.0474 - acc: 0.9847 - val_loss: 0.0528 - val_acc: 0.9857\n",
      "Epoch 5/10\n",
      "37800/37800 [==============================] - 3s 67us/step - loss: 0.0360 - acc: 0.9887 - val_loss: 0.0497 - val_acc: 0.9848\n",
      "Epoch 6/10\n",
      "37800/37800 [==============================] - 3s 67us/step - loss: 0.0307 - acc: 0.9904 - val_loss: 0.0482 - val_acc: 0.9874\n",
      "Epoch 7/10\n",
      "37800/37800 [==============================] - 3s 67us/step - loss: 0.0265 - acc: 0.9917 - val_loss: 0.0469 - val_acc: 0.9864\n",
      "Epoch 8/10\n",
      "37800/37800 [==============================] - 3s 67us/step - loss: 0.0207 - acc: 0.9929 - val_loss: 0.0484 - val_acc: 0.9864\n",
      "Epoch 00008: early stopping\n",
      "Train on 37800 samples, validate on 4200 samples\n",
      "Epoch 1/10\n",
      "37800/37800 [==============================] - 9s 235us/step - loss: 0.3609 - acc: 0.8872 - val_loss: 0.0943 - val_acc: 0.9698\n",
      "Epoch 2/10\n",
      "37800/37800 [==============================] - 3s 67us/step - loss: 0.0892 - acc: 0.9737 - val_loss: 0.0620 - val_acc: 0.9800\n",
      "Epoch 3/10\n",
      "37800/37800 [==============================] - 3s 68us/step - loss: 0.0594 - acc: 0.9824 - val_loss: 0.0521 - val_acc: 0.9838\n",
      "Epoch 4/10\n",
      "37800/37800 [==============================] - 3s 68us/step - loss: 0.0448 - acc: 0.9860 - val_loss: 0.0485 - val_acc: 0.9871\n",
      "Epoch 5/10\n",
      "37800/37800 [==============================] - 3s 67us/step - loss: 0.0376 - acc: 0.9878 - val_loss: 0.0429 - val_acc: 0.9869\n",
      "Epoch 6/10\n",
      "37800/37800 [==============================] - 3s 67us/step - loss: 0.0305 - acc: 0.9901 - val_loss: 0.0536 - val_acc: 0.9838\n",
      "Epoch 00006: early stopping\n",
      "Train on 37800 samples, validate on 4200 samples\n",
      "Epoch 1/10\n",
      "37800/37800 [==============================] - 8s 215us/step - loss: 0.3846 - acc: 0.8804 - val_loss: 0.1276 - val_acc: 0.9555\n",
      "Epoch 2/10\n",
      "37800/37800 [==============================] - 3s 67us/step - loss: 0.1025 - acc: 0.9692 - val_loss: 0.0670 - val_acc: 0.9798\n",
      "Epoch 3/10\n",
      "37800/37800 [==============================] - 3s 67us/step - loss: 0.0679 - acc: 0.9792 - val_loss: 0.0580 - val_acc: 0.9824\n",
      "Epoch 4/10\n",
      "37800/37800 [==============================] - 3s 68us/step - loss: 0.0512 - acc: 0.9837 - val_loss: 0.0553 - val_acc: 0.9848\n",
      "Epoch 5/10\n",
      "37800/37800 [==============================] - 3s 66us/step - loss: 0.0377 - acc: 0.9885 - val_loss: 0.0515 - val_acc: 0.9850\n",
      "Epoch 6/10\n",
      "37800/37800 [==============================] - 3s 68us/step - loss: 0.0334 - acc: 0.9888 - val_loss: 0.0573 - val_acc: 0.9850\n",
      "Epoch 00006: early stopping\n",
      "Train on 37800 samples, validate on 4200 samples\n",
      "Epoch 1/10\n",
      "37800/37800 [==============================] - 8s 215us/step - loss: 0.3440 - acc: 0.8937 - val_loss: 0.0969 - val_acc: 0.9686\n",
      "Epoch 2/10\n",
      "37800/37800 [==============================] - 3s 68us/step - loss: 0.0896 - acc: 0.9726 - val_loss: 0.0590 - val_acc: 0.9821\n",
      "Epoch 3/10\n",
      "37800/37800 [==============================] - 3s 69us/step - loss: 0.0592 - acc: 0.9818 - val_loss: 0.0534 - val_acc: 0.9819\n",
      "Epoch 4/10\n",
      "37800/37800 [==============================] - 3s 69us/step - loss: 0.0445 - acc: 0.9864 - val_loss: 0.0449 - val_acc: 0.9862\n",
      "Epoch 5/10\n",
      "37800/37800 [==============================] - 3s 67us/step - loss: 0.0354 - acc: 0.9895 - val_loss: 0.0551 - val_acc: 0.9845\n",
      "Epoch 6/10\n",
      "37800/37800 [==============================] - 3s 66us/step - loss: 0.0292 - acc: 0.9908 - val_loss: 0.0492 - val_acc: 0.9864\n",
      "Epoch 00006: early stopping\n",
      "Train on 37800 samples, validate on 4200 samples\n",
      "Epoch 1/10\n",
      "37800/37800 [==============================] - 8s 221us/step - loss: 0.3581 - acc: 0.8887 - val_loss: 0.0902 - val_acc: 0.9738\n",
      "Epoch 2/10\n",
      "37800/37800 [==============================] - 3s 69us/step - loss: 0.0929 - acc: 0.9716 - val_loss: 0.0672 - val_acc: 0.9790\n",
      "Epoch 3/10\n",
      "37800/37800 [==============================] - 3s 68us/step - loss: 0.0641 - acc: 0.9804 - val_loss: 0.0502 - val_acc: 0.9836\n",
      "Epoch 4/10\n",
      "37800/37800 [==============================] - 3s 71us/step - loss: 0.0469 - acc: 0.9853 - val_loss: 0.0495 - val_acc: 0.9855\n",
      "Epoch 5/10\n",
      "37800/37800 [==============================] - 3s 68us/step - loss: 0.0402 - acc: 0.9875 - val_loss: 0.0536 - val_acc: 0.9848\n",
      "Epoch 6/10\n",
      "37800/37800 [==============================] - 3s 68us/step - loss: 0.0306 - acc: 0.9907 - val_loss: 0.0412 - val_acc: 0.9874\n",
      "Epoch 7/10\n",
      "37800/37800 [==============================] - 3s 67us/step - loss: 0.0268 - acc: 0.9911 - val_loss: 0.0459 - val_acc: 0.9855\n",
      "Epoch 8/10\n",
      "37800/37800 [==============================] - 2s 66us/step - loss: 0.0227 - acc: 0.9929 - val_loss: 0.0434 - val_acc: 0.9876\n",
      "Epoch 00008: early stopping\n",
      "Train on 37800 samples, validate on 4200 samples\n",
      "Epoch 1/10\n",
      "37800/37800 [==============================] - 8s 214us/step - loss: 0.3703 - acc: 0.8852 - val_loss: 0.1002 - val_acc: 0.9688\n",
      "Epoch 2/10\n",
      "37800/37800 [==============================] - 3s 68us/step - loss: 0.0930 - acc: 0.9717 - val_loss: 0.0705 - val_acc: 0.9802\n",
      "Epoch 3/10\n",
      "37800/37800 [==============================] - 3s 69us/step - loss: 0.0599 - acc: 0.9821 - val_loss: 0.0491 - val_acc: 0.9860\n",
      "Epoch 4/10\n",
      "37800/37800 [==============================] - 3s 68us/step - loss: 0.0432 - acc: 0.9866 - val_loss: 0.0470 - val_acc: 0.9867\n",
      "Epoch 5/10\n",
      "37800/37800 [==============================] - 3s 70us/step - loss: 0.0369 - acc: 0.9879 - val_loss: 0.0491 - val_acc: 0.9876\n",
      "Epoch 6/10\n",
      "37800/37800 [==============================] - 3s 68us/step - loss: 0.0287 - acc: 0.9906 - val_loss: 0.0499 - val_acc: 0.9840\n",
      "Epoch 7/10\n",
      "37800/37800 [==============================] - 3s 67us/step - loss: 0.0241 - acc: 0.9920 - val_loss: 0.0472 - val_acc: 0.9869\n",
      "Epoch 00007: early stopping\n",
      "Train on 37800 samples, validate on 4200 samples\n",
      "Epoch 1/10\n"
     ]
    },
    {
     "name": "stdout",
     "output_type": "stream",
     "text": [
      "37800/37800 [==============================] - 8s 223us/step - loss: 0.3739 - acc: 0.8852 - val_loss: 0.1022 - val_acc: 0.9688\n",
      "Epoch 2/10\n",
      "37800/37800 [==============================] - 3s 69us/step - loss: 0.0964 - acc: 0.9710 - val_loss: 0.0677 - val_acc: 0.9800\n",
      "Epoch 3/10\n",
      "37800/37800 [==============================] - 3s 69us/step - loss: 0.0618 - acc: 0.9817 - val_loss: 0.0559 - val_acc: 0.9821\n",
      "Epoch 4/10\n",
      "37800/37800 [==============================] - 3s 69us/step - loss: 0.0467 - acc: 0.9852 - val_loss: 0.0553 - val_acc: 0.9840\n",
      "Epoch 5/10\n",
      "37800/37800 [==============================] - 3s 68us/step - loss: 0.0391 - acc: 0.9877 - val_loss: 0.0524 - val_acc: 0.9829\n",
      "Epoch 6/10\n",
      "37800/37800 [==============================] - 3s 67us/step - loss: 0.0291 - acc: 0.9914 - val_loss: 0.0504 - val_acc: 0.9895\n",
      "Epoch 7/10\n",
      "37800/37800 [==============================] - 3s 69us/step - loss: 0.0247 - acc: 0.9919 - val_loss: 0.0497 - val_acc: 0.9874\n",
      "Epoch 8/10\n",
      "37800/37800 [==============================] - 3s 66us/step - loss: 0.0217 - acc: 0.9928 - val_loss: 0.0456 - val_acc: 0.9886\n",
      "Epoch 00008: early stopping\n",
      "Train on 37800 samples, validate on 4200 samples\n",
      "Epoch 1/10\n",
      "37800/37800 [==============================] - 8s 216us/step - loss: 0.3482 - acc: 0.8920 - val_loss: 0.1002 - val_acc: 0.9712\n",
      "Epoch 2/10\n",
      "37800/37800 [==============================] - 3s 70us/step - loss: 0.0909 - acc: 0.9718 - val_loss: 0.0857 - val_acc: 0.9733\n",
      "Epoch 3/10\n",
      "37800/37800 [==============================] - 3s 69us/step - loss: 0.0636 - acc: 0.9806 - val_loss: 0.0590 - val_acc: 0.9838\n",
      "Epoch 4/10\n",
      "37800/37800 [==============================] - 3s 69us/step - loss: 0.0455 - acc: 0.9859 - val_loss: 0.0534 - val_acc: 0.9840\n",
      "Epoch 5/10\n",
      "37800/37800 [==============================] - 3s 68us/step - loss: 0.0378 - acc: 0.9877 - val_loss: 0.0473 - val_acc: 0.9855\n",
      "Epoch 6/10\n",
      "37800/37800 [==============================] - 3s 67us/step - loss: 0.0326 - acc: 0.9899 - val_loss: 0.0477 - val_acc: 0.9876\n",
      "Epoch 7/10\n",
      "37800/37800 [==============================] - 3s 69us/step - loss: 0.0249 - acc: 0.9923 - val_loss: 0.0488 - val_acc: 0.9869\n",
      "Epoch 8/10\n",
      "37800/37800 [==============================] - 3s 68us/step - loss: 0.0229 - acc: 0.9925 - val_loss: 0.0453 - val_acc: 0.9895\n",
      "Epoch 9/10\n",
      "37800/37800 [==============================] - 3s 67us/step - loss: 0.0219 - acc: 0.9928 - val_loss: 0.0484 - val_acc: 0.9864\n",
      "Epoch 10/10\n",
      "37800/37800 [==============================] - 3s 68us/step - loss: 0.0152 - acc: 0.9954 - val_loss: 0.0472 - val_acc: 0.9862\n",
      "Epoch 00010: early stopping\n",
      "Train on 37800 samples, validate on 4200 samples\n",
      "Epoch 1/10\n",
      "37800/37800 [==============================] - 9s 227us/step - loss: 0.3645 - acc: 0.8881 - val_loss: 0.1094 - val_acc: 0.9662\n",
      "Epoch 2/10\n",
      "37800/37800 [==============================] - 3s 71us/step - loss: 0.0956 - acc: 0.9703 - val_loss: 0.0636 - val_acc: 0.9798\n",
      "Epoch 3/10\n",
      "37800/37800 [==============================] - 3s 70us/step - loss: 0.0638 - acc: 0.9810 - val_loss: 0.0489 - val_acc: 0.9826\n",
      "Epoch 4/10\n",
      "37800/37800 [==============================] - 3s 70us/step - loss: 0.0486 - acc: 0.9846 - val_loss: 0.0454 - val_acc: 0.9867\n",
      "Epoch 5/10\n",
      "37800/37800 [==============================] - 3s 69us/step - loss: 0.0378 - acc: 0.9881 - val_loss: 0.0497 - val_acc: 0.9888\n",
      "Epoch 6/10\n",
      "37800/37800 [==============================] - 3s 68us/step - loss: 0.0294 - acc: 0.9912 - val_loss: 0.0500 - val_acc: 0.9860\n",
      "Epoch 7/10\n",
      "37800/37800 [==============================] - 3s 69us/step - loss: 0.0285 - acc: 0.9906 - val_loss: 0.0515 - val_acc: 0.9855\n",
      "Epoch 00007: early stopping\n",
      "Train on 37800 samples, validate on 4200 samples\n",
      "Epoch 1/10\n",
      "37800/37800 [==============================] - 8s 219us/step - loss: 0.3322 - acc: 0.8958 - val_loss: 0.0906 - val_acc: 0.9721\n",
      "Epoch 2/10\n",
      "37800/37800 [==============================] - 3s 69us/step - loss: 0.0866 - acc: 0.9731 - val_loss: 0.0578 - val_acc: 0.9814\n",
      "Epoch 3/10\n",
      "37800/37800 [==============================] - 3s 69us/step - loss: 0.0591 - acc: 0.9816 - val_loss: 0.0508 - val_acc: 0.9843\n",
      "Epoch 4/10\n",
      "37800/37800 [==============================] - 3s 69us/step - loss: 0.0433 - acc: 0.9860 - val_loss: 0.0456 - val_acc: 0.9864\n",
      "Epoch 5/10\n",
      "37800/37800 [==============================] - 3s 69us/step - loss: 0.0357 - acc: 0.9891 - val_loss: 0.0522 - val_acc: 0.9850\n",
      "Epoch 6/10\n",
      "37800/37800 [==============================] - 3s 67us/step - loss: 0.0301 - acc: 0.9904 - val_loss: 0.0478 - val_acc: 0.9855\n",
      "Epoch 00006: early stopping\n",
      "Train on 37800 samples, validate on 4200 samples\n",
      "Epoch 1/10\n",
      "37800/37800 [==============================] - 8s 223us/step - loss: 0.3392 - acc: 0.8989 - val_loss: 0.0931 - val_acc: 0.9707\n",
      "Epoch 2/10\n",
      "37800/37800 [==============================] - 3s 72us/step - loss: 0.0862 - acc: 0.9735 - val_loss: 0.0606 - val_acc: 0.9800\n",
      "Epoch 3/10\n",
      "37800/37800 [==============================] - 3s 69us/step - loss: 0.0557 - acc: 0.9833 - val_loss: 0.0606 - val_acc: 0.9795\n",
      "Epoch 4/10\n",
      "37800/37800 [==============================] - 3s 70us/step - loss: 0.0466 - acc: 0.9855 - val_loss: 0.0456 - val_acc: 0.9869\n",
      "Epoch 5/10\n",
      "37800/37800 [==============================] - 3s 69us/step - loss: 0.0330 - acc: 0.9894 - val_loss: 0.0430 - val_acc: 0.9857\n",
      "Epoch 6/10\n",
      "37800/37800 [==============================] - 3s 69us/step - loss: 0.0279 - acc: 0.9915 - val_loss: 0.0419 - val_acc: 0.9879\n",
      "Epoch 00006: early stopping\n",
      "Train on 37800 samples, validate on 4200 samples\n",
      "Epoch 1/10\n",
      "37800/37800 [==============================] - 8s 218us/step - loss: 0.3753 - acc: 0.8851 - val_loss: 0.1127 - val_acc: 0.9624\n",
      "Epoch 2/10\n",
      "37800/37800 [==============================] - 3s 71us/step - loss: 0.0926 - acc: 0.9723 - val_loss: 0.0691 - val_acc: 0.9790\n",
      "Epoch 3/10\n",
      "37800/37800 [==============================] - 3s 70us/step - loss: 0.0585 - acc: 0.9819 - val_loss: 0.0511 - val_acc: 0.9833\n",
      "Epoch 4/10\n",
      "37800/37800 [==============================] - 3s 69us/step - loss: 0.0486 - acc: 0.9846 - val_loss: 0.0493 - val_acc: 0.9848\n",
      "Epoch 5/10\n",
      "37800/37800 [==============================] - 3s 70us/step - loss: 0.0363 - acc: 0.9883 - val_loss: 0.0466 - val_acc: 0.9871\n",
      "Epoch 6/10\n",
      "37800/37800 [==============================] - 3s 71us/step - loss: 0.0305 - acc: 0.9901 - val_loss: 0.0468 - val_acc: 0.9874\n",
      "Epoch 7/10\n",
      "37800/37800 [==============================] - 3s 68us/step - loss: 0.0267 - acc: 0.9916 - val_loss: 0.0548 - val_acc: 0.9864\n",
      "Epoch 00007: early stopping\n",
      "Train on 37800 samples, validate on 4200 samples\n",
      "Epoch 1/10\n",
      "37800/37800 [==============================] - 9s 225us/step - loss: 0.3365 - acc: 0.8981 - val_loss: 0.0964 - val_acc: 0.9724\n",
      "Epoch 2/10\n",
      "37800/37800 [==============================] - 3s 70us/step - loss: 0.0910 - acc: 0.9725 - val_loss: 0.0634 - val_acc: 0.9819\n",
      "Epoch 3/10\n",
      "37800/37800 [==============================] - 3s 70us/step - loss: 0.0601 - acc: 0.9816 - val_loss: 0.0506 - val_acc: 0.9848\n",
      "Epoch 4/10\n",
      "37800/37800 [==============================] - 3s 70us/step - loss: 0.0434 - acc: 0.9862 - val_loss: 0.0518 - val_acc: 0.9840\n",
      "Epoch 5/10\n",
      "37800/37800 [==============================] - 3s 70us/step - loss: 0.0367 - acc: 0.9881 - val_loss: 0.0480 - val_acc: 0.9855\n",
      "Epoch 00005: early stopping\n",
      "Train on 37800 samples, validate on 4200 samples\n",
      "Epoch 1/10\n",
      "37800/37800 [==============================] - 9s 237us/step - loss: 0.3743 - acc: 0.8825 - val_loss: 0.0925 - val_acc: 0.9700\n",
      "Epoch 2/10\n",
      "37800/37800 [==============================] - 3s 70us/step - loss: 0.0893 - acc: 0.9724 - val_loss: 0.0644 - val_acc: 0.9807\n",
      "Epoch 3/10\n",
      "37800/37800 [==============================] - 3s 70us/step - loss: 0.0604 - acc: 0.9823 - val_loss: 0.0581 - val_acc: 0.9833\n",
      "Epoch 4/10\n",
      "37800/37800 [==============================] - 3s 69us/step - loss: 0.0441 - acc: 0.9863 - val_loss: 0.0486 - val_acc: 0.9867\n",
      "Epoch 5/10\n",
      "37800/37800 [==============================] - 3s 70us/step - loss: 0.0360 - acc: 0.9881 - val_loss: 0.0469 - val_acc: 0.9867\n",
      "Epoch 6/10\n",
      "37800/37800 [==============================] - 3s 69us/step - loss: 0.0295 - acc: 0.9906 - val_loss: 0.0476 - val_acc: 0.9860\n",
      "Epoch 00006: early stopping\n",
      "Train on 37800 samples, validate on 4200 samples\n",
      "Epoch 1/10\n"
     ]
    },
    {
     "name": "stdout",
     "output_type": "stream",
     "text": [
      "37800/37800 [==============================] - 9s 241us/step - loss: 0.3384 - acc: 0.8944 - val_loss: 0.1029 - val_acc: 0.9669\n",
      "Epoch 2/10\n",
      "37800/37800 [==============================] - 3s 71us/step - loss: 0.0880 - acc: 0.9735 - val_loss: 0.0619 - val_acc: 0.9793\n",
      "Epoch 3/10\n",
      "37800/37800 [==============================] - 3s 70us/step - loss: 0.0587 - acc: 0.9815 - val_loss: 0.0601 - val_acc: 0.9810\n",
      "Epoch 4/10\n",
      "37800/37800 [==============================] - 3s 70us/step - loss: 0.0462 - acc: 0.9863 - val_loss: 0.0421 - val_acc: 0.9871\n",
      "Epoch 5/10\n",
      "37800/37800 [==============================] - 3s 69us/step - loss: 0.0337 - acc: 0.9892 - val_loss: 0.0450 - val_acc: 0.9867\n",
      "Epoch 6/10\n",
      "37800/37800 [==============================] - 3s 70us/step - loss: 0.0290 - acc: 0.9906 - val_loss: 0.0480 - val_acc: 0.9871\n",
      "Epoch 00006: early stopping\n",
      "Train on 37800 samples, validate on 4200 samples\n",
      "Epoch 1/10\n",
      "37800/37800 [==============================] - 9s 242us/step - loss: 0.3499 - acc: 0.8922 - val_loss: 0.0938 - val_acc: 0.9702\n",
      "Epoch 2/10\n",
      "37800/37800 [==============================] - 3s 70us/step - loss: 0.0893 - acc: 0.9737 - val_loss: 0.0562 - val_acc: 0.9843\n",
      "Epoch 3/10\n",
      "37800/37800 [==============================] - 3s 71us/step - loss: 0.0596 - acc: 0.9813 - val_loss: 0.0522 - val_acc: 0.9857\n",
      "Epoch 4/10\n",
      "37800/37800 [==============================] - 3s 71us/step - loss: 0.0459 - acc: 0.9860 - val_loss: 0.0415 - val_acc: 0.9857\n",
      "Epoch 5/10\n",
      "37800/37800 [==============================] - 3s 69us/step - loss: 0.0356 - acc: 0.9888 - val_loss: 0.0410 - val_acc: 0.9869\n",
      "Epoch 6/10\n",
      "37800/37800 [==============================] - 3s 71us/step - loss: 0.0283 - acc: 0.9908 - val_loss: 0.0440 - val_acc: 0.9874\n",
      "Epoch 7/10\n",
      "37800/37800 [==============================] - 3s 70us/step - loss: 0.0261 - acc: 0.9921 - val_loss: 0.0412 - val_acc: 0.9876\n",
      "Epoch 00007: early stopping\n",
      "Train on 37800 samples, validate on 4200 samples\n",
      "Epoch 1/10\n",
      "37800/37800 [==============================] - 9s 246us/step - loss: 0.3589 - acc: 0.8899 - val_loss: 0.0986 - val_acc: 0.9705\n",
      "Epoch 2/10\n",
      "37800/37800 [==============================] - 3s 71us/step - loss: 0.0869 - acc: 0.9731 - val_loss: 0.0638 - val_acc: 0.9802\n",
      "Epoch 3/10\n",
      "37800/37800 [==============================] - 3s 71us/step - loss: 0.0588 - acc: 0.9823 - val_loss: 0.0529 - val_acc: 0.9838\n",
      "Epoch 4/10\n",
      "37800/37800 [==============================] - 3s 73us/step - loss: 0.0454 - acc: 0.9859 - val_loss: 0.0460 - val_acc: 0.9857\n",
      "Epoch 5/10\n",
      "37800/37800 [==============================] - 3s 70us/step - loss: 0.0348 - acc: 0.9896 - val_loss: 0.0457 - val_acc: 0.9876\n",
      "Epoch 6/10\n",
      "37800/37800 [==============================] - 3s 70us/step - loss: 0.0300 - acc: 0.9897 - val_loss: 0.0476 - val_acc: 0.9881\n",
      "Epoch 7/10\n",
      "37800/37800 [==============================] - 3s 72us/step - loss: 0.0266 - acc: 0.9916 - val_loss: 0.0465 - val_acc: 0.9862\n",
      "Epoch 00007: early stopping\n",
      "Train on 37800 samples, validate on 4200 samples\n",
      "Epoch 1/10\n",
      "37800/37800 [==============================] - 9s 232us/step - loss: 0.3613 - acc: 0.8888 - val_loss: 0.0958 - val_acc: 0.9674\n",
      "Epoch 2/10\n",
      "37800/37800 [==============================] - 3s 72us/step - loss: 0.0923 - acc: 0.9712 - val_loss: 0.0736 - val_acc: 0.9779\n",
      "Epoch 3/10\n",
      "37800/37800 [==============================] - 3s 71us/step - loss: 0.0632 - acc: 0.9815 - val_loss: 0.0530 - val_acc: 0.9831\n",
      "Epoch 4/10\n",
      "37800/37800 [==============================] - 3s 72us/step - loss: 0.0506 - acc: 0.9836 - val_loss: 0.0459 - val_acc: 0.9879\n",
      "Epoch 5/10\n",
      "37800/37800 [==============================] - 3s 71us/step - loss: 0.0380 - acc: 0.9878 - val_loss: 0.0492 - val_acc: 0.9852\n",
      "Epoch 6/10\n",
      "37800/37800 [==============================] - 3s 70us/step - loss: 0.0321 - acc: 0.9901 - val_loss: 0.0409 - val_acc: 0.9879\n",
      "Epoch 00006: early stopping\n",
      "Train on 37800 samples, validate on 4200 samples\n",
      "Epoch 1/10\n",
      "37800/37800 [==============================] - 9s 247us/step - loss: 0.3574 - acc: 0.8939 - val_loss: 0.1041 - val_acc: 0.9693\n",
      "Epoch 2/10\n",
      "37800/37800 [==============================] - 3s 71us/step - loss: 0.0927 - acc: 0.9710 - val_loss: 0.0749 - val_acc: 0.9781\n",
      "Epoch 3/10\n",
      "37800/37800 [==============================] - 3s 69us/step - loss: 0.0606 - acc: 0.9807 - val_loss: 0.0593 - val_acc: 0.9843\n",
      "Epoch 4/10\n",
      "37800/37800 [==============================] - 3s 71us/step - loss: 0.0473 - acc: 0.9852 - val_loss: 0.0430 - val_acc: 0.9881\n",
      "Epoch 5/10\n",
      "37800/37800 [==============================] - 3s 71us/step - loss: 0.0378 - acc: 0.9886 - val_loss: 0.0486 - val_acc: 0.9874\n",
      "Epoch 6/10\n",
      "37800/37800 [==============================] - 3s 71us/step - loss: 0.0315 - acc: 0.9896 - val_loss: 0.0438 - val_acc: 0.9871\n",
      "Epoch 00006: early stopping\n",
      "Train on 37800 samples, validate on 4200 samples\n",
      "Epoch 1/10\n",
      "37800/37800 [==============================] - 10s 252us/step - loss: 0.3475 - acc: 0.8969 - val_loss: 0.1000 - val_acc: 0.9695\n",
      "Epoch 2/10\n",
      "37800/37800 [==============================] - 3s 74us/step - loss: 0.0906 - acc: 0.9731 - val_loss: 0.0616 - val_acc: 0.9807\n",
      "Epoch 3/10\n",
      "37800/37800 [==============================] - 3s 72us/step - loss: 0.0606 - acc: 0.9817 - val_loss: 0.0603 - val_acc: 0.9814\n",
      "Epoch 4/10\n",
      "37800/37800 [==============================] - 3s 71us/step - loss: 0.0481 - acc: 0.9852 - val_loss: 0.0498 - val_acc: 0.9850\n",
      "Epoch 5/10\n",
      "37800/37800 [==============================] - 3s 73us/step - loss: 0.0366 - acc: 0.9887 - val_loss: 0.0527 - val_acc: 0.9848\n",
      "Epoch 6/10\n",
      "37800/37800 [==============================] - 3s 71us/step - loss: 0.0293 - acc: 0.9906 - val_loss: 0.0453 - val_acc: 0.9876\n",
      "Epoch 7/10\n",
      "37800/37800 [==============================] - 3s 70us/step - loss: 0.0265 - acc: 0.9916 - val_loss: 0.0482 - val_acc: 0.9890\n",
      "Epoch 8/10\n",
      "37800/37800 [==============================] - 3s 69us/step - loss: 0.0204 - acc: 0.9929 - val_loss: 0.0570 - val_acc: 0.9874\n",
      "Epoch 9/10\n",
      "37800/37800 [==============================] - 3s 69us/step - loss: 0.0201 - acc: 0.9934 - val_loss: 0.0520 - val_acc: 0.9869\n",
      "Epoch 00009: early stopping\n",
      "Train on 37800 samples, validate on 4200 samples\n",
      "Epoch 1/10\n",
      "37800/37800 [==============================] - 9s 242us/step - loss: 0.3603 - acc: 0.8892 - val_loss: 0.0979 - val_acc: 0.9702\n",
      "Epoch 2/10\n",
      "37800/37800 [==============================] - 3s 72us/step - loss: 0.0874 - acc: 0.9727 - val_loss: 0.0632 - val_acc: 0.9812\n",
      "Epoch 3/10\n",
      "37800/37800 [==============================] - 3s 72us/step - loss: 0.0573 - acc: 0.9827 - val_loss: 0.0605 - val_acc: 0.9836\n",
      "Epoch 4/10\n",
      "37800/37800 [==============================] - 3s 72us/step - loss: 0.0441 - acc: 0.9864 - val_loss: 0.0492 - val_acc: 0.9852\n",
      "Epoch 5/10\n",
      "37800/37800 [==============================] - 3s 71us/step - loss: 0.0355 - acc: 0.9889 - val_loss: 0.0434 - val_acc: 0.9879\n",
      "Epoch 6/10\n",
      "37800/37800 [==============================] - 3s 71us/step - loss: 0.0284 - acc: 0.9915 - val_loss: 0.0547 - val_acc: 0.9860\n",
      "Epoch 7/10\n",
      "37800/37800 [==============================] - 3s 71us/step - loss: 0.0250 - acc: 0.9923 - val_loss: 0.0466 - val_acc: 0.9874\n",
      "Epoch 00007: early stopping\n",
      "Train on 37800 samples, validate on 4200 samples\n",
      "Epoch 1/10\n",
      "37800/37800 [==============================] - 9s 234us/step - loss: 0.3411 - acc: 0.8911 - val_loss: 0.1085 - val_acc: 0.9667\n",
      "Epoch 2/10\n",
      "37800/37800 [==============================] - 3s 73us/step - loss: 0.0937 - acc: 0.9716 - val_loss: 0.0740 - val_acc: 0.9762\n",
      "Epoch 3/10\n",
      "37800/37800 [==============================] - 3s 73us/step - loss: 0.0641 - acc: 0.9798 - val_loss: 0.0566 - val_acc: 0.9819\n",
      "Epoch 4/10\n",
      "37800/37800 [==============================] - 3s 71us/step - loss: 0.0482 - acc: 0.9847 - val_loss: 0.0462 - val_acc: 0.9857\n",
      "Epoch 5/10\n",
      "37800/37800 [==============================] - 3s 72us/step - loss: 0.0384 - acc: 0.9873 - val_loss: 0.0443 - val_acc: 0.9883\n",
      "Epoch 6/10\n",
      "37800/37800 [==============================] - 3s 70us/step - loss: 0.0294 - acc: 0.9908 - val_loss: 0.0494 - val_acc: 0.9845\n",
      "Epoch 7/10\n",
      "37800/37800 [==============================] - 3s 73us/step - loss: 0.0251 - acc: 0.9921 - val_loss: 0.0424 - val_acc: 0.9881\n",
      "Epoch 00007: early stopping\n",
      "Train on 37800 samples, validate on 4200 samples\n",
      "Epoch 1/10\n"
     ]
    },
    {
     "name": "stdout",
     "output_type": "stream",
     "text": [
      "37800/37800 [==============================] - 10s 260us/step - loss: 0.3600 - acc: 0.8910 - val_loss: 0.0969 - val_acc: 0.9671\n",
      "Epoch 2/10\n",
      "37800/37800 [==============================] - 3s 73us/step - loss: 0.0862 - acc: 0.9738 - val_loss: 0.0611 - val_acc: 0.9807\n",
      "Epoch 3/10\n",
      "37800/37800 [==============================] - 3s 73us/step - loss: 0.0573 - acc: 0.9821 - val_loss: 0.0591 - val_acc: 0.9829\n",
      "Epoch 4/10\n",
      "37800/37800 [==============================] - 3s 73us/step - loss: 0.0449 - acc: 0.9858 - val_loss: 0.0498 - val_acc: 0.9876\n",
      "Epoch 5/10\n",
      "37800/37800 [==============================] - 3s 72us/step - loss: 0.0335 - acc: 0.9897 - val_loss: 0.0441 - val_acc: 0.9871\n",
      "Epoch 6/10\n",
      "37800/37800 [==============================] - 3s 72us/step - loss: 0.0295 - acc: 0.9908 - val_loss: 0.0433 - val_acc: 0.9879\n",
      "Epoch 00006: early stopping\n",
      "Train on 37800 samples, validate on 4200 samples\n",
      "Epoch 1/10\n",
      "37800/37800 [==============================] - 10s 257us/step - loss: 0.3969 - acc: 0.8763 - val_loss: 0.1025 - val_acc: 0.9667\n",
      "Epoch 2/10\n",
      "37800/37800 [==============================] - 3s 74us/step - loss: 0.0922 - acc: 0.9708 - val_loss: 0.0684 - val_acc: 0.9779\n",
      "Epoch 3/10\n",
      "37800/37800 [==============================] - 3s 72us/step - loss: 0.0619 - acc: 0.9811 - val_loss: 0.0590 - val_acc: 0.9838\n",
      "Epoch 4/10\n",
      "37800/37800 [==============================] - 3s 71us/step - loss: 0.0478 - acc: 0.9848 - val_loss: 0.0549 - val_acc: 0.9836\n",
      "Epoch 5/10\n",
      "37800/37800 [==============================] - 3s 73us/step - loss: 0.0393 - acc: 0.9878 - val_loss: 0.0449 - val_acc: 0.9881\n",
      "Epoch 6/10\n",
      "37800/37800 [==============================] - 3s 73us/step - loss: 0.0318 - acc: 0.9904 - val_loss: 0.0474 - val_acc: 0.9850\n",
      "Epoch 7/10\n",
      "37800/37800 [==============================] - 3s 71us/step - loss: 0.0258 - acc: 0.9917 - val_loss: 0.0428 - val_acc: 0.9879\n",
      "Epoch 00007: early stopping\n",
      "Train on 37800 samples, validate on 4200 samples\n",
      "Epoch 1/10\n",
      "37800/37800 [==============================] - 9s 239us/step - loss: 0.3469 - acc: 0.8932 - val_loss: 0.1083 - val_acc: 0.9669\n",
      "Epoch 2/10\n",
      "37800/37800 [==============================] - 3s 74us/step - loss: 0.0973 - acc: 0.9702 - val_loss: 0.0598 - val_acc: 0.9812\n",
      "Epoch 3/10\n",
      "37800/37800 [==============================] - 3s 73us/step - loss: 0.0646 - acc: 0.9811 - val_loss: 0.0496 - val_acc: 0.9845\n",
      "Epoch 4/10\n",
      "37800/37800 [==============================] - 3s 72us/step - loss: 0.0475 - acc: 0.9854 - val_loss: 0.0482 - val_acc: 0.9864\n",
      "Epoch 5/10\n",
      "37800/37800 [==============================] - 3s 73us/step - loss: 0.0371 - acc: 0.9888 - val_loss: 0.0515 - val_acc: 0.9864\n",
      "Epoch 6/10\n",
      "37800/37800 [==============================] - 3s 72us/step - loss: 0.0305 - acc: 0.9902 - val_loss: 0.0398 - val_acc: 0.9879\n",
      "Epoch 7/10\n",
      "37800/37800 [==============================] - 3s 73us/step - loss: 0.0261 - acc: 0.9923 - val_loss: 0.0520 - val_acc: 0.9857\n",
      "Epoch 8/10\n",
      "37800/37800 [==============================] - 3s 72us/step - loss: 0.0228 - acc: 0.9929 - val_loss: 0.0411 - val_acc: 0.9895\n",
      "Epoch 9/10\n",
      "37800/37800 [==============================] - 3s 72us/step - loss: 0.0195 - acc: 0.9938 - val_loss: 0.0489 - val_acc: 0.9874\n",
      "Epoch 10/10\n",
      "37800/37800 [==============================] - 3s 72us/step - loss: 0.0198 - acc: 0.9938 - val_loss: 0.0511 - val_acc: 0.9852\n",
      "Epoch 00010: early stopping\n",
      "Train on 37800 samples, validate on 4200 samples\n",
      "Epoch 1/10\n",
      "37800/37800 [==============================] - 10s 262us/step - loss: 0.3696 - acc: 0.8881 - val_loss: 0.0958 - val_acc: 0.9714\n",
      "Epoch 2/10\n",
      "37800/37800 [==============================] - 3s 71us/step - loss: 0.0934 - acc: 0.9724 - val_loss: 0.0624 - val_acc: 0.9810\n",
      "Epoch 3/10\n",
      "37800/37800 [==============================] - 3s 74us/step - loss: 0.0622 - acc: 0.9814 - val_loss: 0.0551 - val_acc: 0.9848\n",
      "Epoch 4/10\n",
      "37800/37800 [==============================] - 3s 73us/step - loss: 0.0475 - acc: 0.9854 - val_loss: 0.0463 - val_acc: 0.9850\n",
      "Epoch 5/10\n",
      "37800/37800 [==============================] - 3s 74us/step - loss: 0.0374 - acc: 0.9886 - val_loss: 0.0573 - val_acc: 0.9833\n",
      "Epoch 00005: early stopping\n",
      "Train on 37800 samples, validate on 4200 samples\n",
      "Epoch 1/10\n",
      "37800/37800 [==============================] - 10s 267us/step - loss: 0.3508 - acc: 0.8908 - val_loss: 0.0867 - val_acc: 0.9740\n",
      "Epoch 2/10\n",
      "37800/37800 [==============================] - 3s 73us/step - loss: 0.0877 - acc: 0.9719 - val_loss: 0.0694 - val_acc: 0.9790\n",
      "Epoch 3/10\n",
      "37800/37800 [==============================] - 3s 73us/step - loss: 0.0608 - acc: 0.9812 - val_loss: 0.0568 - val_acc: 0.9824\n",
      "Epoch 4/10\n",
      "37800/37800 [==============================] - 3s 74us/step - loss: 0.0473 - acc: 0.9860 - val_loss: 0.0514 - val_acc: 0.9862\n",
      "Epoch 5/10\n",
      "37800/37800 [==============================] - 3s 72us/step - loss: 0.0352 - acc: 0.9890 - val_loss: 0.0397 - val_acc: 0.9898\n",
      "Epoch 6/10\n",
      "37800/37800 [==============================] - 3s 73us/step - loss: 0.0288 - acc: 0.9911 - val_loss: 0.0509 - val_acc: 0.9869\n",
      "Epoch 7/10\n",
      "37800/37800 [==============================] - 3s 71us/step - loss: 0.0245 - acc: 0.9926 - val_loss: 0.0498 - val_acc: 0.9879\n",
      "Epoch 00007: early stopping\n",
      "Train on 37800 samples, validate on 4200 samples\n",
      "Epoch 1/10\n",
      "37800/37800 [==============================] - 10s 266us/step - loss: 0.3472 - acc: 0.8926 - val_loss: 0.1085 - val_acc: 0.9688\n",
      "Epoch 2/10\n",
      "37800/37800 [==============================] - 3s 73us/step - loss: 0.0906 - acc: 0.9727 - val_loss: 0.0684 - val_acc: 0.9788\n",
      "Epoch 3/10\n",
      "37800/37800 [==============================] - 3s 74us/step - loss: 0.0613 - acc: 0.9806 - val_loss: 0.0553 - val_acc: 0.9848\n",
      "Epoch 4/10\n",
      "37800/37800 [==============================] - 3s 74us/step - loss: 0.0477 - acc: 0.9849 - val_loss: 0.0546 - val_acc: 0.9836\n",
      "Epoch 5/10\n",
      "37800/37800 [==============================] - 3s 72us/step - loss: 0.0359 - acc: 0.9889 - val_loss: 0.0471 - val_acc: 0.9867\n",
      "Epoch 6/10\n",
      "37800/37800 [==============================] - 3s 72us/step - loss: 0.0322 - acc: 0.9896 - val_loss: 0.0479 - val_acc: 0.9874\n",
      "Epoch 7/10\n",
      "37800/37800 [==============================] - 3s 72us/step - loss: 0.0268 - acc: 0.9914 - val_loss: 0.0455 - val_acc: 0.9886\n",
      "Epoch 8/10\n",
      "37800/37800 [==============================] - 3s 71us/step - loss: 0.0233 - acc: 0.9925 - val_loss: 0.0519 - val_acc: 0.9850\n",
      "Epoch 9/10\n",
      "37800/37800 [==============================] - 3s 73us/step - loss: 0.0185 - acc: 0.9940 - val_loss: 0.0492 - val_acc: 0.9864\n",
      "Epoch 00009: early stopping\n",
      "Train on 37800 samples, validate on 4200 samples\n",
      "Epoch 1/10\n",
      "37800/37800 [==============================] - 10s 268us/step - loss: 0.3569 - acc: 0.8894 - val_loss: 0.1079 - val_acc: 0.9643\n",
      "Epoch 2/10\n",
      "37800/37800 [==============================] - 3s 73us/step - loss: 0.0892 - acc: 0.9730 - val_loss: 0.0607 - val_acc: 0.9838\n",
      "Epoch 3/10\n",
      "37800/37800 [==============================] - 3s 73us/step - loss: 0.0595 - acc: 0.9811 - val_loss: 0.0508 - val_acc: 0.9855\n",
      "Epoch 4/10\n",
      "37800/37800 [==============================] - 3s 73us/step - loss: 0.0450 - acc: 0.9858 - val_loss: 0.0423 - val_acc: 0.9879\n",
      "Epoch 5/10\n",
      "37800/37800 [==============================] - 3s 74us/step - loss: 0.0343 - acc: 0.9896 - val_loss: 0.0479 - val_acc: 0.9876\n",
      "Epoch 6/10\n",
      "37800/37800 [==============================] - 3s 74us/step - loss: 0.0287 - acc: 0.9910 - val_loss: 0.0442 - val_acc: 0.9888\n",
      "Epoch 00006: early stopping\n",
      "Train on 37800 samples, validate on 4200 samples\n",
      "Epoch 1/10\n",
      "37800/37800 [==============================] - 9s 249us/step - loss: 0.3742 - acc: 0.8865 - val_loss: 0.0935 - val_acc: 0.9714\n",
      "Epoch 2/10\n",
      "37800/37800 [==============================] - 3s 74us/step - loss: 0.0936 - acc: 0.9717 - val_loss: 0.0658 - val_acc: 0.9786\n",
      "Epoch 3/10\n",
      "37800/37800 [==============================] - 3s 73us/step - loss: 0.0630 - acc: 0.9804 - val_loss: 0.0577 - val_acc: 0.9819\n",
      "Epoch 4/10\n",
      "37800/37800 [==============================] - 3s 73us/step - loss: 0.0474 - acc: 0.9848 - val_loss: 0.0478 - val_acc: 0.9848\n",
      "Epoch 5/10\n",
      "37800/37800 [==============================] - 3s 73us/step - loss: 0.0389 - acc: 0.9880 - val_loss: 0.0444 - val_acc: 0.9857\n",
      "Epoch 6/10\n",
      "37800/37800 [==============================] - 3s 73us/step - loss: 0.0326 - acc: 0.9899 - val_loss: 0.0529 - val_acc: 0.9855\n"
     ]
    },
    {
     "name": "stdout",
     "output_type": "stream",
     "text": [
      "Epoch 00006: early stopping\n",
      "Train on 37800 samples, validate on 4200 samples\n",
      "Epoch 1/10\n",
      "37800/37800 [==============================] - 10s 274us/step - loss: 0.3346 - acc: 0.8945 - val_loss: 0.0962 - val_acc: 0.9705\n",
      "Epoch 2/10\n",
      "37800/37800 [==============================] - 3s 75us/step - loss: 0.0929 - acc: 0.9719 - val_loss: 0.0664 - val_acc: 0.9788\n",
      "Epoch 3/10\n",
      "37800/37800 [==============================] - 3s 74us/step - loss: 0.0647 - acc: 0.9799 - val_loss: 0.0573 - val_acc: 0.9814\n",
      "Epoch 4/10\n",
      "37800/37800 [==============================] - 3s 73us/step - loss: 0.0493 - acc: 0.9848 - val_loss: 0.0522 - val_acc: 0.9855\n",
      "Epoch 5/10\n",
      "37800/37800 [==============================] - 3s 73us/step - loss: 0.0390 - acc: 0.9878 - val_loss: 0.0443 - val_acc: 0.9881\n",
      "Epoch 6/10\n",
      "37800/37800 [==============================] - 3s 73us/step - loss: 0.0313 - acc: 0.9902 - val_loss: 0.0506 - val_acc: 0.9874\n",
      "Epoch 7/10\n",
      "37800/37800 [==============================] - 3s 73us/step - loss: 0.0289 - acc: 0.9910 - val_loss: 0.0449 - val_acc: 0.9871\n",
      "Epoch 00007: early stopping\n",
      "Train on 37800 samples, validate on 4200 samples\n",
      "Epoch 1/10\n",
      "37800/37800 [==============================] - 10s 277us/step - loss: 0.3665 - acc: 0.8887 - val_loss: 0.1055 - val_acc: 0.9669\n",
      "Epoch 2/10\n",
      "37800/37800 [==============================] - 3s 74us/step - loss: 0.0923 - acc: 0.9720 - val_loss: 0.0717 - val_acc: 0.9774\n",
      "Epoch 3/10\n",
      "37800/37800 [==============================] - 3s 73us/step - loss: 0.0620 - acc: 0.9810 - val_loss: 0.0627 - val_acc: 0.9819\n",
      "Epoch 4/10\n",
      "37800/37800 [==============================] - 3s 73us/step - loss: 0.0483 - acc: 0.9854 - val_loss: 0.0505 - val_acc: 0.9869\n",
      "Epoch 5/10\n",
      "37800/37800 [==============================] - 3s 75us/step - loss: 0.0383 - acc: 0.9880 - val_loss: 0.0443 - val_acc: 0.9876\n",
      "Epoch 6/10\n",
      "37800/37800 [==============================] - 3s 73us/step - loss: 0.0308 - acc: 0.9907 - val_loss: 0.0474 - val_acc: 0.9874\n",
      "Epoch 00006: early stopping\n",
      "Train on 37800 samples, validate on 4200 samples\n",
      "Epoch 1/10\n",
      "37800/37800 [==============================] - 10s 277us/step - loss: 0.3436 - acc: 0.8922 - val_loss: 0.1044 - val_acc: 0.9674\n",
      "Epoch 2/10\n",
      "37800/37800 [==============================] - 3s 74us/step - loss: 0.0924 - acc: 0.9720 - val_loss: 0.0722 - val_acc: 0.9779\n",
      "Epoch 3/10\n",
      "37800/37800 [==============================] - 3s 75us/step - loss: 0.0610 - acc: 0.9817 - val_loss: 0.0563 - val_acc: 0.9836\n",
      "Epoch 4/10\n",
      "37800/37800 [==============================] - 3s 74us/step - loss: 0.0465 - acc: 0.9856 - val_loss: 0.0530 - val_acc: 0.9857\n",
      "Epoch 5/10\n",
      "37800/37800 [==============================] - 3s 73us/step - loss: 0.0356 - acc: 0.9891 - val_loss: 0.0471 - val_acc: 0.9857\n",
      "Epoch 6/10\n",
      "37800/37800 [==============================] - 3s 74us/step - loss: 0.0307 - acc: 0.9896 - val_loss: 0.0412 - val_acc: 0.9900\n",
      "Epoch 7/10\n",
      "37800/37800 [==============================] - 3s 74us/step - loss: 0.0256 - acc: 0.9919 - val_loss: 0.0469 - val_acc: 0.9898\n",
      "Epoch 8/10\n",
      "37800/37800 [==============================] - 3s 74us/step - loss: 0.0215 - acc: 0.9935 - val_loss: 0.0497 - val_acc: 0.9876\n",
      "Epoch 00008: early stopping\n",
      "Train on 37800 samples, validate on 4200 samples\n",
      "Epoch 1/10\n",
      "37800/37800 [==============================] - 11s 284us/step - loss: 0.3446 - acc: 0.8920 - val_loss: 0.0920 - val_acc: 0.9707\n",
      "Epoch 2/10\n",
      "37800/37800 [==============================] - 3s 72us/step - loss: 0.0958 - acc: 0.9705 - val_loss: 0.0684 - val_acc: 0.9800\n",
      "Epoch 3/10\n",
      "37800/37800 [==============================] - 3s 74us/step - loss: 0.0650 - acc: 0.9799 - val_loss: 0.0586 - val_acc: 0.9819\n",
      "Epoch 4/10\n",
      "37800/37800 [==============================] - 3s 74us/step - loss: 0.0494 - acc: 0.9848 - val_loss: 0.0472 - val_acc: 0.9867\n",
      "Epoch 5/10\n",
      "37800/37800 [==============================] - 3s 75us/step - loss: 0.0393 - acc: 0.9874 - val_loss: 0.0444 - val_acc: 0.9867\n",
      "Epoch 6/10\n",
      "37800/37800 [==============================] - 3s 73us/step - loss: 0.0296 - acc: 0.9907 - val_loss: 0.0521 - val_acc: 0.9860\n",
      "Epoch 00006: early stopping\n",
      "Train on 37800 samples, validate on 4200 samples\n",
      "Epoch 1/10\n",
      "37800/37800 [==============================] - 10s 254us/step - loss: 0.3395 - acc: 0.8942 - val_loss: 0.0999 - val_acc: 0.9674\n",
      "Epoch 2/10\n",
      "37800/37800 [==============================] - 3s 75us/step - loss: 0.0953 - acc: 0.9700 - val_loss: 0.0719 - val_acc: 0.9769\n",
      "Epoch 3/10\n",
      "37800/37800 [==============================] - 3s 75us/step - loss: 0.0622 - acc: 0.9803 - val_loss: 0.0457 - val_acc: 0.9860\n",
      "Epoch 4/10\n",
      "37800/37800 [==============================] - 3s 75us/step - loss: 0.0470 - acc: 0.9857 - val_loss: 0.0396 - val_acc: 0.9867\n",
      "Epoch 5/10\n",
      "37800/37800 [==============================] - 3s 74us/step - loss: 0.0377 - acc: 0.9884 - val_loss: 0.0490 - val_acc: 0.9852\n",
      "Epoch 00005: early stopping\n",
      "Train on 37800 samples, validate on 4200 samples\n",
      "Epoch 1/10\n",
      "37800/37800 [==============================] - 11s 283us/step - loss: 0.3375 - acc: 0.8959 - val_loss: 0.0945 - val_acc: 0.9681\n",
      "Epoch 2/10\n",
      "37800/37800 [==============================] - 3s 74us/step - loss: 0.0854 - acc: 0.9747 - val_loss: 0.0589 - val_acc: 0.9826\n",
      "Epoch 3/10\n",
      "37800/37800 [==============================] - 3s 73us/step - loss: 0.0579 - acc: 0.9821 - val_loss: 0.0514 - val_acc: 0.9833\n",
      "Epoch 4/10\n",
      "37800/37800 [==============================] - 3s 74us/step - loss: 0.0426 - acc: 0.9867 - val_loss: 0.0403 - val_acc: 0.9886\n",
      "Epoch 5/10\n",
      "37800/37800 [==============================] - 3s 73us/step - loss: 0.0363 - acc: 0.9887 - val_loss: 0.0495 - val_acc: 0.9845\n",
      "Epoch 6/10\n",
      "37800/37800 [==============================] - 3s 74us/step - loss: 0.0285 - acc: 0.9909 - val_loss: 0.0461 - val_acc: 0.9857\n",
      "Epoch 00006: early stopping\n",
      "Train on 37800 samples, validate on 4200 samples\n",
      "Epoch 1/10\n",
      "37800/37800 [==============================] - 10s 256us/step - loss: 0.3506 - acc: 0.8960 - val_loss: 0.1026 - val_acc: 0.9688\n",
      "Epoch 2/10\n",
      "37800/37800 [==============================] - 3s 75us/step - loss: 0.0858 - acc: 0.9739 - val_loss: 0.0617 - val_acc: 0.9831\n",
      "Epoch 3/10\n",
      "37800/37800 [==============================] - 3s 74us/step - loss: 0.0570 - acc: 0.9824 - val_loss: 0.0502 - val_acc: 0.9848\n",
      "Epoch 4/10\n",
      "37800/37800 [==============================] - 3s 75us/step - loss: 0.0428 - acc: 0.9862 - val_loss: 0.0398 - val_acc: 0.9881\n",
      "Epoch 5/10\n",
      "37800/37800 [==============================] - 3s 75us/step - loss: 0.0356 - acc: 0.9894 - val_loss: 0.0432 - val_acc: 0.9869\n",
      "Epoch 6/10\n",
      "37800/37800 [==============================] - 3s 74us/step - loss: 0.0301 - acc: 0.9911 - val_loss: 0.0407 - val_acc: 0.9881\n",
      "Epoch 00006: early stopping\n",
      "Train on 37800 samples, validate on 4200 samples\n",
      "Epoch 1/10\n",
      "37800/37800 [==============================] - 10s 262us/step - loss: 0.3497 - acc: 0.8926 - val_loss: 0.0974 - val_acc: 0.9662\n",
      "Epoch 2/10\n",
      "37800/37800 [==============================] - 3s 76us/step - loss: 0.0881 - acc: 0.9734 - val_loss: 0.0580 - val_acc: 0.9817\n",
      "Epoch 3/10\n",
      "37800/37800 [==============================] - 3s 73us/step - loss: 0.0582 - acc: 0.9818 - val_loss: 0.0558 - val_acc: 0.9831\n",
      "Epoch 4/10\n",
      "37800/37800 [==============================] - 3s 75us/step - loss: 0.0452 - acc: 0.9851 - val_loss: 0.0542 - val_acc: 0.9843\n",
      "Epoch 5/10\n",
      "37800/37800 [==============================] - 3s 73us/step - loss: 0.0357 - acc: 0.9893 - val_loss: 0.0546 - val_acc: 0.9848\n",
      "Epoch 6/10\n",
      "37800/37800 [==============================] - 3s 74us/step - loss: 0.0326 - acc: 0.9902 - val_loss: 0.0437 - val_acc: 0.9869\n",
      "Epoch 7/10\n",
      "37800/37800 [==============================] - 3s 72us/step - loss: 0.0247 - acc: 0.9930 - val_loss: 0.0438 - val_acc: 0.9869\n",
      "Epoch 8/10\n",
      "37800/37800 [==============================] - 3s 74us/step - loss: 0.0217 - acc: 0.9933 - val_loss: 0.0451 - val_acc: 0.9876\n",
      "Epoch 00008: early stopping\n",
      "Train on 37800 samples, validate on 4200 samples\n",
      "Epoch 1/10\n",
      "37800/37800 [==============================] - 11s 289us/step - loss: 0.3909 - acc: 0.8794 - val_loss: 0.0857 - val_acc: 0.9750\n",
      "Epoch 2/10\n",
      "37800/37800 [==============================] - 3s 75us/step - loss: 0.0862 - acc: 0.9740 - val_loss: 0.0598 - val_acc: 0.9821\n",
      "Epoch 3/10\n"
     ]
    },
    {
     "name": "stdout",
     "output_type": "stream",
     "text": [
      "37800/37800 [==============================] - 3s 76us/step - loss: 0.0572 - acc: 0.9822 - val_loss: 0.0568 - val_acc: 0.9843\n",
      "Epoch 4/10\n",
      "37800/37800 [==============================] - 3s 76us/step - loss: 0.0441 - acc: 0.9867 - val_loss: 0.0522 - val_acc: 0.9833\n",
      "Epoch 5/10\n",
      "37800/37800 [==============================] - 3s 74us/step - loss: 0.0333 - acc: 0.9897 - val_loss: 0.0402 - val_acc: 0.9871\n",
      "Epoch 6/10\n",
      "37800/37800 [==============================] - 3s 73us/step - loss: 0.0306 - acc: 0.9906 - val_loss: 0.0403 - val_acc: 0.9883\n",
      "Epoch 7/10\n",
      "37800/37800 [==============================] - 3s 75us/step - loss: 0.0235 - acc: 0.9928 - val_loss: 0.0510 - val_acc: 0.9864\n",
      "Epoch 8/10\n",
      "37800/37800 [==============================] - 3s 74us/step - loss: 0.0189 - acc: 0.9937 - val_loss: 0.0395 - val_acc: 0.9888\n",
      "Epoch 00008: early stopping\n",
      "Train on 37800 samples, validate on 4200 samples\n",
      "Epoch 1/10\n",
      "37800/37800 [==============================] - 10s 266us/step - loss: 0.3475 - acc: 0.8957 - val_loss: 0.1073 - val_acc: 0.9648\n",
      "Epoch 2/10\n",
      "37800/37800 [==============================] - 3s 74us/step - loss: 0.0904 - acc: 0.9727 - val_loss: 0.0776 - val_acc: 0.9743\n",
      "Epoch 3/10\n",
      "37800/37800 [==============================] - 3s 75us/step - loss: 0.0578 - acc: 0.9822 - val_loss: 0.0499 - val_acc: 0.9843\n",
      "Epoch 4/10\n",
      "37800/37800 [==============================] - 3s 75us/step - loss: 0.0425 - acc: 0.9868 - val_loss: 0.0548 - val_acc: 0.9845\n",
      "Epoch 5/10\n",
      "37800/37800 [==============================] - 3s 74us/step - loss: 0.0351 - acc: 0.9888 - val_loss: 0.0433 - val_acc: 0.9876\n",
      "Epoch 6/10\n",
      "37800/37800 [==============================] - 3s 74us/step - loss: 0.0276 - acc: 0.9912 - val_loss: 0.0432 - val_acc: 0.9876\n",
      "Epoch 7/10\n",
      "37800/37800 [==============================] - 3s 74us/step - loss: 0.0250 - acc: 0.9920 - val_loss: 0.0517 - val_acc: 0.9855\n",
      "Epoch 00007: early stopping\n",
      "Train on 37800 samples, validate on 4200 samples\n",
      "Epoch 1/10\n",
      "37800/37800 [==============================] - 11s 298us/step - loss: 0.3553 - acc: 0.8913 - val_loss: 0.0905 - val_acc: 0.9702\n",
      "Epoch 2/10\n",
      "37800/37800 [==============================] - 3s 76us/step - loss: 0.0873 - acc: 0.9726 - val_loss: 0.0633 - val_acc: 0.9795\n",
      "Epoch 3/10\n",
      "37800/37800 [==============================] - 3s 75us/step - loss: 0.0593 - acc: 0.9820 - val_loss: 0.0523 - val_acc: 0.9826\n",
      "Epoch 4/10\n",
      "37800/37800 [==============================] - 3s 75us/step - loss: 0.0460 - acc: 0.9861 - val_loss: 0.0468 - val_acc: 0.9850\n",
      "Epoch 5/10\n",
      "37800/37800 [==============================] - 3s 76us/step - loss: 0.0362 - acc: 0.9891 - val_loss: 0.0475 - val_acc: 0.9864\n",
      "Epoch 6/10\n",
      "37800/37800 [==============================] - 3s 74us/step - loss: 0.0296 - acc: 0.9912 - val_loss: 0.0436 - val_acc: 0.9864\n",
      "Epoch 7/10\n",
      "37800/37800 [==============================] - 3s 75us/step - loss: 0.0237 - acc: 0.9928 - val_loss: 0.0433 - val_acc: 0.9888\n",
      "Epoch 8/10\n",
      "37800/37800 [==============================] - 3s 76us/step - loss: 0.0215 - acc: 0.9934 - val_loss: 0.0399 - val_acc: 0.9886\n",
      "Epoch 9/10\n",
      "37800/37800 [==============================] - 3s 74us/step - loss: 0.0182 - acc: 0.9944 - val_loss: 0.0528 - val_acc: 0.9886\n",
      "Epoch 00009: early stopping\n",
      "Train on 37800 samples, validate on 4200 samples\n",
      "Epoch 1/10\n",
      "37800/37800 [==============================] - 10s 270us/step - loss: 0.3357 - acc: 0.8978 - val_loss: 0.0950 - val_acc: 0.9707\n",
      "Epoch 2/10\n",
      "37800/37800 [==============================] - 3s 75us/step - loss: 0.0889 - acc: 0.9728 - val_loss: 0.0716 - val_acc: 0.9786\n",
      "Epoch 3/10\n",
      "37800/37800 [==============================] - 3s 75us/step - loss: 0.0606 - acc: 0.9813 - val_loss: 0.0455 - val_acc: 0.9860\n",
      "Epoch 4/10\n",
      "37800/37800 [==============================] - 3s 77us/step - loss: 0.0434 - acc: 0.9866 - val_loss: 0.0502 - val_acc: 0.9840\n",
      "Epoch 5/10\n",
      "37800/37800 [==============================] - 3s 76us/step - loss: 0.0377 - acc: 0.9889 - val_loss: 0.0445 - val_acc: 0.9869\n",
      "Epoch 00005: early stopping\n",
      "Train on 37800 samples, validate on 4200 samples\n",
      "Epoch 1/10\n",
      "37800/37800 [==============================] - 11s 296us/step - loss: 0.3616 - acc: 0.8881 - val_loss: 0.1017 - val_acc: 0.9676\n",
      "Epoch 2/10\n",
      "37800/37800 [==============================] - 3s 76us/step - loss: 0.0905 - acc: 0.9728 - val_loss: 0.0678 - val_acc: 0.9795\n",
      "Epoch 3/10\n",
      "37800/37800 [==============================] - 3s 76us/step - loss: 0.0613 - acc: 0.9815 - val_loss: 0.0508 - val_acc: 0.9845\n",
      "Epoch 4/10\n",
      "37800/37800 [==============================] - 3s 76us/step - loss: 0.0465 - acc: 0.9859 - val_loss: 0.0589 - val_acc: 0.9843\n",
      "Epoch 5/10\n",
      "37800/37800 [==============================] - 3s 75us/step - loss: 0.0355 - acc: 0.9889 - val_loss: 0.0541 - val_acc: 0.9833\n",
      "Epoch 00005: early stopping\n",
      "Train on 37800 samples, validate on 4200 samples\n",
      "Epoch 1/10\n",
      "37800/37800 [==============================] - 11s 298us/step - loss: 0.3334 - acc: 0.8979 - val_loss: 0.1032 - val_acc: 0.9679\n",
      "Epoch 2/10\n",
      "37800/37800 [==============================] - 3s 75us/step - loss: 0.0919 - acc: 0.9723 - val_loss: 0.0650 - val_acc: 0.9774\n",
      "Epoch 3/10\n",
      "37800/37800 [==============================] - 3s 75us/step - loss: 0.0612 - acc: 0.9815 - val_loss: 0.0550 - val_acc: 0.9831\n",
      "Epoch 4/10\n",
      "37800/37800 [==============================] - 3s 75us/step - loss: 0.0464 - acc: 0.9854 - val_loss: 0.0463 - val_acc: 0.9852\n",
      "Epoch 5/10\n",
      "37800/37800 [==============================] - 3s 74us/step - loss: 0.0377 - acc: 0.9882 - val_loss: 0.0490 - val_acc: 0.9869\n",
      "Epoch 6/10\n",
      "37800/37800 [==============================] - 3s 75us/step - loss: 0.0300 - acc: 0.9904 - val_loss: 0.0443 - val_acc: 0.9883\n",
      "Epoch 7/10\n",
      "37800/37800 [==============================] - 3s 75us/step - loss: 0.0251 - acc: 0.9924 - val_loss: 0.0546 - val_acc: 0.9855\n",
      "Epoch 8/10\n",
      "37800/37800 [==============================] - 3s 74us/step - loss: 0.0222 - acc: 0.9929 - val_loss: 0.0460 - val_acc: 0.9890\n",
      "Epoch 00008: early stopping\n",
      "Train on 37800 samples, validate on 4200 samples\n",
      "Epoch 1/10\n",
      "37800/37800 [==============================] - 13s 336us/step - loss: 0.3688 - acc: 0.8872 - val_loss: 0.1031 - val_acc: 0.9674\n",
      "Epoch 2/10\n",
      "37800/37800 [==============================] - 3s 75us/step - loss: 0.0937 - acc: 0.9726 - val_loss: 0.0655 - val_acc: 0.9800\n",
      "Epoch 3/10\n",
      "37800/37800 [==============================] - 3s 73us/step - loss: 0.0634 - acc: 0.9803 - val_loss: 0.0591 - val_acc: 0.9838\n",
      "Epoch 4/10\n",
      "37800/37800 [==============================] - 3s 75us/step - loss: 0.0478 - acc: 0.9858 - val_loss: 0.0561 - val_acc: 0.9836\n",
      "Epoch 5/10\n",
      "37800/37800 [==============================] - 3s 74us/step - loss: 0.0385 - acc: 0.9880 - val_loss: 0.0505 - val_acc: 0.9833\n",
      "Epoch 00005: early stopping\n",
      "Train on 37800 samples, validate on 4200 samples\n",
      "Epoch 1/10\n",
      "37800/37800 [==============================] - 11s 288us/step - loss: 0.3572 - acc: 0.8878 - val_loss: 0.0998 - val_acc: 0.9688\n",
      "Epoch 2/10\n",
      "37800/37800 [==============================] - 3s 76us/step - loss: 0.0970 - acc: 0.9712 - val_loss: 0.0673 - val_acc: 0.9793\n",
      "Epoch 3/10\n",
      "37800/37800 [==============================] - 3s 75us/step - loss: 0.0636 - acc: 0.9806 - val_loss: 0.0552 - val_acc: 0.9838\n",
      "Epoch 4/10\n",
      "37800/37800 [==============================] - 3s 75us/step - loss: 0.0493 - acc: 0.9850 - val_loss: 0.0506 - val_acc: 0.9857\n",
      "Epoch 5/10\n",
      "37800/37800 [==============================] - 3s 76us/step - loss: 0.0370 - acc: 0.9884 - val_loss: 0.0465 - val_acc: 0.9869\n",
      "Epoch 6/10\n",
      "37800/37800 [==============================] - 3s 75us/step - loss: 0.0315 - acc: 0.9902 - val_loss: 0.0491 - val_acc: 0.9860\n",
      "Epoch 7/10\n",
      "37800/37800 [==============================] - 3s 74us/step - loss: 0.0259 - acc: 0.9914 - val_loss: 0.0455 - val_acc: 0.9864\n",
      "Epoch 00007: early stopping\n",
      "Train on 37800 samples, validate on 4200 samples\n",
      "Epoch 1/10\n",
      "37800/37800 [==============================] - 11s 279us/step - loss: 0.3564 - acc: 0.8892 - val_loss: 0.0956 - val_acc: 0.9700\n",
      "Epoch 2/10\n",
      "37800/37800 [==============================] - 3s 76us/step - loss: 0.0913 - acc: 0.9722 - val_loss: 0.0762 - val_acc: 0.9771\n",
      "Epoch 3/10\n",
      "37800/37800 [==============================] - 3s 76us/step - loss: 0.0591 - acc: 0.9820 - val_loss: 0.0531 - val_acc: 0.9836\n",
      "Epoch 4/10\n"
     ]
    },
    {
     "name": "stdout",
     "output_type": "stream",
     "text": [
      "37800/37800 [==============================] - 3s 79us/step - loss: 0.0485 - acc: 0.9853 - val_loss: 0.0493 - val_acc: 0.9838\n",
      "Epoch 5/10\n",
      "37800/37800 [==============================] - 3s 75us/step - loss: 0.0387 - acc: 0.9880 - val_loss: 0.0520 - val_acc: 0.9860\n",
      "Epoch 6/10\n",
      "37800/37800 [==============================] - 3s 74us/step - loss: 0.0287 - acc: 0.9911 - val_loss: 0.0451 - val_acc: 0.9876\n",
      "Epoch 7/10\n",
      "37800/37800 [==============================] - 3s 75us/step - loss: 0.0266 - acc: 0.9917 - val_loss: 0.0460 - val_acc: 0.9855\n",
      "Epoch 8/10\n",
      "37800/37800 [==============================] - 3s 76us/step - loss: 0.0209 - acc: 0.9938 - val_loss: 0.0501 - val_acc: 0.9881\n",
      "Epoch 00008: early stopping\n",
      "Train on 37800 samples, validate on 4200 samples\n",
      "Epoch 1/10\n",
      "37800/37800 [==============================] - 11s 287us/step - loss: 0.3681 - acc: 0.8853 - val_loss: 0.1027 - val_acc: 0.9698\n",
      "Epoch 2/10\n",
      "37800/37800 [==============================] - 4s 100us/step - loss: 0.0899 - acc: 0.9722 - val_loss: 0.0582 - val_acc: 0.9812\n",
      "Epoch 3/10\n",
      "37800/37800 [==============================] - 3s 80us/step - loss: 0.0600 - acc: 0.9815 - val_loss: 0.0513 - val_acc: 0.9838\n",
      "Epoch 4/10\n",
      "37800/37800 [==============================] - 3s 83us/step - loss: 0.0450 - acc: 0.9861 - val_loss: 0.0540 - val_acc: 0.9852\n",
      "Epoch 5/10\n",
      "37800/37800 [==============================] - 4s 95us/step - loss: 0.0344 - acc: 0.9893 - val_loss: 0.0475 - val_acc: 0.9852\n",
      "Epoch 6/10\n",
      "37800/37800 [==============================] - 3s 89us/step - loss: 0.0283 - acc: 0.9907 - val_loss: 0.0525 - val_acc: 0.9845\n",
      "Epoch 00006: early stopping\n",
      "Train on 37800 samples, validate on 4200 samples\n",
      "Epoch 1/10\n",
      "37800/37800 [==============================] - 12s 321us/step - loss: 0.4007 - acc: 0.8800 - val_loss: 0.1014 - val_acc: 0.9679\n",
      "Epoch 2/10\n",
      "37800/37800 [==============================] - 3s 87us/step - loss: 0.0956 - acc: 0.9700 - val_loss: 0.0653 - val_acc: 0.9800\n",
      "Epoch 3/10\n",
      "37800/37800 [==============================] - 3s 86us/step - loss: 0.0643 - acc: 0.9801 - val_loss: 0.0576 - val_acc: 0.9814\n",
      "Epoch 4/10\n",
      "37800/37800 [==============================] - 3s 81us/step - loss: 0.0478 - acc: 0.9846 - val_loss: 0.0475 - val_acc: 0.9874\n",
      "Epoch 5/10\n",
      "37800/37800 [==============================] - 3s 81us/step - loss: 0.0426 - acc: 0.9865 - val_loss: 0.0465 - val_acc: 0.9860\n",
      "Epoch 6/10\n",
      "37800/37800 [==============================] - 3s 78us/step - loss: 0.0309 - acc: 0.9900 - val_loss: 0.0462 - val_acc: 0.9867\n",
      "Epoch 00006: early stopping\n",
      "Train on 37800 samples, validate on 4200 samples\n",
      "Epoch 1/10\n",
      "37800/37800 [==============================] - 12s 325us/step - loss: 0.3688 - acc: 0.8823 - val_loss: 0.1070 - val_acc: 0.9645\n",
      "Epoch 2/10\n",
      "37800/37800 [==============================] - 3s 81us/step - loss: 0.0973 - acc: 0.9698 - val_loss: 0.0765 - val_acc: 0.9774\n",
      "Epoch 3/10\n",
      "37800/37800 [==============================] - 3s 84us/step - loss: 0.0662 - acc: 0.9801 - val_loss: 0.0520 - val_acc: 0.9840\n",
      "Epoch 4/10\n",
      "37800/37800 [==============================] - 3s 84us/step - loss: 0.0499 - acc: 0.9850 - val_loss: 0.0621 - val_acc: 0.9819\n",
      "Epoch 5/10\n",
      "37800/37800 [==============================] - 3s 82us/step - loss: 0.0388 - acc: 0.9886 - val_loss: 0.0543 - val_acc: 0.9857\n",
      "Epoch 6/10\n",
      "37800/37800 [==============================] - 3s 84us/step - loss: 0.0307 - acc: 0.9900 - val_loss: 0.0479 - val_acc: 0.9864\n",
      "Epoch 7/10\n",
      "37800/37800 [==============================] - 3s 81us/step - loss: 0.0278 - acc: 0.9910 - val_loss: 0.0526 - val_acc: 0.9862\n",
      "Epoch 00007: early stopping\n",
      "Train on 37800 samples, validate on 4200 samples\n",
      "Epoch 1/10\n",
      "37800/37800 [==============================] - 12s 325us/step - loss: 0.3840 - acc: 0.8842 - val_loss: 0.0865 - val_acc: 0.9702\n",
      "Epoch 2/10\n",
      "37800/37800 [==============================] - 3s 83us/step - loss: 0.0874 - acc: 0.9733 - val_loss: 0.0659 - val_acc: 0.9795\n",
      "Epoch 3/10\n",
      "37800/37800 [==============================] - 3s 82us/step - loss: 0.0623 - acc: 0.9804 - val_loss: 0.0532 - val_acc: 0.9831\n",
      "Epoch 4/10\n",
      "37800/37800 [==============================] - 3s 84us/step - loss: 0.0482 - acc: 0.9854 - val_loss: 0.0462 - val_acc: 0.9867\n",
      "Epoch 5/10\n",
      "37800/37800 [==============================] - 3s 86us/step - loss: 0.0382 - acc: 0.9883 - val_loss: 0.0408 - val_acc: 0.9874\n",
      "Epoch 6/10\n",
      "37800/37800 [==============================] - 3s 85us/step - loss: 0.0305 - acc: 0.9904 - val_loss: 0.0413 - val_acc: 0.9886\n",
      "Epoch 7/10\n",
      "37800/37800 [==============================] - 3s 84us/step - loss: 0.0250 - acc: 0.9923 - val_loss: 0.0431 - val_acc: 0.9890\n",
      "Epoch 8/10\n",
      "37800/37800 [==============================] - 3s 81us/step - loss: 0.0231 - acc: 0.9930 - val_loss: 0.0344 - val_acc: 0.9888\n",
      "Epoch 00008: early stopping\n",
      "Train on 37800 samples, validate on 4200 samples\n",
      "Epoch 1/10\n",
      "37800/37800 [==============================] - 13s 334us/step - loss: 0.3307 - acc: 0.8985 - val_loss: 0.0825 - val_acc: 0.9738\n",
      "Epoch 2/10\n",
      "37800/37800 [==============================] - 3s 85us/step - loss: 0.0850 - acc: 0.9746 - val_loss: 0.0601 - val_acc: 0.9810\n",
      "Epoch 3/10\n",
      "37800/37800 [==============================] - 3s 85us/step - loss: 0.0570 - acc: 0.9825 - val_loss: 0.0535 - val_acc: 0.9855\n",
      "Epoch 4/10\n",
      "37800/37800 [==============================] - 3s 84us/step - loss: 0.0440 - acc: 0.9864 - val_loss: 0.0429 - val_acc: 0.9864\n",
      "Epoch 5/10\n",
      "37800/37800 [==============================] - 3s 84us/step - loss: 0.0350 - acc: 0.9885 - val_loss: 0.0457 - val_acc: 0.9852\n",
      "Epoch 00005: early stopping\n",
      "Train on 37800 samples, validate on 4200 samples\n",
      "Epoch 1/10\n",
      "37800/37800 [==============================] - 13s 338us/step - loss: 0.3384 - acc: 0.8939 - val_loss: 0.0946 - val_acc: 0.9714\n",
      "Epoch 2/10\n",
      "37800/37800 [==============================] - 3s 85us/step - loss: 0.0885 - acc: 0.9727 - val_loss: 0.0647 - val_acc: 0.9798\n",
      "Epoch 3/10\n",
      "37800/37800 [==============================] - 3s 86us/step - loss: 0.0599 - acc: 0.9822 - val_loss: 0.0569 - val_acc: 0.9819\n",
      "Epoch 4/10\n",
      "37800/37800 [==============================] - 3s 85us/step - loss: 0.0439 - acc: 0.9864 - val_loss: 0.0481 - val_acc: 0.9862\n",
      "Epoch 5/10\n",
      "37800/37800 [==============================] - 3s 86us/step - loss: 0.0366 - acc: 0.9883 - val_loss: 0.0451 - val_acc: 0.9871\n",
      "Epoch 6/10\n",
      "37800/37800 [==============================] - 3s 84us/step - loss: 0.0290 - acc: 0.9913 - val_loss: 0.0414 - val_acc: 0.9898\n",
      "Epoch 7/10\n",
      "37800/37800 [==============================] - 3s 86us/step - loss: 0.0245 - acc: 0.9923 - val_loss: 0.0477 - val_acc: 0.9881\n",
      "Epoch 8/10\n",
      "37800/37800 [==============================] - 3s 83us/step - loss: 0.0209 - acc: 0.9932 - val_loss: 0.0400 - val_acc: 0.9898\n",
      "Epoch 00008: early stopping\n",
      "Train on 37800 samples, validate on 4200 samples\n",
      "Epoch 1/10\n",
      "37800/37800 [==============================] - 13s 340us/step - loss: 0.3353 - acc: 0.8970 - val_loss: 0.1045 - val_acc: 0.9683\n",
      "Epoch 2/10\n",
      "37800/37800 [==============================] - 3s 87us/step - loss: 0.0906 - acc: 0.9723 - val_loss: 0.0720 - val_acc: 0.9769\n",
      "Epoch 3/10\n",
      "37800/37800 [==============================] - 3s 86us/step - loss: 0.0630 - acc: 0.9813 - val_loss: 0.0501 - val_acc: 0.9860\n",
      "Epoch 4/10\n",
      "37800/37800 [==============================] - 3s 85us/step - loss: 0.0493 - acc: 0.9853 - val_loss: 0.0494 - val_acc: 0.9845\n",
      "Epoch 5/10\n",
      "37800/37800 [==============================] - 3s 86us/step - loss: 0.0362 - acc: 0.9885 - val_loss: 0.0439 - val_acc: 0.9871\n",
      "Epoch 6/10\n",
      "37800/37800 [==============================] - 3s 85us/step - loss: 0.0302 - acc: 0.9901 - val_loss: 0.0509 - val_acc: 0.9871\n",
      "Epoch 7/10\n",
      "37800/37800 [==============================] - 3s 84us/step - loss: 0.0253 - acc: 0.9915 - val_loss: 0.0509 - val_acc: 0.9874\n",
      "Epoch 00007: early stopping\n",
      "Train on 37800 samples, validate on 4200 samples\n",
      "Epoch 1/10\n",
      "37800/37800 [==============================] - 13s 343us/step - loss: 0.3327 - acc: 0.8975 - val_loss: 0.0940 - val_acc: 0.9729\n",
      "Epoch 2/10\n",
      "37800/37800 [==============================] - 3s 88us/step - loss: 0.0880 - acc: 0.9725 - val_loss: 0.0658 - val_acc: 0.9798\n",
      "Epoch 3/10\n",
      "37800/37800 [==============================] - 3s 87us/step - loss: 0.0597 - acc: 0.9818 - val_loss: 0.0661 - val_acc: 0.9795\n",
      "Epoch 4/10\n"
     ]
    },
    {
     "name": "stdout",
     "output_type": "stream",
     "text": [
      "37800/37800 [==============================] - 3s 86us/step - loss: 0.0448 - acc: 0.9873 - val_loss: 0.0473 - val_acc: 0.9864\n",
      "Epoch 5/10\n",
      "37800/37800 [==============================] - 3s 85us/step - loss: 0.0373 - acc: 0.9888 - val_loss: 0.0465 - val_acc: 0.9867\n",
      "Epoch 6/10\n",
      "37800/37800 [==============================] - 3s 86us/step - loss: 0.0287 - acc: 0.9911 - val_loss: 0.0398 - val_acc: 0.9898\n",
      "Epoch 7/10\n",
      "37800/37800 [==============================] - 3s 85us/step - loss: 0.0244 - acc: 0.9926 - val_loss: 0.0425 - val_acc: 0.9883\n",
      "Epoch 8/10\n",
      "37800/37800 [==============================] - 3s 86us/step - loss: 0.0210 - acc: 0.9929 - val_loss: 0.0448 - val_acc: 0.9864\n",
      "Epoch 00008: early stopping\n",
      "Train on 37800 samples, validate on 4200 samples\n",
      "Epoch 1/10\n",
      "37800/37800 [==============================] - 13s 344us/step - loss: 0.3458 - acc: 0.8907 - val_loss: 0.0918 - val_acc: 0.9710\n",
      "Epoch 2/10\n",
      "37800/37800 [==============================] - 3s 87us/step - loss: 0.0908 - acc: 0.9722 - val_loss: 0.0609 - val_acc: 0.9821\n",
      "Epoch 3/10\n",
      "37800/37800 [==============================] - 3s 86us/step - loss: 0.0590 - acc: 0.9814 - val_loss: 0.0524 - val_acc: 0.9845\n",
      "Epoch 4/10\n",
      "37800/37800 [==============================] - 3s 86us/step - loss: 0.0443 - acc: 0.9862 - val_loss: 0.0487 - val_acc: 0.9862\n",
      "Epoch 5/10\n",
      "37800/37800 [==============================] - 3s 86us/step - loss: 0.0369 - acc: 0.9890 - val_loss: 0.0465 - val_acc: 0.9867\n",
      "Epoch 6/10\n",
      "37800/37800 [==============================] - 3s 86us/step - loss: 0.0328 - acc: 0.9901 - val_loss: 0.0483 - val_acc: 0.9857\n",
      "Epoch 00006: early stopping\n",
      "Train on 37800 samples, validate on 4200 samples\n",
      "Epoch 1/10\n",
      "37800/37800 [==============================] - 13s 353us/step - loss: 0.3373 - acc: 0.8957 - val_loss: 0.1063 - val_acc: 0.9695\n",
      "Epoch 2/10\n",
      "37800/37800 [==============================] - 3s 87us/step - loss: 0.0956 - acc: 0.9715 - val_loss: 0.0649 - val_acc: 0.9807\n",
      "Epoch 3/10\n",
      "37800/37800 [==============================] - 3s 85us/step - loss: 0.0649 - acc: 0.9803 - val_loss: 0.0662 - val_acc: 0.9790\n",
      "Epoch 4/10\n",
      "37800/37800 [==============================] - 3s 88us/step - loss: 0.0524 - acc: 0.9839 - val_loss: 0.0494 - val_acc: 0.9843\n",
      "Epoch 5/10\n",
      "37800/37800 [==============================] - 3s 86us/step - loss: 0.0407 - acc: 0.9871 - val_loss: 0.0501 - val_acc: 0.9850\n",
      "Epoch 6/10\n",
      "37800/37800 [==============================] - 3s 84us/step - loss: 0.0345 - acc: 0.9896 - val_loss: 0.0428 - val_acc: 0.9874\n",
      "Epoch 7/10\n",
      "37800/37800 [==============================] - 3s 86us/step - loss: 0.0261 - acc: 0.9925 - val_loss: 0.0473 - val_acc: 0.9867\n",
      "Epoch 8/10\n",
      "37800/37800 [==============================] - 3s 85us/step - loss: 0.0223 - acc: 0.9931 - val_loss: 0.0511 - val_acc: 0.9874\n",
      "Epoch 00008: early stopping\n",
      "Train on 37800 samples, validate on 4200 samples\n",
      "Epoch 1/10\n",
      "37800/37800 [==============================] - 13s 350us/step - loss: 0.3733 - acc: 0.8817 - val_loss: 0.0924 - val_acc: 0.9695\n",
      "Epoch 2/10\n",
      "37800/37800 [==============================] - 3s 86us/step - loss: 0.0843 - acc: 0.9739 - val_loss: 0.0655 - val_acc: 0.9807\n",
      "Epoch 3/10\n",
      "37800/37800 [==============================] - 3s 85us/step - loss: 0.0568 - acc: 0.9822 - val_loss: 0.0509 - val_acc: 0.9850\n",
      "Epoch 4/10\n",
      "37800/37800 [==============================] - 3s 86us/step - loss: 0.0419 - acc: 0.9873 - val_loss: 0.0524 - val_acc: 0.9857\n",
      "Epoch 5/10\n",
      "37800/37800 [==============================] - 3s 87us/step - loss: 0.0349 - acc: 0.9889 - val_loss: 0.0556 - val_acc: 0.9855\n",
      "Epoch 00005: early stopping\n",
      "Train on 37800 samples, validate on 4200 samples\n",
      "Epoch 1/10\n",
      "37800/37800 [==============================] - 13s 353us/step - loss: 0.3821 - acc: 0.8851 - val_loss: 0.0986 - val_acc: 0.9690\n",
      "Epoch 2/10\n",
      "37800/37800 [==============================] - 3s 92us/step - loss: 0.0883 - acc: 0.9726 - val_loss: 0.0743 - val_acc: 0.9771\n",
      "Epoch 3/10\n",
      "37800/37800 [==============================] - 3s 90us/step - loss: 0.0600 - acc: 0.9813 - val_loss: 0.0525 - val_acc: 0.9843\n",
      "Epoch 4/10\n",
      "37800/37800 [==============================] - 3s 86us/step - loss: 0.0471 - acc: 0.9848 - val_loss: 0.0594 - val_acc: 0.9824\n",
      "Epoch 5/10\n",
      "37800/37800 [==============================] - 3s 85us/step - loss: 0.0380 - acc: 0.9881 - val_loss: 0.0399 - val_acc: 0.9888\n",
      "Epoch 6/10\n",
      "37800/37800 [==============================] - 3s 87us/step - loss: 0.0302 - acc: 0.9908 - val_loss: 0.0450 - val_acc: 0.9888\n",
      "Epoch 7/10\n",
      "37800/37800 [==============================] - 3s 85us/step - loss: 0.0273 - acc: 0.9910 - val_loss: 0.0393 - val_acc: 0.9886\n",
      "Epoch 00007: early stopping\n",
      "Train on 37800 samples, validate on 4200 samples\n",
      "Epoch 1/10\n",
      "37800/37800 [==============================] - 13s 331us/step - loss: 0.3434 - acc: 0.8979 - val_loss: 0.0994 - val_acc: 0.9683\n",
      "Epoch 2/10\n",
      "37800/37800 [==============================] - 3s 86us/step - loss: 0.0856 - acc: 0.9742 - val_loss: 0.0601 - val_acc: 0.9807\n",
      "Epoch 3/10\n",
      "37800/37800 [==============================] - 3s 85us/step - loss: 0.0591 - acc: 0.9816 - val_loss: 0.0530 - val_acc: 0.9848\n",
      "Epoch 4/10\n",
      "37800/37800 [==============================] - 3s 84us/step - loss: 0.0438 - acc: 0.9863 - val_loss: 0.0497 - val_acc: 0.9850\n",
      "Epoch 5/10\n",
      "37800/37800 [==============================] - 3s 84us/step - loss: 0.0348 - acc: 0.9891 - val_loss: 0.0469 - val_acc: 0.9838\n",
      "Epoch 00005: early stopping\n",
      "Train on 37800 samples, validate on 4200 samples\n",
      "Epoch 1/10\n",
      "37800/37800 [==============================] - 13s 355us/step - loss: 0.3884 - acc: 0.8798 - val_loss: 0.0927 - val_acc: 0.9705\n",
      "Epoch 2/10\n",
      "37800/37800 [==============================] - 3s 85us/step - loss: 0.0917 - acc: 0.9721 - val_loss: 0.0585 - val_acc: 0.9821\n",
      "Epoch 3/10\n",
      "37800/37800 [==============================] - 3s 85us/step - loss: 0.0622 - acc: 0.9813 - val_loss: 0.0530 - val_acc: 0.9826\n",
      "Epoch 4/10\n",
      "37800/37800 [==============================] - 3s 84us/step - loss: 0.0490 - acc: 0.9853 - val_loss: 0.0395 - val_acc: 0.9886\n",
      "Epoch 5/10\n",
      "37800/37800 [==============================] - 3s 85us/step - loss: 0.0369 - acc: 0.9884 - val_loss: 0.0414 - val_acc: 0.9879\n",
      "Epoch 6/10\n",
      "37800/37800 [==============================] - 3s 84us/step - loss: 0.0295 - acc: 0.9906 - val_loss: 0.0400 - val_acc: 0.9876\n",
      "Epoch 00006: early stopping\n",
      "Train on 37800 samples, validate on 4200 samples\n",
      "Epoch 1/10\n",
      "37800/37800 [==============================] - 13s 334us/step - loss: 0.3510 - acc: 0.8917 - val_loss: 0.0910 - val_acc: 0.9683\n",
      "Epoch 2/10\n",
      "37800/37800 [==============================] - 3s 92us/step - loss: 0.0914 - acc: 0.9720 - val_loss: 0.0654 - val_acc: 0.9807\n",
      "Epoch 3/10\n",
      "37800/37800 [==============================] - 3s 89us/step - loss: 0.0629 - acc: 0.9807 - val_loss: 0.0640 - val_acc: 0.9805\n",
      "Epoch 4/10\n",
      "37800/37800 [==============================] - 3s 86us/step - loss: 0.0474 - acc: 0.9852 - val_loss: 0.0511 - val_acc: 0.9850\n",
      "Epoch 5/10\n",
      "37800/37800 [==============================] - 3s 86us/step - loss: 0.0359 - acc: 0.9888 - val_loss: 0.0427 - val_acc: 0.9857\n",
      "Epoch 6/10\n",
      "37800/37800 [==============================] - 3s 85us/step - loss: 0.0308 - acc: 0.9904 - val_loss: 0.0507 - val_acc: 0.9862\n",
      "Epoch 7/10\n",
      "37800/37800 [==============================] - 3s 84us/step - loss: 0.0271 - acc: 0.9908 - val_loss: 0.0511 - val_acc: 0.9867\n",
      "Epoch 8/10\n",
      "37800/37800 [==============================] - 3s 84us/step - loss: 0.0216 - acc: 0.9930 - val_loss: 0.0496 - val_acc: 0.9871\n",
      "Epoch 00008: early stopping\n",
      "Train on 37800 samples, validate on 4200 samples\n",
      "Epoch 1/10\n",
      "37800/37800 [==============================] - 13s 343us/step - loss: 0.3492 - acc: 0.8895 - val_loss: 0.0931 - val_acc: 0.9710\n",
      "Epoch 2/10\n",
      "37800/37800 [==============================] - 3s 89us/step - loss: 0.0928 - acc: 0.9721 - val_loss: 0.0750 - val_acc: 0.9767\n",
      "Epoch 3/10\n",
      "37800/37800 [==============================] - 3s 88us/step - loss: 0.0625 - acc: 0.9815 - val_loss: 0.0622 - val_acc: 0.9812\n",
      "Epoch 4/10\n",
      "37800/37800 [==============================] - 3s 90us/step - loss: 0.0463 - acc: 0.9859 - val_loss: 0.0415 - val_acc: 0.9881\n",
      "Epoch 5/10\n",
      "37800/37800 [==============================] - 3s 89us/step - loss: 0.0355 - acc: 0.9888 - val_loss: 0.0459 - val_acc: 0.9867\n",
      "Epoch 6/10\n"
     ]
    },
    {
     "name": "stdout",
     "output_type": "stream",
     "text": [
      "37800/37800 [==============================] - 3s 89us/step - loss: 0.0290 - acc: 0.9906 - val_loss: 0.0433 - val_acc: 0.9871\n",
      "Epoch 00006: early stopping\n",
      "Train on 37800 samples, validate on 4200 samples\n",
      "Epoch 1/10\n",
      "37800/37800 [==============================] - 13s 355us/step - loss: 0.3602 - acc: 0.8887 - val_loss: 0.0987 - val_acc: 0.9686\n",
      "Epoch 2/10\n",
      "37800/37800 [==============================] - 3s 92us/step - loss: 0.0888 - acc: 0.9729 - val_loss: 0.0568 - val_acc: 0.9819\n",
      "Epoch 3/10\n",
      "37800/37800 [==============================] - 4s 94us/step - loss: 0.0591 - acc: 0.9816 - val_loss: 0.0511 - val_acc: 0.9826\n",
      "Epoch 4/10\n",
      "37800/37800 [==============================] - 3s 92us/step - loss: 0.0476 - acc: 0.9852 - val_loss: 0.0501 - val_acc: 0.9852\n",
      "Epoch 5/10\n",
      "37800/37800 [==============================] - 3s 90us/step - loss: 0.0356 - acc: 0.9890 - val_loss: 0.0405 - val_acc: 0.9869\n",
      "Epoch 6/10\n",
      "37800/37800 [==============================] - 4s 94us/step - loss: 0.0315 - acc: 0.9901 - val_loss: 0.0443 - val_acc: 0.9874\n",
      "Epoch 7/10\n",
      "37800/37800 [==============================] - 3s 90us/step - loss: 0.0262 - acc: 0.9919 - val_loss: 0.0369 - val_acc: 0.9890\n",
      "Epoch 8/10\n",
      "37800/37800 [==============================] - 3s 90us/step - loss: 0.0218 - acc: 0.9934 - val_loss: 0.0429 - val_acc: 0.9890\n",
      "Epoch 9/10\n",
      "37800/37800 [==============================] - 4s 93us/step - loss: 0.0177 - acc: 0.9941 - val_loss: 0.0440 - val_acc: 0.9879\n",
      "Epoch 00009: early stopping\n",
      "Train on 37800 samples, validate on 4200 samples\n",
      "Epoch 1/10\n",
      "37800/37800 [==============================] - 13s 346us/step - loss: 0.3548 - acc: 0.8928 - val_loss: 0.1096 - val_acc: 0.9676\n",
      "Epoch 2/10\n",
      "37800/37800 [==============================] - 3s 91us/step - loss: 0.0943 - acc: 0.9715 - val_loss: 0.0662 - val_acc: 0.9793\n",
      "Epoch 3/10\n",
      "37800/37800 [==============================] - 3s 88us/step - loss: 0.0619 - acc: 0.9815 - val_loss: 0.0591 - val_acc: 0.9838\n",
      "Epoch 4/10\n",
      "37800/37800 [==============================] - 3s 88us/step - loss: 0.0492 - acc: 0.9853 - val_loss: 0.0569 - val_acc: 0.9829\n",
      "Epoch 5/10\n",
      "37800/37800 [==============================] - 3s 88us/step - loss: 0.0396 - acc: 0.9874 - val_loss: 0.0431 - val_acc: 0.9864\n",
      "Epoch 6/10\n",
      "37800/37800 [==============================] - 3s 88us/step - loss: 0.0322 - acc: 0.9899 - val_loss: 0.0463 - val_acc: 0.9867\n",
      "Epoch 7/10\n",
      "37800/37800 [==============================] - 3s 88us/step - loss: 0.0277 - acc: 0.9914 - val_loss: 0.0388 - val_acc: 0.9890\n",
      "Epoch 8/10\n",
      "37800/37800 [==============================] - 3s 88us/step - loss: 0.0213 - acc: 0.9933 - val_loss: 0.0521 - val_acc: 0.9862\n",
      "Epoch 9/10\n",
      "37800/37800 [==============================] - 3s 86us/step - loss: 0.0212 - acc: 0.9927 - val_loss: 0.0501 - val_acc: 0.9871\n",
      "Epoch 00009: early stopping\n",
      "Train on 37800 samples, validate on 4200 samples\n",
      "Epoch 1/10\n",
      "37800/37800 [==============================] - 13s 353us/step - loss: 0.3435 - acc: 0.8940 - val_loss: 0.0955 - val_acc: 0.9712\n",
      "Epoch 2/10\n",
      "37800/37800 [==============================] - 4s 96us/step - loss: 0.0898 - acc: 0.9726 - val_loss: 0.0637 - val_acc: 0.9798\n",
      "Epoch 3/10\n",
      "37800/37800 [==============================] - 4s 97us/step - loss: 0.0619 - acc: 0.9810 - val_loss: 0.0579 - val_acc: 0.9807\n",
      "Epoch 4/10\n",
      "37800/37800 [==============================] - 4s 95us/step - loss: 0.0451 - acc: 0.9865 - val_loss: 0.0478 - val_acc: 0.9860\n",
      "Epoch 5/10\n",
      "37800/37800 [==============================] - 4s 95us/step - loss: 0.0368 - acc: 0.9887 - val_loss: 0.0508 - val_acc: 0.9848\n",
      "Epoch 6/10\n",
      "37800/37800 [==============================] - 4s 94us/step - loss: 0.0297 - acc: 0.9902 - val_loss: 0.0480 - val_acc: 0.9874\n",
      "Epoch 7/10\n",
      "37800/37800 [==============================] - 4s 93us/step - loss: 0.0255 - acc: 0.9918 - val_loss: 0.0432 - val_acc: 0.9900\n",
      "Epoch 8/10\n",
      "37800/37800 [==============================] - 4s 94us/step - loss: 0.0218 - acc: 0.9927 - val_loss: 0.0454 - val_acc: 0.9879\n",
      "Epoch 9/10\n",
      "37800/37800 [==============================] - 4s 95us/step - loss: 0.0176 - acc: 0.9945 - val_loss: 0.0443 - val_acc: 0.9888\n",
      "Epoch 00009: early stopping\n",
      "Train on 37800 samples, validate on 4200 samples\n",
      "Epoch 1/10\n",
      "37800/37800 [==============================] - 14s 362us/step - loss: 0.3261 - acc: 0.9023 - val_loss: 0.0930 - val_acc: 0.9695\n",
      "Epoch 2/10\n",
      "37800/37800 [==============================] - 4s 97us/step - loss: 0.0858 - acc: 0.9736 - val_loss: 0.0589 - val_acc: 0.9829\n",
      "Epoch 3/10\n",
      "37800/37800 [==============================] - 4s 96us/step - loss: 0.0597 - acc: 0.9821 - val_loss: 0.0518 - val_acc: 0.9843\n",
      "Epoch 4/10\n",
      "37800/37800 [==============================] - 4s 96us/step - loss: 0.0420 - acc: 0.9868 - val_loss: 0.0530 - val_acc: 0.9850\n",
      "Epoch 5/10\n",
      "37800/37800 [==============================] - 4s 95us/step - loss: 0.0341 - acc: 0.9891 - val_loss: 0.0446 - val_acc: 0.9862\n",
      "Epoch 6/10\n",
      "37800/37800 [==============================] - 4s 96us/step - loss: 0.0272 - acc: 0.9910 - val_loss: 0.0459 - val_acc: 0.9883\n",
      "Epoch 7/10\n",
      "37800/37800 [==============================] - 4s 94us/step - loss: 0.0260 - acc: 0.9913 - val_loss: 0.0412 - val_acc: 0.9879\n",
      "Epoch 8/10\n",
      "37800/37800 [==============================] - 4s 94us/step - loss: 0.0226 - acc: 0.9928 - val_loss: 0.0494 - val_acc: 0.9881\n",
      "Epoch 00008: early stopping\n"
     ]
    }
   ],
   "source": [
    "Y_test_pred = np.ndarray((28000,100))\n",
    "for run in range(100):\n",
    "    model = cnn3_model()\n",
    "    model.fit(X_train, y_train, validation_data=(X_test, y_test), epochs=10, batch_size=200, callbacks=[EarlyStopping(monitor='val_acc', min_delta=0.001, patience=2, verbose=1, mode='auto')])\n",
    "    Y_test_pred[:,run] = model.predict_classes(X_subm)"
   ]
  },
  {
   "cell_type": "code",
   "execution_count": 68,
   "metadata": {},
   "outputs": [],
   "source": [
    "Y_ensemb = stats.mode(Y_test_pred, axis=1)[0].astype(int)"
   ]
  },
  {
   "cell_type": "code",
   "execution_count": 69,
   "metadata": {},
   "outputs": [],
   "source": [
    "subm = pd.DataFrame({\"ImageId\": np.arange(1, m+1), \"Label\": Y_ensemb.flatten()})"
   ]
  },
  {
   "cell_type": "code",
   "execution_count": 70,
   "metadata": {},
   "outputs": [],
   "source": [
    "subm.to_csv(\"subm_ensemble100.csv\", index=False)"
   ]
  },
  {
   "cell_type": "code",
   "execution_count": 46,
   "metadata": {},
   "outputs": [
    {
     "name": "stdout",
     "output_type": "stream",
     "text": [
      "[[6886    4    1    0    2    0    5    1    2    2]\n",
      " [   1 7862    4    0    1    0    1    7    1    0]\n",
      " [   4    4 6951    3    2    0    2    9   13    2]\n",
      " [   1    3   10 7094    0    9    0    8   12    4]\n",
      " [   2    6    0    0 6797    0    2    5    2   10]\n",
      " [   2    2    1   11    1 6260   21    2   10    3]\n",
      " [   5    7    0    0    4    1 6859    0    0    0]\n",
      " [   1   19   14    1    7    1    0 7238    4    8]\n",
      " [   4   13    3    6    3    7   12    1 6771    5]\n",
      " [   6    6    0    5   23    7    0   12   10 6889]]\n"
     ]
    },
    {
     "data": {
      "text/plain": [
       "0.9943857142857143"
      ]
     },
     "execution_count": 46,
     "metadata": {},
     "output_type": "execute_result"
    }
   ],
   "source": [
    "print(confusion_matrix(Y_test_true, Y_ensemb))\n",
    "accuracy_score(my, Y_ensemb)"
   ]
  },
  {
   "cell_type": "code",
   "execution_count": 50,
   "metadata": {},
   "outputs": [
    {
     "name": "stdout",
     "output_type": "stream",
     "text": [
      "[[6888    0    0    1    2    1    3    1    5    2]\n",
      " [   1 7844   11    0    1    1    3   13    2    1]\n",
      " [   4    3 6964    3    2    0    1    5    6    2]\n",
      " [   1    1   15 7100    0    8    0    8    5    3]\n",
      " [   3    7    2    0 6796    0    2    3    2    9]\n",
      " [   3    2    1   11    1 6271   11    0    9    4]\n",
      " [   9    6    0    1    4    5 6849    0    2    0]\n",
      " [   1    8   14    4    5    2    0 7249    3    7]\n",
      " [   4    7    7    5    7    9    7    1 6768   10]\n",
      " [   7    4    0    5   15    8    1   13    7 6898]]\n"
     ]
    },
    {
     "data": {
      "text/plain": [
       "0.9946714285714285"
      ]
     },
     "execution_count": 50,
     "metadata": {},
     "output_type": "execute_result"
    }
   ],
   "source": [
    "print(confusion_matrix(Y_test_true, Y_ensemb))\n",
    "accuracy_score(my, Y_ensemb)"
   ]
  },
  {
   "cell_type": "code",
   "execution_count": 55,
   "metadata": {},
   "outputs": [
    {
     "name": "stdout",
     "output_type": "stream",
     "text": [
      "[[6891    0    0    0    2    1    2    1    4    2]\n",
      " [   1 7850    9    1    2    2    2    7    3    0]\n",
      " [   3    4 6957    4    1    0    1   11    7    2]\n",
      " [   0    0    9 7106    0   11    0    7    4    4]\n",
      " [   3    7    0    0 6785    0    2    4    3   20]\n",
      " [   3    2    1    8    0 6272   16    0    9    2]\n",
      " [   8    3    1    0    4    3 6851    0    6    0]\n",
      " [   1   10    9    3    5    2    0 7251    5    7]\n",
      " [   4    4    8    5    4    8    4    3 6781    4]\n",
      " [   5    3    0    5   11    7    0    9   11 6907]]\n"
     ]
    },
    {
     "data": {
      "text/plain": [
       "0.9950142857142857"
      ]
     },
     "execution_count": 55,
     "metadata": {},
     "output_type": "execute_result"
    }
   ],
   "source": [
    "print(confusion_matrix(Y_test_true, Y_ensemb))\n",
    "accuracy_score(my, Y_ensemb)"
   ]
  },
  {
   "cell_type": "code",
   "execution_count": 58,
   "metadata": {},
   "outputs": [
    {
     "name": "stdout",
     "output_type": "stream",
     "text": [
      "[[6887    2    1    0    1    1    6    1    2    2]\n",
      " [   1 7854    7    0    2    2    2    7    2    0]\n",
      " [   4    3 6960    4    1    0    1   10    5    2]\n",
      " [   0    2    9 7105    0   10    0    8    3    4]\n",
      " [   2    5    0    0 6794    0    5    3    2   13]\n",
      " [   4    2    1    9    0 6271   16    0    6    4]\n",
      " [   7    5    0    0    4    2 6857    0    1    0]\n",
      " [   1    9    7    3    4    2    0 7258    4    5]\n",
      " [   4    8    7    5    5    8    9    4 6767    8]\n",
      " [   6    3    0    4   15    5    1    9    5 6910]]\n"
     ]
    },
    {
     "data": {
      "text/plain": [
       "0.9951857142857143"
      ]
     },
     "execution_count": 58,
     "metadata": {},
     "output_type": "execute_result"
    }
   ],
   "source": [
    "print(confusion_matrix(Y_test_true, Y_ensemb))\n",
    "accuracy_score(my, Y_ensemb)"
   ]
  },
  {
   "cell_type": "code",
   "execution_count": null,
   "metadata": {},
   "outputs": [],
   "source": [
    "print(confusion_matrix(Y_test_true, Y_ensemb))\n",
    "accuracy_score(my, Y_ensemb)"
   ]
  },
  {
   "cell_type": "code",
   "execution_count": null,
   "metadata": {},
   "outputs": [],
   "source": []
  }
 ],
 "metadata": {
  "kernelspec": {
   "display_name": "Python 3",
   "language": "python",
   "name": "python3"
  },
  "language_info": {
   "codemirror_mode": {
    "name": "ipython",
    "version": 3
   },
   "file_extension": ".py",
   "mimetype": "text/x-python",
   "name": "python",
   "nbconvert_exporter": "python",
   "pygments_lexer": "ipython3",
   "version": "3.6.5"
  }
 },
 "nbformat": 4,
 "nbformat_minor": 2
}
